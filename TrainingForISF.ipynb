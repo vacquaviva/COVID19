{
  "nbformat": 4,
  "nbformat_minor": 0,
  "metadata": {
    "colab": {
      "name": "TrainingForISF.ipynb",
      "provenance": [],
      "collapsed_sections": [],
      "authorship_tag": "ABX9TyMOC4icoEek/pkFc0ztnaIr"
    },
    "kernelspec": {
      "name": "python3",
      "display_name": "Python 3"
    }
  },
  "cells": [
    {
      "cell_type": "code",
      "metadata": {
        "scrolled": true,
        "id": "lSiWBZHP73bC",
        "colab_type": "code",
        "colab": {}
      },
      "source": [
        "import numpy as np\n",
        "import pandas as pd\n",
        "import h5py\n",
        "\n",
        "pd.set_option('display.max_columns', 500)\n",
        "pd.set_option('display.max_colwidth', 100)\n",
        "\n",
        "%matplotlib inline\n",
        "import matplotlib.pyplot as plt\n",
        "from matplotlib import rc\n",
        "rc('font',**{'family':'sans-serif','sans-serif':['Helvetica']})\n",
        "rc('text', usetex=False)"
      ],
      "execution_count": 0,
      "outputs": []
    },
    {
      "cell_type": "code",
      "metadata": {
        "id": "sWjBXPFTSC-P",
        "colab_type": "code",
        "colab": {}
      },
      "source": [
        "from sklearn.ensemble import RandomForestRegressor\n",
        "from sklearn.preprocessing import StandardScaler, RobustScaler\n",
        "from sklearn.model_selection import cross_val_predict, cross_val_score, cross_validate\n",
        "from sklearn.model_selection import train_test_split, KFold\n",
        "from sklearn import metrics\n",
        "from sklearn.model_selection import GridSearchCV\n",
        "from sklearn.metrics import make_scorer\n",
        "from sklearn.pipeline import make_pipeline\n",
        "from sklearn.feature_selection import SelectFromModel\n",
        "from scipy.stats import spearmanr"
      ],
      "execution_count": 0,
      "outputs": []
    },
    {
      "cell_type": "code",
      "metadata": {
        "id": "618EX1zua9rf",
        "colab_type": "code",
        "colab": {}
      },
      "source": [
        "from sklearn.covariance import LedoitWolf, OAS, ShrunkCovariance, \\\n",
        "    log_likelihood, empirical_covariance"
      ],
      "execution_count": 0,
      "outputs": []
    },
    {
      "cell_type": "code",
      "metadata": {
        "id": "Z9OAzBJM08bw",
        "colab_type": "code",
        "colab": {}
      },
      "source": [
        "import time"
      ],
      "execution_count": 0,
      "outputs": []
    },
    {
      "cell_type": "code",
      "metadata": {
        "id": "-K4RzuzI8O-K",
        "colab_type": "code",
        "outputId": "d834d686-6851-43f7-e299-f655c9f2893a",
        "colab": {
          "base_uri": "https://localhost:8080/",
          "height": 52
        }
      },
      "source": [
        "from google.colab import drive\n",
        "drive.mount('/gdrive')\n",
        "%cd /gdrive"
      ],
      "execution_count": 55,
      "outputs": [
        {
          "output_type": "stream",
          "text": [
            "Drive already mounted at /gdrive; to attempt to forcibly remount, call drive.mount(\"/gdrive\", force_remount=True).\n",
            "/gdrive\n"
          ],
          "name": "stdout"
        }
      ]
    },
    {
      "cell_type": "markdown",
      "metadata": {
        "id": "yUzQlm83rFEW",
        "colab_type": "text"
      },
      "source": [
        "Useful ref:\n",
        "\n",
        "http://docs.h5py.org/en/stable/quick.html"
      ]
    },
    {
      "cell_type": "markdown",
      "metadata": {
        "id": "ZefWQGPFrE5d",
        "colab_type": "text"
      },
      "source": [
        ""
      ]
    },
    {
      "cell_type": "code",
      "metadata": {
        "id": "y1ugZAUczx5z",
        "colab_type": "code",
        "colab": {}
      },
      "source": [
        "prefixes = ['bc03_','fsps_','fsps_neb_','bpass_','bpass_sin_']\n",
        "\n",
        "dusts = ['int_','dustA_', 'dustB_', 'dustC_']\n",
        "\n",
        "listofspec = [p+d+'spec' for p in prefixes for d in dusts]"
      ],
      "execution_count": 0,
      "outputs": []
    },
    {
      "cell_type": "code",
      "metadata": {
        "colab_type": "code",
        "id": "N92TpdtmNk5f",
        "colab": {}
      },
      "source": [
        "# Thanks to this kind soul\n",
        "# https://stackoverflow.com/questions/51548551/reading-nested-h5-group-into-numpy-array\n",
        "\n",
        "def traverse_datasets(hdf_file):\n",
        "\n",
        "    def h5py_dataset_iterator(g, prefix=''):\n",
        "        for key in g.keys():\n",
        "            item = g[key]\n",
        "            path = f'{prefix}/{key}'\n",
        "            if isinstance(item, h5py.Dataset): # test for dataset\n",
        "                yield (path, item)\n",
        "            elif isinstance(item, h5py.Group): # test for group (go down)\n",
        "                yield from h5py_dataset_iterator(item, path)\n",
        "\n",
        "    for path, _ in h5py_dataset_iterator(hdf_file):\n",
        "        yield path"
      ],
      "execution_count": 0,
      "outputs": []
    },
    {
      "cell_type": "code",
      "metadata": {
        "id": "N1V5vOpossip",
        "colab_type": "code",
        "colab": {}
      },
      "source": [
        "with h5py.File('My Drive/Similarity/illustris.h5', 'r') as f:\n",
        "    for dset in traverse_datasets(f):\n",
        "        print('Path:', dset)\n",
        "        print('Shape:', f[dset].shape)\n",
        "        print('Data type:', f[dset].dtype)"
      ],
      "execution_count": 0,
      "outputs": []
    },
    {
      "cell_type": "code",
      "metadata": {
        "id": "FH7EfbWS93km",
        "colab_type": "code",
        "colab": {}
      },
      "source": [
        "#Read in data, SFHs, stellar mass\n",
        "\n",
        "spectra = {}\n",
        "\n",
        "with h5py.File('My Drive/Similarity/illustris.h5','r') as f:\n",
        "    spectra = {'bc03_int_spec': f['Spectra/bc03 Intrinsic/spectrum'][:], #6473 gals, 4601 wavelengths\n",
        "    'bc03_dustA_spec' : f['Spectra/bc03 Dust_A/spectrum'][:], \n",
        "    'bc03_dustB_spec' : f['Spectra/bc03 Dust_B/spectrum'][:],\n",
        "    'bc03_dustC_spec' : f['Spectra/bc03 Dust_C/spectrum'][:],\n",
        "    'fsps_int_spec' : f['Spectra/fsps Intrinsic/spectrum'][:],\n",
        "    'fsps_dustA_spec' : f['Spectra/fsps Dust_A/spectrum'][:],\n",
        "    'fsps_dustB_spec' : f['Spectra/fsps Dust_B/spectrum'][:],\n",
        "    'fsps_dustC_spec' : f['Spectra/fsps Dust_C/spectrum'][:],\n",
        "    'fsps_neb_int_spec' : f['Spectra/fsps Intrinsic/spectrum'][:],\n",
        "    'fsps_neb_dustA_spec' : f['Spectra/fsps_neb Dust_A/spectrum'][:],\n",
        "    'fsps_neb_dustB_spec' : f['Spectra/fsps_neb Dust_B/spectrum'][:],\n",
        "    'fsps_neb_dustC_spec' : f['Spectra/fsps_neb Dust_C/spectrum'][:],\n",
        "    'bpass_int_spec' : f['Spectra/bpass Intrinsic/spectrum'][:],\n",
        "    'bpass_dustA_spec' : f['Spectra/bpass Dust_A/spectrum'][:],\n",
        "    'bpass_dustB_spec' : f['Spectra/bpass Dust_B/spectrum'][:],\n",
        "    'bpass_dustC_spec' : f['Spectra/bpass Dust_C/spectrum'][:],\n",
        "    'bpass_sin_int_spec' : f['Spectra/bpass_sin Intrinsic/spectrum'][:],\n",
        "    'bpass_sin_dustA_spec' : f['Spectra/bpass_sin Dust_A/spectrum'][:],\n",
        "    'bpass_sin_dustB_spec' : f['Spectra/bpass_sin Dust_B/spectrum'][:],\n",
        "    'bpass_sin_dustC_spec' : f['Spectra/bpass_sin Dust_C/spectrum'][:]}\n",
        "    \n",
        "    wl = f['Spectra/bc03 Dust_A/wavelength'][:]\n",
        "\n",
        "    SFHs = f['SFH/log_8'][:]\n",
        "\n",
        "    SMass = f['/Subhalos/Stellar Mass'][:]\n",
        "\n",
        "    binlimits = f['/bins/log_8/binLimits'][:] \n"
      ],
      "execution_count": 0,
      "outputs": []
    },
    {
      "cell_type": "code",
      "metadata": {
        "id": "4wdBoVCZOpvJ",
        "colab_type": "code",
        "colab": {}
      },
      "source": [
        "ref_spec = spectra['fsps_dustB_spec']"
      ],
      "execution_count": 0,
      "outputs": []
    },
    {
      "cell_type": "markdown",
      "metadata": {
        "id": "zTI4YFzPRdPC",
        "colab_type": "text"
      },
      "source": [
        "Let's log those spectra"
      ]
    },
    {
      "cell_type": "code",
      "metadata": {
        "id": "TWgMKOpNRerx",
        "colab_type": "code",
        "colab": {}
      },
      "source": [
        "X = np.log10(ref_spec)"
      ],
      "execution_count": 0,
      "outputs": []
    },
    {
      "cell_type": "code",
      "metadata": {
        "id": "tvOoxJ9gRsWj",
        "colab_type": "code",
        "outputId": "c6dfce07-61ab-4230-f046-b5f14e5d4d6f",
        "colab": {
          "base_uri": "https://localhost:8080/",
          "height": 34
        }
      },
      "source": [
        "X.shape"
      ],
      "execution_count": 0,
      "outputs": [
        {
          "output_type": "execute_result",
          "data": {
            "text/plain": [
              "(6473, 4601)"
            ]
          },
          "metadata": {
            "tags": []
          },
          "execution_count": 10
        }
      ]
    },
    {
      "cell_type": "code",
      "metadata": {
        "id": "q3oI32rGNsez",
        "colab_type": "code",
        "colab": {}
      },
      "source": [
        "np.random.seed(10)\n",
        "\n",
        "sel = np.random.choice(X.shape[0], 650)\n",
        "#make it smaller"
      ],
      "execution_count": 0,
      "outputs": []
    },
    {
      "cell_type": "code",
      "metadata": {
        "id": "hyLb7BMmRtbl",
        "colab_type": "code",
        "colab": {}
      },
      "source": [
        "model = RandomForestRegressor()"
      ],
      "execution_count": 0,
      "outputs": []
    },
    {
      "cell_type": "code",
      "metadata": {
        "id": "dF4jShvVUexx",
        "colab_type": "code",
        "colab": {}
      },
      "source": [
        "cv = KFold(shuffle = True, n_splits=5)"
      ],
      "execution_count": 0,
      "outputs": []
    },
    {
      "cell_type": "code",
      "metadata": {
        "id": "0MRW26GSAD7_",
        "colab_type": "code",
        "colab": {}
      },
      "source": [
        "target0 = SFHs[sel,0] #look at most recent bin"
      ],
      "execution_count": 0,
      "outputs": []
    },
    {
      "cell_type": "code",
      "metadata": {
        "id": "M6u7I_v7zRn3",
        "colab_type": "code",
        "colab": {}
      },
      "source": [
        "def smape(true,pred):\n",
        "  return 2 * np.sum(np.abs(true-pred))/np.sum(true+pred)"
      ],
      "execution_count": 0,
      "outputs": []
    },
    {
      "cell_type": "code",
      "metadata": {
        "id": "cuSfm70vzScq",
        "colab_type": "code",
        "colab": {}
      },
      "source": [
        "smape_scorer = make_scorer(smape, greater_is_better = False)"
      ],
      "execution_count": 0,
      "outputs": []
    },
    {
      "cell_type": "code",
      "metadata": {
        "id": "wjIsDBC5UtH3",
        "colab_type": "code",
        "outputId": "fdedac00-50e7-4456-d82c-dc3e9bad8d5a",
        "colab": {
          "base_uri": "https://localhost:8080/",
          "height": 298
        }
      },
      "source": [
        "#Every 2 features\n",
        "\n",
        "scores = cross_validate(model, X[sel,::2], target0, cv = cv, verbose = 2, scoring=smape_scorer, return_train_score = True)\n",
        "\n",
        "print(scores)\n",
        "\n",
        "print(scores['test_score'].mean(),scores['test_score'].std())"
      ],
      "execution_count": 0,
      "outputs": [
        {
          "output_type": "stream",
          "text": [
            "[Parallel(n_jobs=1)]: Using backend SequentialBackend with 1 concurrent workers.\n"
          ],
          "name": "stderr"
        },
        {
          "output_type": "stream",
          "text": [
            "[CV]  ................................................................\n",
            "[CV] ................................................. , total=  43.7s\n",
            "[CV]  ................................................................\n"
          ],
          "name": "stdout"
        },
        {
          "output_type": "stream",
          "text": [
            "[Parallel(n_jobs=1)]: Done   1 out of   1 | elapsed:   43.8s remaining:    0.0s\n"
          ],
          "name": "stderr"
        },
        {
          "output_type": "stream",
          "text": [
            "[CV] ................................................. , total=  43.8s\n",
            "[CV]  ................................................................\n",
            "[CV] ................................................. , total=  45.0s\n",
            "[CV]  ................................................................\n",
            "[CV] ................................................. , total=  44.7s\n",
            "[CV]  ................................................................\n",
            "[CV] ................................................. , total=  45.0s\n",
            "{'fit_time': array([43.73545361, 43.77424574, 45.03991771, 44.71086645, 45.00603628]), 'score_time': array([0.01087737, 0.01034665, 0.00937676, 0.00991583, 0.00970984]), 'test_score': array([-0.28615163, -0.27768861, -0.2913394 , -0.2308549 , -0.26957338]), 'train_score': array([-0.1019439 , -0.10540736, -0.10127746, -0.11045581, -0.09994259])}\n",
            "-0.27112158271349257 0.021455027836370367\n"
          ],
          "name": "stdout"
        },
        {
          "output_type": "stream",
          "text": [
            "[Parallel(n_jobs=1)]: Done   5 out of   5 | elapsed:  3.7min finished\n"
          ],
          "name": "stderr"
        }
      ]
    },
    {
      "cell_type": "code",
      "metadata": {
        "id": "ycJ_po_AeIOv",
        "colab_type": "code",
        "outputId": "2c398048-1d37-4ef8-cda5-54b608cb0db1",
        "colab": {
          "base_uri": "https://localhost:8080/",
          "height": 52
        }
      },
      "source": [
        "print(scores['test_score'].mean(),scores['test_score'].std())\n",
        "print(scores['train_score'].mean(),scores['train_score'].std())"
      ],
      "execution_count": 0,
      "outputs": [
        {
          "output_type": "stream",
          "text": [
            "-0.27112158271349257 0.021455027836370367\n",
            "-0.10380542574210465 0.003783416793186504\n"
          ],
          "name": "stdout"
        }
      ]
    },
    {
      "cell_type": "code",
      "metadata": {
        "id": "n2xC-gVdU0mb",
        "colab_type": "code",
        "outputId": "4dc073f1-8d38-435e-df0c-6e20eb3e47d7",
        "colab": {
          "base_uri": "https://localhost:8080/",
          "height": 86
        }
      },
      "source": [
        "scores"
      ],
      "execution_count": 0,
      "outputs": [
        {
          "output_type": "execute_result",
          "data": {
            "text/plain": [
              "{'fit_time': array([43.73545361, 43.77424574, 45.03991771, 44.71086645, 45.00603628]),\n",
              " 'score_time': array([0.01087737, 0.01034665, 0.00937676, 0.00991583, 0.00970984]),\n",
              " 'test_score': array([-0.28615163, -0.27768861, -0.2913394 , -0.2308549 , -0.26957338]),\n",
              " 'train_score': array([-0.1019439 , -0.10540736, -0.10127746, -0.11045581, -0.09994259])}"
            ]
          },
          "metadata": {
            "tags": []
          },
          "execution_count": 18
        }
      ]
    },
    {
      "cell_type": "code",
      "metadata": {
        "id": "pw9VHbKQaGGr",
        "colab_type": "code",
        "colab": {}
      },
      "source": [
        "#no need to run\n",
        "\n",
        "ypred = cross_val_predict(model, X[sel,::2], target0, cv = cv)"
      ],
      "execution_count": 0,
      "outputs": []
    },
    {
      "cell_type": "markdown",
      "metadata": {
        "id": "swk7Sm-WZ9Py",
        "colab_type": "text"
      },
      "source": [
        "Compare predicted and true"
      ]
    },
    {
      "cell_type": "code",
      "metadata": {
        "id": "876mqzs3aArM",
        "colab_type": "code",
        "outputId": "10e9a52b-4041-4186-9fe7-a8d9b005fbe7",
        "colab": {
          "base_uri": "https://localhost:8080/",
          "height": 282
        }
      },
      "source": [
        "plt.scatter(target0, ypred)"
      ],
      "execution_count": 0,
      "outputs": [
        {
          "output_type": "execute_result",
          "data": {
            "text/plain": [
              "<matplotlib.collections.PathCollection at 0x7fc7795f6208>"
            ]
          },
          "metadata": {
            "tags": []
          },
          "execution_count": 16
        },
        {
          "output_type": "stream",
          "text": [
            "findfont: Font family ['sans-serif'] not found. Falling back to DejaVu Sans.\n"
          ],
          "name": "stderr"
        },
        {
          "output_type": "display_data",
          "data": {
            "image/png": "[encoded data removed]",
            "text/plain": [
              "<Figure size 432x288 with 1 Axes>"
            ]
          },
          "metadata": {
            "tags": []
          }
        }
      ]
    },
    {
      "cell_type": "code",
      "metadata": {
        "id": "PukY8i3JbwZS",
        "colab_type": "code",
        "outputId": "262d9355-5a13-4fb4-f46c-e918ed7cd55d",
        "colab": {
          "base_uri": "https://localhost:8080/",
          "height": 282
        }
      },
      "source": [
        "plt.scatter(range(len(target0)),target0-ypred)"
      ],
      "execution_count": 0,
      "outputs": [
        {
          "output_type": "execute_result",
          "data": {
            "text/plain": [
              "<matplotlib.collections.PathCollection at 0x7fd58a7a3588>"
            ]
          },
          "metadata": {
            "tags": []
          },
          "execution_count": 21
        },
        {
          "output_type": "display_data",
          "data": {
            "image/png": "[encoded data removed]",
            "text/plain": [
              "<Figure size 432x288 with 1 Axes>"
            ]
          },
          "metadata": {
            "tags": []
          }
        }
      ]
    },
    {
      "cell_type": "code",
      "metadata": {
        "id": "KLw1MvIPCi-9",
        "colab_type": "code",
        "colab": {}
      },
      "source": [
        "def transf_target(target):\n",
        "  return np.log(target + 5)\n",
        "\n",
        "def inv_transf_target(x):\n",
        "  return np.exp(x)-5"
      ],
      "execution_count": 0,
      "outputs": []
    },
    {
      "cell_type": "markdown",
      "metadata": {
        "id": "xxQwdijcdYnE",
        "colab_type": "text"
      },
      "source": [
        "To compare the smapes of the two methods I need predictions, so I will have 5 random folds and compute metrics."
      ]
    },
    {
      "cell_type": "code",
      "metadata": {
        "id": "cowberjddhqS",
        "colab_type": "code",
        "outputId": "06b6724d-54c2-40e9-8337-bb162dd667ef",
        "colab": {
          "base_uri": "https://localhost:8080/",
          "height": 547
        }
      },
      "source": [
        "r2 = []\n",
        "smapesss = []\n",
        "mae = []\n",
        "Spearmans = []\n",
        "\n",
        "est_names = ['r2','smapesss','mae','Spearman']\n",
        "\n",
        "for i in range(5):\n",
        "  X_train, X_test, y_train, y_test = train_test_split(X[sel,::2], transf_target(target0), test_size=0.2, random_state = i)\n",
        "  model.fit(X_train,y_train)\n",
        "  ypred = model.predict(X_test)\n",
        "  print('r2', metrics.r2_score(inv_transf_target(y_test),inv_transf_target(ypred)))\n",
        "  r2.append(metrics.r2_score(inv_transf_target(y_test),inv_transf_target(ypred)))\n",
        "  print('smape', smape(inv_transf_target(y_test),inv_transf_target(ypred)))\n",
        "  smapesss.append(smape(inv_transf_target(y_test),inv_transf_target(ypred)))\n",
        "  print('mae', metrics.median_absolute_error(inv_transf_target(y_test),inv_transf_target(ypred)))\n",
        "  mae.append(metrics.median_absolute_error(inv_transf_target(y_test),inv_transf_target(ypred)))\n",
        "  print('Spearman', spearmanr(inv_transf_target(y_test),inv_transf_target(ypred)))\n",
        "  Spearmans.append(spearmanr(inv_transf_target(y_test),inv_transf_target(ypred))[0])\n",
        "\n",
        "for i, estimator in enumerate([r2,smapesss,mae,Spearmans]):\n",
        "  print(est_names[i], np.array(estimator).mean(), np.array(estimator).std())"
      ],
      "execution_count": 0,
      "outputs": [
        {
          "output_type": "stream",
          "text": [
            "r2 0.7597563201974709\n",
            "smape 0.2948074076089532\n",
            "mae 0.4734038203424449\n",
            "Spearman SpearmanrResult(correlation=0.912429946368404, pvalue=1.655203968112446e-51)\n",
            "r2 0.5946383957703167\n",
            "smape 0.31090748405676955\n",
            "mae 0.3016270961019738\n",
            "Spearman SpearmanrResult(correlation=0.8906358252049011, pvalue=1.2241363130117922e-45)\n",
            "r2 0.8155573304584243\n",
            "smape 0.259162681770058\n",
            "mae 0.3933401013656965\n",
            "Spearman SpearmanrResult(correlation=0.9334615199011166, pvalue=7.568969665098738e-59)\n",
            "r2 0.7973155563622216\n",
            "smape 0.30289166091517805\n",
            "mae 0.37097784639809905\n",
            "Spearman SpearmanrResult(correlation=0.924771646427607, pvalue=1.4776710594223913e-55)\n",
            "r2 0.7686946299672497\n",
            "smape 0.27191767072357836\n",
            "mae 0.3985686375239439\n",
            "Spearman SpearmanrResult(correlation=0.9390088070052249, pvalue=3.4401112007678526e-61)\n"
          ],
          "name": "stdout"
        },
        {
          "output_type": "error",
          "ename": "AttributeError",
          "evalue": "ignored",
          "traceback": [
            "\u001b[0;31m---------------------------------------------------------------------------\u001b[0m",
            "\u001b[0;31mAttributeError\u001b[0m                            Traceback (most recent call last)",
            "\u001b[0;32m<ipython-input-26-eb7a6ff698b0>\u001b[0m in \u001b[0;36m<module>\u001b[0;34m()\u001b[0m\n\u001b[1;32m     20\u001b[0m \u001b[0;34m\u001b[0m\u001b[0m\n\u001b[1;32m     21\u001b[0m \u001b[0;32mfor\u001b[0m \u001b[0mi\u001b[0m\u001b[0;34m,\u001b[0m \u001b[0mestimator\u001b[0m \u001b[0;32min\u001b[0m \u001b[0menumerate\u001b[0m\u001b[0;34m(\u001b[0m\u001b[0;34m[\u001b[0m\u001b[0mr2\u001b[0m\u001b[0;34m,\u001b[0m\u001b[0msmapesss\u001b[0m\u001b[0;34m,\u001b[0m\u001b[0mmae\u001b[0m\u001b[0;34m,\u001b[0m\u001b[0mSpearmans\u001b[0m\u001b[0;34m]\u001b[0m\u001b[0;34m)\u001b[0m\u001b[0;34m:\u001b[0m\u001b[0;34m\u001b[0m\u001b[0;34m\u001b[0m\u001b[0m\n\u001b[0;32m---> 22\u001b[0;31m   \u001b[0mprint\u001b[0m\u001b[0;34m(\u001b[0m\u001b[0mest_names\u001b[0m\u001b[0;34m[\u001b[0m\u001b[0mi\u001b[0m\u001b[0;34m]\u001b[0m\u001b[0;34m,\u001b[0m \u001b[0mestimator\u001b[0m\u001b[0;34m.\u001b[0m\u001b[0mmean\u001b[0m\u001b[0;34m(\u001b[0m\u001b[0;34m)\u001b[0m\u001b[0;34m,\u001b[0m \u001b[0mestimator\u001b[0m\u001b[0;34m.\u001b[0m\u001b[0mstd\u001b[0m\u001b[0;34m(\u001b[0m\u001b[0;34m)\u001b[0m\u001b[0;34m)\u001b[0m\u001b[0;34m\u001b[0m\u001b[0;34m\u001b[0m\u001b[0m\n\u001b[0m",
            "\u001b[0;31mAttributeError\u001b[0m: 'list' object has no attribute 'mean'"
          ]
        }
      ]
    },
    {
      "cell_type": "code",
      "metadata": {
        "id": "NKIkhjN8j7C3",
        "colab_type": "code",
        "outputId": "9ea39a04-c360-496a-f236-007875b1de74",
        "colab": {
          "base_uri": "https://localhost:8080/",
          "height": 86
        }
      },
      "source": [
        "for i, estimator in enumerate([r2,smapesss,mae]):\n",
        "  print(est_names[i], np.array(estimator).mean(), np.array(estimator).std())\n",
        "tot=0\n",
        "for i in range(5):\n",
        "  tot +=Spearmans[i][0]\n",
        "print('Spearmans mean', tot/5)"
      ],
      "execution_count": 0,
      "outputs": [
        {
          "output_type": "stream",
          "text": [
            "r2 0.7471924465511366 0.07884036619789281\n",
            "smapesss 0.28793738101490746 0.019406534059135592\n",
            "mae 0.38758350034643163 0.055105698783356874\n",
            "Spearmans mean 0.9200615489814506\n"
          ],
          "name": "stdout"
        }
      ]
    },
    {
      "cell_type": "code",
      "metadata": {
        "id": "nV0DoO7ckGsy",
        "colab_type": "code",
        "outputId": "9f48420c-22cf-45f6-e92f-3045a93b0543",
        "colab": {
          "base_uri": "https://localhost:8080/",
          "height": 434
        }
      },
      "source": [
        "#Now without transformation\n",
        "\n",
        "r2 = []\n",
        "smapesss = []\n",
        "mae = []\n",
        "Spearmans = []\n",
        "\n",
        "est_names = ['r2','smapesss','mae','Spearman']\n",
        "\n",
        "for i in range(5):\n",
        "  X_train, X_test, y_train, y_test = train_test_split(X[sel,::2], target0, test_size=0.2, random_state = i)\n",
        "  model.fit(X_train,y_train)\n",
        "  ypred = model.predict(X_test)\n",
        "  print('r2', metrics.r2_score(y_test,ypred))\n",
        "  r2.append(metrics.r2_score((y_test),(ypred)))\n",
        "  print('smape', smape(y_test,ypred))\n",
        "  smapesss.append(smape(y_test,ypred))\n",
        "  print('mae', metrics.median_absolute_error(y_test,ypred))\n",
        "  mae.append(metrics.median_absolute_error(y_test,ypred))\n",
        "  print('Spearman', spearmanr(y_test,ypred))\n",
        "  Spearmans.append(spearmanr(y_test,ypred)[0])\n",
        "\n",
        "for i, estimator in enumerate([r2,smapesss,mae,Spearmans]):\n",
        "  print(est_names[i], np.array(estimator).mean(), np.array(estimator).std())"
      ],
      "execution_count": 0,
      "outputs": [
        {
          "output_type": "stream",
          "text": [
            "r2 0.7201342179014201\n",
            "smape 0.29641151403664645\n",
            "mae 0.48881702336011723\n",
            "Spearman SpearmanrResult(correlation=0.9053823834193208, pvalue=1.8663310176695177e-49)\n",
            "r2 0.5490176444788297\n",
            "smape 0.3109214831723234\n",
            "mae 0.25599598789073286\n",
            "Spearman SpearmanrResult(correlation=0.889412124183961, pvalue=2.3971513623406144e-45)\n",
            "r2 0.676121362158443\n",
            "smape 0.3067710783851146\n",
            "mae 0.4154756560743017\n",
            "Spearman SpearmanrResult(correlation=0.932887959401195, pvalue=1.2871133493157625e-58)\n",
            "r2 0.8693665959919483\n",
            "smape 0.2750778556848347\n",
            "mae 0.3858399020277756\n",
            "Spearman SpearmanrResult(correlation=0.9283068566235245, pvalue=7.605050819132784e-57)\n",
            "r2 0.766326013257102\n",
            "smape 0.2690992960462335\n",
            "mae 0.4135691011039409\n",
            "Spearman SpearmanrResult(correlation=0.9367635310837352, pvalue=3.237585801006345e-60)\n",
            "r2 0.7161931667575486 0.10539861325338526\n",
            "smapesss 0.29165624546503055 0.016768298137229198\n",
            "mae 0.39193953409137366 0.07605904075003703\n",
            "Spearman 0.9185505709423474 0.01819289958944056\n"
          ],
          "name": "stdout"
        }
      ]
    },
    {
      "cell_type": "markdown",
      "metadata": {
        "id": "zv7mg7EvmtR8",
        "colab_type": "text"
      },
      "source": [
        "To keep in mind: transformation helps just a little, but let's keep it aside for the time being."
      ]
    },
    {
      "cell_type": "markdown",
      "metadata": {
        "id": "qZdt1VUHm_-6",
        "colab_type": "text"
      },
      "source": [
        "Let's check the effect of feature selection, with Select from Model and then Feature Importance (should be the same!)"
      ]
    },
    {
      "cell_type": "code",
      "metadata": {
        "id": "s9B_4RRlHmLZ",
        "colab_type": "code",
        "colab": {}
      },
      "source": [
        "piped_model = make_pipeline(SelectFromModel(RandomForestRegressor(), max_features = 50, threshold=-np.inf), RandomForestRegressor()) #"
      ],
      "execution_count": 0,
      "outputs": []
    },
    {
      "cell_type": "code",
      "metadata": {
        "id": "7PccjMWZnWsW",
        "colab_type": "code",
        "outputId": "aa0c5d93-fe8b-4faa-e603-6e6a037bfae1",
        "colab": {
          "base_uri": "https://localhost:8080/",
          "height": 34
        }
      },
      "source": [
        "cv = "
      ],
      "execution_count": 0,
      "outputs": [
        {
          "output_type": "execute_result",
          "data": {
            "text/plain": [
              "KFold(n_splits=5, random_state=None, shuffle=True)"
            ]
          },
          "metadata": {
            "tags": []
          },
          "execution_count": 40
        }
      ]
    },
    {
      "cell_type": "code",
      "metadata": {
        "id": "uOFVCGK0-wqn",
        "colab_type": "code",
        "outputId": "320835dd-929b-4e59-d7df-7d9683cf0d61",
        "colab": {
          "base_uri": "https://localhost:8080/",
          "height": 243
        }
      },
      "source": [
        "#with simple every two Feature Selection\n",
        "\n",
        "cv_scores = cross_validate(piped_model, X[sel,::2], target0, cv = cv, verbose = 2, scoring=smape_scorer, return_train_score = True)\n"
      ],
      "execution_count": 0,
      "outputs": [
        {
          "output_type": "stream",
          "text": [
            "[Parallel(n_jobs=1)]: Using backend SequentialBackend with 1 concurrent workers.\n"
          ],
          "name": "stderr"
        },
        {
          "output_type": "stream",
          "text": [
            "[CV]  ................................................................\n",
            "[CV] ................................................. , total=  44.9s\n",
            "[CV]  ................................................................\n"
          ],
          "name": "stdout"
        },
        {
          "output_type": "stream",
          "text": [
            "[Parallel(n_jobs=1)]: Done   1 out of   1 | elapsed:   45.0s remaining:    0.0s\n"
          ],
          "name": "stderr"
        },
        {
          "output_type": "stream",
          "text": [
            "[CV] ................................................. , total=  46.3s\n",
            "[CV]  ................................................................\n",
            "[CV] ................................................. , total=  46.1s\n",
            "[CV]  ................................................................\n",
            "[CV] ................................................. , total=  46.0s\n",
            "[CV]  ................................................................\n",
            "[CV] ................................................. , total=  46.1s\n"
          ],
          "name": "stdout"
        },
        {
          "output_type": "stream",
          "text": [
            "[Parallel(n_jobs=1)]: Done   5 out of   5 | elapsed:  3.8min finished\n"
          ],
          "name": "stderr"
        }
      ]
    },
    {
      "cell_type": "code",
      "metadata": {
        "id": "-UryTnxC_jXJ",
        "colab_type": "code",
        "outputId": "6253a488-02e3-46ab-e931-031213d127b6",
        "colab": {
          "base_uri": "https://localhost:8080/",
          "height": 34
        }
      },
      "source": [
        "cv_scores['test_score'].mean(), cv_scores['test_score'].std()"
      ],
      "execution_count": 0,
      "outputs": [
        {
          "output_type": "execute_result",
          "data": {
            "text/plain": [
              "(-0.27516906294982524, 0.013337450796974584)"
            ]
          },
          "metadata": {
            "tags": []
          },
          "execution_count": 42
        }
      ]
    },
    {
      "cell_type": "code",
      "metadata": {
        "id": "z8oGr02dKvzJ",
        "colab_type": "code",
        "outputId": "4e8bdd97-5782-4efd-8e36-8398850f469a",
        "colab": {
          "base_uri": "https://localhost:8080/",
          "height": 903
        }
      },
      "source": [
        "ntrials=5\n",
        "\n",
        "glob_imp = np.zeros(X[sel,::2].shape[1])\n",
        "\n",
        "model = RandomForestRegressor()\n",
        "\n",
        "for i in range(ntrials):\n",
        "        X_train, X_test, y_train, y_test = \\\n",
        "        train_test_split(X[sel,::2], target0, test_size=0.2, random_state=i) \n",
        "        model.fit(X[sel,::2], target0)\n",
        "        importances = model.feature_importances_\n",
        "        glob_imp+=importances\n",
        "        \n",
        "indices = np.argsort(glob_imp)[::-1]\n",
        "\n",
        "        # Print the feature ranking\n",
        "print(\"Feature ranking:\")\n",
        "\n",
        "for f in range(50):\n",
        "    print(\"%d. feature: %d (%f)\" % (f + 1, indices[f], glob_imp[indices[f]]/ntrials))\n",
        "\n",
        "       "
      ],
      "execution_count": 0,
      "outputs": [
        {
          "output_type": "stream",
          "text": [
            "Feature ranking:\n",
            "1. feature: 269 (0.440842)\n",
            "2. feature: 268 (0.112167)\n",
            "3. feature: 270 (0.064836)\n",
            "4. feature: 267 (0.019797)\n",
            "5. feature: 266 (0.008874)\n",
            "6. feature: 2221 (0.005886)\n",
            "7. feature: 271 (0.004881)\n",
            "8. feature: 293 (0.003411)\n",
            "9. feature: 2278 (0.002976)\n",
            "10. feature: 468 (0.002423)\n",
            "11. feature: 134 (0.002063)\n",
            "12. feature: 461 (0.002045)\n",
            "13. feature: 228 (0.001899)\n",
            "14. feature: 367 (0.001741)\n",
            "15. feature: 292 (0.001719)\n",
            "16. feature: 225 (0.001673)\n",
            "17. feature: 173 (0.001667)\n",
            "18. feature: 273 (0.001644)\n",
            "19. feature: 280 (0.001638)\n",
            "20. feature: 294 (0.001451)\n",
            "21. feature: 192 (0.001445)\n",
            "22. feature: 210 (0.001444)\n",
            "23. feature: 633 (0.001441)\n",
            "24. feature: 108 (0.001431)\n",
            "25. feature: 101 (0.001397)\n",
            "26. feature: 220 (0.001380)\n",
            "27. feature: 265 (0.001375)\n",
            "28. feature: 230 (0.001331)\n",
            "29. feature: 1046 (0.001326)\n",
            "30. feature: 2287 (0.001319)\n",
            "31. feature: 10 (0.001292)\n",
            "32. feature: 216 (0.001289)\n",
            "33. feature: 194 (0.001288)\n",
            "34. feature: 143 (0.001236)\n",
            "35. feature: 229 (0.001105)\n",
            "36. feature: 321 (0.001067)\n",
            "37. feature: 211 (0.001063)\n",
            "38. feature: 312 (0.001058)\n",
            "39. feature: 490 (0.001047)\n",
            "40. feature: 8 (0.001029)\n",
            "41. feature: 2118 (0.001027)\n",
            "42. feature: 203 (0.001020)\n",
            "43. feature: 14 (0.001006)\n",
            "44. feature: 202 (0.001001)\n",
            "45. feature: 308 (0.000994)\n",
            "46. feature: 223 (0.000986)\n",
            "47. feature: 128 (0.000954)\n",
            "48. feature: 504 (0.000949)\n",
            "49. feature: 438 (0.000943)\n",
            "50. feature: 244 (0.000938)\n"
          ],
          "name": "stdout"
        }
      ]
    },
    {
      "cell_type": "code",
      "metadata": {
        "id": "3IOw2YYAOija",
        "colab_type": "code",
        "outputId": "c1c726cc-d652-4143-a6fe-c0209fb1a638",
        "colab": {
          "base_uri": "https://localhost:8080/",
          "height": 34
        }
      },
      "source": [
        "indices"
      ],
      "execution_count": 0,
      "outputs": [
        {
          "output_type": "execute_result",
          "data": {
            "text/plain": [
              "array([ 269,  268,  270, ..., 1514, 2044, 1387])"
            ]
          },
          "metadata": {
            "tags": []
          },
          "execution_count": 45
        }
      ]
    },
    {
      "cell_type": "code",
      "metadata": {
        "id": "VUb71COcKv6I",
        "colab_type": "code",
        "outputId": "96350393-d153-4bfc-b14f-03445a3cac84",
        "colab": {
          "base_uri": "https://localhost:8080/",
          "height": 52
        }
      },
      "source": [
        "glob_imp"
      ],
      "execution_count": 0,
      "outputs": [
        {
          "output_type": "execute_result",
          "data": {
            "text/plain": [
              "array([0.00215957, 0.00261358, 0.00207004, ..., 0.00211052, 0.00158774,\n",
              "       0.00310904])"
            ]
          },
          "metadata": {
            "tags": []
          },
          "execution_count": 46
        }
      ]
    },
    {
      "cell_type": "code",
      "metadata": {
        "id": "OAutn_thKv9u",
        "colab_type": "code",
        "outputId": "f8a4c5b0-ff6a-498f-9aeb-903fea371592",
        "colab": {
          "base_uri": "https://localhost:8080/",
          "height": 885
        }
      },
      "source": [
        "for f in range(50):\n",
        "    print(\"%d. feature: %d (%f)\" % (f + 1, indices[f], glob_imp[indices[f]]/ntrials))"
      ],
      "execution_count": 0,
      "outputs": [
        {
          "output_type": "stream",
          "text": [
            "1. feature: 269 (0.440842)\n",
            "2. feature: 268 (0.112167)\n",
            "3. feature: 270 (0.064836)\n",
            "4. feature: 267 (0.019797)\n",
            "5. feature: 266 (0.008874)\n",
            "6. feature: 2221 (0.005886)\n",
            "7. feature: 271 (0.004881)\n",
            "8. feature: 293 (0.003411)\n",
            "9. feature: 2278 (0.002976)\n",
            "10. feature: 468 (0.002423)\n",
            "11. feature: 134 (0.002063)\n",
            "12. feature: 461 (0.002045)\n",
            "13. feature: 228 (0.001899)\n",
            "14. feature: 367 (0.001741)\n",
            "15. feature: 292 (0.001719)\n",
            "16. feature: 225 (0.001673)\n",
            "17. feature: 173 (0.001667)\n",
            "18. feature: 273 (0.001644)\n",
            "19. feature: 280 (0.001638)\n",
            "20. feature: 294 (0.001451)\n",
            "21. feature: 192 (0.001445)\n",
            "22. feature: 210 (0.001444)\n",
            "23. feature: 633 (0.001441)\n",
            "24. feature: 108 (0.001431)\n",
            "25. feature: 101 (0.001397)\n",
            "26. feature: 220 (0.001380)\n",
            "27. feature: 265 (0.001375)\n",
            "28. feature: 230 (0.001331)\n",
            "29. feature: 1046 (0.001326)\n",
            "30. feature: 2287 (0.001319)\n",
            "31. feature: 10 (0.001292)\n",
            "32. feature: 216 (0.001289)\n",
            "33. feature: 194 (0.001288)\n",
            "34. feature: 143 (0.001236)\n",
            "35. feature: 229 (0.001105)\n",
            "36. feature: 321 (0.001067)\n",
            "37. feature: 211 (0.001063)\n",
            "38. feature: 312 (0.001058)\n",
            "39. feature: 490 (0.001047)\n",
            "40. feature: 8 (0.001029)\n",
            "41. feature: 2118 (0.001027)\n",
            "42. feature: 203 (0.001020)\n",
            "43. feature: 14 (0.001006)\n",
            "44. feature: 202 (0.001001)\n",
            "45. feature: 308 (0.000994)\n",
            "46. feature: 223 (0.000986)\n",
            "47. feature: 128 (0.000954)\n",
            "48. feature: 504 (0.000949)\n",
            "49. feature: 438 (0.000943)\n",
            "50. feature: 244 (0.000938)\n"
          ],
          "name": "stdout"
        }
      ]
    },
    {
      "cell_type": "code",
      "metadata": {
        "id": "--DQbwEVKv4B",
        "colab_type": "code",
        "outputId": "f64033fb-dc5c-4c5d-9cbf-0ef4cc9d96ce",
        "colab": {
          "base_uri": "https://localhost:8080/",
          "height": 34
        }
      },
      "source": [
        "wl[::2][269], wl[538], wl[539]"
      ],
      "execution_count": 0,
      "outputs": [
        {
          "output_type": "execute_result",
          "data": {
            "text/plain": [
              "(3935.0822725535713, 3935.0822725535713, 3935.79040331016)"
            ]
          },
          "metadata": {
            "tags": []
          },
          "execution_count": 48
        }
      ]
    },
    {
      "cell_type": "markdown",
      "metadata": {
        "id": "mIWcBrhOD47N",
        "colab_type": "text"
      },
      "source": [
        "Note that the selection is from X[::2]!"
      ]
    },
    {
      "cell_type": "code",
      "metadata": {
        "id": "AR5Ov6r2QLIN",
        "colab_type": "code",
        "colab": {}
      },
      "source": [
        "Xsel = X[sel,::2]\n",
        "Xnew = Xsel[:,indices[:50]]"
      ],
      "execution_count": 0,
      "outputs": []
    },
    {
      "cell_type": "code",
      "metadata": {
        "id": "qyV3kOR4Qx7C",
        "colab_type": "code",
        "outputId": "15a1431f-9c27-4d6c-e02d-8832a0055f83",
        "colab": {
          "base_uri": "https://localhost:8080/",
          "height": 298
        }
      },
      "source": [
        "#With 50 features\n",
        "\n",
        "n_scores = cross_validate(model, Xnew, target0, cv = cv, verbose = 2, scoring=smape_scorer, return_train_score = True)\n",
        "\n",
        "print(n_scores)\n",
        " \n",
        "print(n_scores['test_score'].mean(),n_scores['test_score'].std())"
      ],
      "execution_count": 57,
      "outputs": [
        {
          "output_type": "stream",
          "text": [
            "[Parallel(n_jobs=1)]: Using backend SequentialBackend with 1 concurrent workers.\n"
          ],
          "name": "stderr"
        },
        {
          "output_type": "stream",
          "text": [
            "[CV]  ................................................................\n",
            "[CV] ................................................. , total=   1.2s\n",
            "[CV]  ................................................................\n"
          ],
          "name": "stdout"
        },
        {
          "output_type": "stream",
          "text": [
            "[Parallel(n_jobs=1)]: Done   1 out of   1 | elapsed:    1.2s remaining:    0.0s\n"
          ],
          "name": "stderr"
        },
        {
          "output_type": "stream",
          "text": [
            "[CV] ................................................. , total=   1.2s\n",
            "[CV]  ................................................................\n",
            "[CV] ................................................. , total=   1.2s\n",
            "[CV]  ................................................................\n",
            "[CV] ................................................. , total=   1.2s\n",
            "[CV]  ................................................................\n",
            "[CV] ................................................. , total=   1.2s\n",
            "{'fit_time': array([1.17316127, 1.14863443, 1.16237903, 1.15629816, 1.16217375]), 'score_time': array([0.00847125, 0.00833416, 0.00782871, 0.00758266, 0.00763965]), 'test_score': array([-0.28601789, -0.28249371, -0.23494847, -0.23532153, -0.27275546]), 'train_score': array([-0.10069973, -0.10149508, -0.09979983, -0.09857185, -0.10466024])}\n",
            "-0.2623074147508231 0.02260789374369261\n"
          ],
          "name": "stdout"
        },
        {
          "output_type": "stream",
          "text": [
            "[Parallel(n_jobs=1)]: Done   5 out of   5 | elapsed:    5.9s finished\n"
          ],
          "name": "stderr"
        }
      ]
    },
    {
      "cell_type": "markdown",
      "metadata": {
        "id": "ahd3P1-hD-g6",
        "colab_type": "text"
      },
      "source": [
        "Scores are good, let's keep going."
      ]
    },
    {
      "cell_type": "code",
      "metadata": {
        "id": "uDOsx1RnED94",
        "colab_type": "code",
        "colab": {}
      },
      "source": [
        " #tiny parameter optimization "
      ],
      "execution_count": 0,
      "outputs": []
    },
    {
      "cell_type": "code",
      "metadata": {
        "id": "Mb2P_gNpEEFF",
        "colab_type": "code",
        "colab": {
          "base_uri": "https://localhost:8080/",
          "height": 104
        },
        "outputId": "b7148c21-64fb-47f0-b177-99285667ade2"
      },
      "source": [
        "parameters = {'max_depth':[10,20,40], \\\n",
        "              'max_features': [0.5,1.0], 'n_estimators':[100,200,400]}\n",
        "nmodels = np.product([len(el) for el in parameters.values()])\n",
        "\n",
        "model = GridSearchCV(RandomForestRegressor(), parameters, cv = cv, \\\n",
        "                     scoring = smape_scorer, return_train_score = True, \\\n",
        "    verbose = 3, n_jobs = 4)\n",
        "model.fit(Xnew, target0)\n",
        "print('Best params, best score:', \"{:.4f}\".format(model.best_score_), model.best_params_)"
      ],
      "execution_count": 59,
      "outputs": [
        {
          "output_type": "stream",
          "text": [
            "Fitting 5 folds for each of 18 candidates, totalling 90 fits\n"
          ],
          "name": "stdout"
        },
        {
          "output_type": "stream",
          "text": [
            "[Parallel(n_jobs=4)]: Using backend LokyBackend with 4 concurrent workers.\n",
            "[Parallel(n_jobs=4)]: Done  24 tasks      | elapsed:   30.1s\n",
            "[Parallel(n_jobs=4)]: Done  90 out of  90 | elapsed:  2.6min finished\n"
          ],
          "name": "stderr"
        },
        {
          "output_type": "stream",
          "text": [
            "Best params, best score: -0.2521 {'max_depth': 20, 'max_features': 0.5, 'n_estimators': 400}\n"
          ],
          "name": "stdout"
        }
      ]
    },
    {
      "cell_type": "code",
      "metadata": {
        "id": "z2DCZHanEEKU",
        "colab_type": "code",
        "colab": {
          "base_uri": "https://localhost:8080/",
          "height": 614
        },
        "outputId": "1c2ddff1-e6d8-443a-da98-907fb36017db"
      },
      "source": [
        "scores_lim = pd.DataFrame(model.cv_results_)\n",
        "scores_lim[['params','mean_test_score','std_test_score','mean_train_score']].sort_values(by = 'mean_test_score', \\\n",
        "                                                    ascending = False)"
      ],
      "execution_count": 60,
      "outputs": [
        {
          "output_type": "execute_result",
          "data": {
            "text/html": [
              "<div>\n",
              "<style scoped>\n",
              "    .dataframe tbody tr th:only-of-type {\n",
              "        vertical-align: middle;\n",
              "    }\n",
              "\n",
              "    .dataframe tbody tr th {\n",
              "        vertical-align: top;\n",
              "    }\n",
              "\n",
              "    .dataframe thead th {\n",
              "        text-align: right;\n",
              "    }\n",
              "</style>\n",
              "<table border=\"1\" class=\"dataframe\">\n",
              "  <thead>\n",
              "    <tr style=\"text-align: right;\">\n",
              "      <th></th>\n",
              "      <th>params</th>\n",
              "      <th>mean_test_score</th>\n",
              "      <th>std_test_score</th>\n",
              "      <th>mean_train_score</th>\n",
              "    </tr>\n",
              "  </thead>\n",
              "  <tbody>\n",
              "    <tr>\n",
              "      <th>8</th>\n",
              "      <td>{'max_depth': 20, 'max_features': 0.5, 'n_estimators': 400}</td>\n",
              "      <td>-0.252059</td>\n",
              "      <td>0.020592</td>\n",
              "      <td>-0.097714</td>\n",
              "    </tr>\n",
              "    <tr>\n",
              "      <th>15</th>\n",
              "      <td>{'max_depth': 40, 'max_features': 1.0, 'n_estimators': 100}</td>\n",
              "      <td>-0.253026</td>\n",
              "      <td>0.020337</td>\n",
              "      <td>-0.098325</td>\n",
              "    </tr>\n",
              "    <tr>\n",
              "      <th>7</th>\n",
              "      <td>{'max_depth': 20, 'max_features': 0.5, 'n_estimators': 200}</td>\n",
              "      <td>-0.253349</td>\n",
              "      <td>0.015237</td>\n",
              "      <td>-0.098013</td>\n",
              "    </tr>\n",
              "    <tr>\n",
              "      <th>6</th>\n",
              "      <td>{'max_depth': 20, 'max_features': 0.5, 'n_estimators': 100}</td>\n",
              "      <td>-0.253702</td>\n",
              "      <td>0.016372</td>\n",
              "      <td>-0.098110</td>\n",
              "    </tr>\n",
              "    <tr>\n",
              "      <th>17</th>\n",
              "      <td>{'max_depth': 40, 'max_features': 1.0, 'n_estimators': 400}</td>\n",
              "      <td>-0.254051</td>\n",
              "      <td>0.017408</td>\n",
              "      <td>-0.097766</td>\n",
              "    </tr>\n",
              "    <tr>\n",
              "      <th>11</th>\n",
              "      <td>{'max_depth': 20, 'max_features': 1.0, 'n_estimators': 400}</td>\n",
              "      <td>-0.254600</td>\n",
              "      <td>0.017772</td>\n",
              "      <td>-0.098531</td>\n",
              "    </tr>\n",
              "    <tr>\n",
              "      <th>13</th>\n",
              "      <td>{'max_depth': 40, 'max_features': 0.5, 'n_estimators': 200}</td>\n",
              "      <td>-0.255171</td>\n",
              "      <td>0.020439</td>\n",
              "      <td>-0.099018</td>\n",
              "    </tr>\n",
              "    <tr>\n",
              "      <th>14</th>\n",
              "      <td>{'max_depth': 40, 'max_features': 0.5, 'n_estimators': 400}</td>\n",
              "      <td>-0.255219</td>\n",
              "      <td>0.017347</td>\n",
              "      <td>-0.098026</td>\n",
              "    </tr>\n",
              "    <tr>\n",
              "      <th>10</th>\n",
              "      <td>{'max_depth': 20, 'max_features': 1.0, 'n_estimators': 200}</td>\n",
              "      <td>-0.255306</td>\n",
              "      <td>0.020494</td>\n",
              "      <td>-0.097983</td>\n",
              "    </tr>\n",
              "    <tr>\n",
              "      <th>16</th>\n",
              "      <td>{'max_depth': 40, 'max_features': 1.0, 'n_estimators': 200}</td>\n",
              "      <td>-0.255648</td>\n",
              "      <td>0.017910</td>\n",
              "      <td>-0.098175</td>\n",
              "    </tr>\n",
              "    <tr>\n",
              "      <th>9</th>\n",
              "      <td>{'max_depth': 20, 'max_features': 1.0, 'n_estimators': 100}</td>\n",
              "      <td>-0.255791</td>\n",
              "      <td>0.018307</td>\n",
              "      <td>-0.099124</td>\n",
              "    </tr>\n",
              "    <tr>\n",
              "      <th>1</th>\n",
              "      <td>{'max_depth': 10, 'max_features': 0.5, 'n_estimators': 200}</td>\n",
              "      <td>-0.256609</td>\n",
              "      <td>0.017167</td>\n",
              "      <td>-0.113994</td>\n",
              "    </tr>\n",
              "    <tr>\n",
              "      <th>5</th>\n",
              "      <td>{'max_depth': 10, 'max_features': 1.0, 'n_estimators': 400}</td>\n",
              "      <td>-0.256733</td>\n",
              "      <td>0.018471</td>\n",
              "      <td>-0.110198</td>\n",
              "    </tr>\n",
              "    <tr>\n",
              "      <th>3</th>\n",
              "      <td>{'max_depth': 10, 'max_features': 1.0, 'n_estimators': 100}</td>\n",
              "      <td>-0.256808</td>\n",
              "      <td>0.022298</td>\n",
              "      <td>-0.111066</td>\n",
              "    </tr>\n",
              "    <tr>\n",
              "      <th>0</th>\n",
              "      <td>{'max_depth': 10, 'max_features': 0.5, 'n_estimators': 100}</td>\n",
              "      <td>-0.256918</td>\n",
              "      <td>0.018857</td>\n",
              "      <td>-0.115922</td>\n",
              "    </tr>\n",
              "    <tr>\n",
              "      <th>4</th>\n",
              "      <td>{'max_depth': 10, 'max_features': 1.0, 'n_estimators': 200}</td>\n",
              "      <td>-0.256948</td>\n",
              "      <td>0.019602</td>\n",
              "      <td>-0.110307</td>\n",
              "    </tr>\n",
              "    <tr>\n",
              "      <th>2</th>\n",
              "      <td>{'max_depth': 10, 'max_features': 0.5, 'n_estimators': 400}</td>\n",
              "      <td>-0.258300</td>\n",
              "      <td>0.019080</td>\n",
              "      <td>-0.112937</td>\n",
              "    </tr>\n",
              "    <tr>\n",
              "      <th>12</th>\n",
              "      <td>{'max_depth': 40, 'max_features': 0.5, 'n_estimators': 100}</td>\n",
              "      <td>-0.258327</td>\n",
              "      <td>0.018487</td>\n",
              "      <td>-0.098321</td>\n",
              "    </tr>\n",
              "  </tbody>\n",
              "</table>\n",
              "</div>"
            ],
            "text/plain": [
              "                                                         params  \\\n",
              "8   {'max_depth': 20, 'max_features': 0.5, 'n_estimators': 400}   \n",
              "15  {'max_depth': 40, 'max_features': 1.0, 'n_estimators': 100}   \n",
              "7   {'max_depth': 20, 'max_features': 0.5, 'n_estimators': 200}   \n",
              "6   {'max_depth': 20, 'max_features': 0.5, 'n_estimators': 100}   \n",
              "17  {'max_depth': 40, 'max_features': 1.0, 'n_estimators': 400}   \n",
              "11  {'max_depth': 20, 'max_features': 1.0, 'n_estimators': 400}   \n",
              "13  {'max_depth': 40, 'max_features': 0.5, 'n_estimators': 200}   \n",
              "14  {'max_depth': 40, 'max_features': 0.5, 'n_estimators': 400}   \n",
              "10  {'max_depth': 20, 'max_features': 1.0, 'n_estimators': 200}   \n",
              "16  {'max_depth': 40, 'max_features': 1.0, 'n_estimators': 200}   \n",
              "9   {'max_depth': 20, 'max_features': 1.0, 'n_estimators': 100}   \n",
              "1   {'max_depth': 10, 'max_features': 0.5, 'n_estimators': 200}   \n",
              "5   {'max_depth': 10, 'max_features': 1.0, 'n_estimators': 400}   \n",
              "3   {'max_depth': 10, 'max_features': 1.0, 'n_estimators': 100}   \n",
              "0   {'max_depth': 10, 'max_features': 0.5, 'n_estimators': 100}   \n",
              "4   {'max_depth': 10, 'max_features': 1.0, 'n_estimators': 200}   \n",
              "2   {'max_depth': 10, 'max_features': 0.5, 'n_estimators': 400}   \n",
              "12  {'max_depth': 40, 'max_features': 0.5, 'n_estimators': 100}   \n",
              "\n",
              "    mean_test_score  std_test_score  mean_train_score  \n",
              "8         -0.252059        0.020592         -0.097714  \n",
              "15        -0.253026        0.020337         -0.098325  \n",
              "7         -0.253349        0.015237         -0.098013  \n",
              "6         -0.253702        0.016372         -0.098110  \n",
              "17        -0.254051        0.017408         -0.097766  \n",
              "11        -0.254600        0.017772         -0.098531  \n",
              "13        -0.255171        0.020439         -0.099018  \n",
              "14        -0.255219        0.017347         -0.098026  \n",
              "10        -0.255306        0.020494         -0.097983  \n",
              "16        -0.255648        0.017910         -0.098175  \n",
              "9         -0.255791        0.018307         -0.099124  \n",
              "1         -0.256609        0.017167         -0.113994  \n",
              "5         -0.256733        0.018471         -0.110198  \n",
              "3         -0.256808        0.022298         -0.111066  \n",
              "0         -0.256918        0.018857         -0.115922  \n",
              "4         -0.256948        0.019602         -0.110307  \n",
              "2         -0.258300        0.019080         -0.112937  \n",
              "12        -0.258327        0.018487         -0.098321  "
            ]
          },
          "metadata": {
            "tags": []
          },
          "execution_count": 60
        }
      ]
    },
    {
      "cell_type": "code",
      "metadata": {
        "id": "O34y3hyPEEPC",
        "colab_type": "code",
        "colab": {}
      },
      "source": [
        "bestmodel = RandomForestRegressor(n_estimators=200, max_depth=20)"
      ],
      "execution_count": 0,
      "outputs": []
    },
    {
      "cell_type": "code",
      "metadata": {
        "id": "hhkQy9RZEENd",
        "colab_type": "code",
        "colab": {}
      },
      "source": [
        "Xlarge = X[:,::2]\n",
        "Xlarge_lim = Xlarge[:,indices[:50]]"
      ],
      "execution_count": 0,
      "outputs": []
    },
    {
      "cell_type": "code",
      "metadata": {
        "id": "6JEn6aT4EEIz",
        "colab_type": "code",
        "colab": {
          "base_uri": "https://localhost:8080/",
          "height": 34
        },
        "outputId": "5b5b50d7-343c-4d0b-db3a-0e34da4d2da6"
      },
      "source": [
        "Xlarge_lim.shape"
      ],
      "execution_count": 64,
      "outputs": [
        {
          "output_type": "execute_result",
          "data": {
            "text/plain": [
              "(6473, 50)"
            ]
          },
          "metadata": {
            "tags": []
          },
          "execution_count": 64
        }
      ]
    },
    {
      "cell_type": "markdown",
      "metadata": {
        "id": "HPrKApYUIg8g",
        "colab_type": "text"
      },
      "source": [
        "Scores on all samples"
      ]
    },
    {
      "cell_type": "code",
      "metadata": {
        "id": "4rx1RsQ4EEDW",
        "colab_type": "code",
        "colab": {
          "base_uri": "https://localhost:8080/",
          "height": 298
        },
        "outputId": "d5d18237-d1e3-40ee-f1d9-785c00cf06fa"
      },
      "source": [
        "#Every 2 features\n",
        "\n",
        "scores = cross_validate(bestmodel, Xlarge_lim, SFHs[:,0], cv = cv, verbose = 2, scoring=smape_scorer, return_train_score = True)\n",
        "\n",
        "print(scores)\n",
        "\n",
        "print(scores['test_score'].mean(),scores['test_score'].std())"
      ],
      "execution_count": 67,
      "outputs": [
        {
          "output_type": "stream",
          "text": [
            "[Parallel(n_jobs=1)]: Using backend SequentialBackend with 1 concurrent workers.\n"
          ],
          "name": "stderr"
        },
        {
          "output_type": "stream",
          "text": [
            "[CV]  ................................................................\n",
            "[CV] ................................................. , total=  35.0s\n",
            "[CV]  ................................................................\n"
          ],
          "name": "stdout"
        },
        {
          "output_type": "stream",
          "text": [
            "[Parallel(n_jobs=1)]: Done   1 out of   1 | elapsed:   35.2s remaining:    0.0s\n"
          ],
          "name": "stderr"
        },
        {
          "output_type": "stream",
          "text": [
            "[CV] ................................................. , total=  35.5s\n",
            "[CV]  ................................................................\n",
            "[CV] ................................................. , total=  35.2s\n",
            "[CV]  ................................................................\n",
            "[CV] ................................................. , total=  35.0s\n",
            "[CV]  ................................................................\n",
            "[CV] ................................................. , total=  35.1s\n",
            "{'fit_time': array([34.91129684, 35.42771316, 35.08510184, 34.87567472, 35.07678771]), 'score_time': array([0.07936096, 0.07460833, 0.07459569, 0.07767653, 0.07278252]), 'test_score': array([-0.23502701, -0.21745783, -0.22964988, -0.22290016, -0.22152208]), 'train_score': array([-0.08238643, -0.08401378, -0.08281753, -0.08306576, -0.0834041 ])}\n",
            "-0.22531139375746667 0.006246069805248905\n"
          ],
          "name": "stdout"
        },
        {
          "output_type": "stream",
          "text": [
            "[Parallel(n_jobs=1)]: Done   5 out of   5 | elapsed:  2.9min finished\n"
          ],
          "name": "stderr"
        }
      ]
    },
    {
      "cell_type": "code",
      "metadata": {
        "colab_type": "code",
        "outputId": "6b8c4072-28d4-4f00-e902-a4edf69decc2",
        "id": "d7qf07KxI5NQ",
        "colab": {
          "base_uri": "https://localhost:8080/",
          "height": 139
        }
      },
      "source": [
        "bestmodel.fit(Xlarge_lim, SFHs[:,0])"
      ],
      "execution_count": 68,
      "outputs": [
        {
          "output_type": "execute_result",
          "data": {
            "text/plain": [
              "RandomForestRegressor(bootstrap=True, ccp_alpha=0.0, criterion='mse',\n",
              "                      max_depth=20, max_features='auto', max_leaf_nodes=None,\n",
              "                      max_samples=None, min_impurity_decrease=0.0,\n",
              "                      min_impurity_split=None, min_samples_leaf=1,\n",
              "                      min_samples_split=2, min_weight_fraction_leaf=0.0,\n",
              "                      n_estimators=200, n_jobs=None, oob_score=False,\n",
              "                      random_state=None, verbose=0, warm_start=False)"
            ]
          },
          "metadata": {
            "tags": []
          },
          "execution_count": 68
        }
      ]
    },
    {
      "cell_type": "code",
      "metadata": {
        "colab_type": "code",
        "outputId": "6882793b-8fb1-4f8f-84fe-2fcd53c4c6a7",
        "id": "DqQXHypzI5Np",
        "colab": {
          "base_uri": "https://localhost:8080/",
          "height": 712
        }
      },
      "source": [
        "smapes = []\n",
        "\n",
        "for key in spectra.keys():\n",
        "  print(key)\n",
        "  spec = spectra[key]\n",
        "  Xt = np.log10(spec[:,::2])\n",
        "  Xt = Xt[:,indices[:50]]\n",
        "  SFHpred = bestmodel.predict(Xt)\n",
        "  smapes.append(smape(SFHs[:,0],SFHpred))\n",
        "  print(smape(SFHs[:,0],SFHpred))\n",
        "a = np.array(smapes)"
      ],
      "execution_count": 69,
      "outputs": [
        {
          "output_type": "stream",
          "text": [
            "bc03_int_spec\n",
            "0.8100184059777513\n",
            "bc03_dustA_spec\n",
            "0.4078190696509394\n",
            "bc03_dustB_spec\n",
            "0.387895914120054\n",
            "bc03_dustC_spec\n",
            "0.3757280347593459\n",
            "fsps_int_spec\n",
            "0.5961256690102394\n",
            "fsps_dustA_spec\n",
            "0.2111704406299009\n",
            "fsps_dustB_spec\n",
            "0.08146568365693593\n",
            "fsps_dustC_spec\n",
            "0.2035207454266625\n",
            "fsps_neb_int_spec\n",
            "0.5961256690102394\n",
            "fsps_neb_dustA_spec\n",
            "0.24009228492412393\n",
            "fsps_neb_dustB_spec\n",
            "0.22167813891182517\n",
            "fsps_neb_dustC_spec\n",
            "0.2194355725847595\n",
            "bpass_int_spec\n",
            "0.5055594565609838\n",
            "bpass_dustA_spec\n",
            "0.32628866315026617\n",
            "bpass_dustB_spec\n",
            "0.38350873446511263\n",
            "bpass_dustC_spec\n",
            "0.4270812986965034\n",
            "bpass_sin_int_spec\n",
            "0.3762807598701506\n",
            "bpass_sin_dustA_spec\n",
            "0.5592818656162508\n",
            "bpass_sin_dustB_spec\n",
            "0.672484980812782\n",
            "bpass_sin_dustC_spec\n",
            "0.7340149303512922\n"
          ],
          "name": "stdout"
        }
      ]
    },
    {
      "cell_type": "code",
      "metadata": {
        "id": "4mI_Zo5uED7R",
        "colab_type": "code",
        "colab": {}
      },
      "source": [
        "smapes_RF_bin0 = dict(zip(spectra.keys(),a))\n"
      ],
      "execution_count": 0,
      "outputs": []
    },
    {
      "cell_type": "markdown",
      "metadata": {
        "id": "-d9rL2T-KT8J",
        "colab_type": "text"
      },
      "source": [
        "These below are my best co diffs (using all features)"
      ]
    },
    {
      "cell_type": "code",
      "metadata": {
        "id": "dxXoPaApI0lF",
        "colab_type": "code",
        "colab": {}
      },
      "source": [
        "CoDiff = {'bc03_dustA_spec': 52.459523748527964,\n",
        " 'bc03_dustB_spec': 59.475978902937285,\n",
        " 'bc03_dustC_spec': 64.38199873143584,\n",
        " 'bc03_int_spec': 211.80544648670522,\n",
        " 'bpass_dustA_spec': 117.71157949665115,\n",
        " 'bpass_dustB_spec': 113.07108853844645,\n",
        " 'bpass_dustC_spec': 111.75957460428282,\n",
        " 'bpass_int_spec': 192.2554817213096,\n",
        " 'bpass_sin_dustA_spec': 118.74859273691487,\n",
        " 'bpass_sin_dustB_spec': 115.45420489401204,\n",
        " 'bpass_sin_dustC_spec': 114.77238582362264,\n",
        " 'bpass_sin_int_spec': 172.80291177022934,\n",
        " 'fsps_dustA_spec': 18.272998734688798,\n",
        " 'fsps_dustB_spec': 8.883958510819294e-13,\n",
        " 'fsps_dustC_spec': 9.778511759224758,\n",
        " 'fsps_int_spec': 242.48143483607845,\n",
        " 'fsps_neb_dustA_spec': 158.68876953829349,\n",
        " 'fsps_neb_dustB_spec': 117.35929923432032,\n",
        " 'fsps_neb_dustC_spec': 94.77672170376772,\n",
        " 'fsps_neb_int_spec': 242.48143483607845}"
      ],
      "execution_count": 0,
      "outputs": []
    },
    {
      "cell_type": "code",
      "metadata": {
        "id": "9HCEAJulI0pD",
        "colab_type": "code",
        "colab": {
          "base_uri": "https://localhost:8080/",
          "height": 317
        },
        "outputId": "6ba14583-c9a0-4917-8679-875d377be199"
      },
      "source": [
        "for key in CoDiff.keys():\n",
        "\n",
        "  plt.scatter(CoDiff[key], smapes_RF_bin0[key])\n",
        "\n",
        "print('Linear corr', np.corrcoef([CoDiff[key] for key in CoDiff.keys()], [smapes_RF_bin0[key] for key in CoDiff.keys()])[0,1])\n",
        "\n",
        "print('Spearman corr', spearmanr([CoDiff[key] for key in CoDiff.keys()], [smapes_RF_bin0[key] for key in CoDiff.keys()]))"
      ],
      "execution_count": 72,
      "outputs": [
        {
          "output_type": "stream",
          "text": [
            "findfont: Font family ['sans-serif'] not found. Falling back to DejaVu Sans.\n"
          ],
          "name": "stderr"
        },
        {
          "output_type": "stream",
          "text": [
            "Linear corr 0.6360889224710142\n",
            "Spearman corr SpearmanrResult(correlation=0.6117381489841985, pvalue=0.004152740820553583)\n"
          ],
          "name": "stdout"
        },
        {
          "output_type": "display_data",
          "data": {
            "image/png": "[encoded data removed]",
            "text/plain": [
              "<Figure size 432x288 with 1 Axes>"
            ]
          },
          "metadata": {
            "tags": [],
            "needs_background": "light"
          }
        }
      ]
    },
    {
      "cell_type": "markdown",
      "metadata": {
        "id": "5wCJNUzhI0tf",
        "colab_type": "text"
      },
      "source": [
        "This is not very good - let's see if the issue is the fact that we are only using 50 features."
      ]
    },
    {
      "cell_type": "code",
      "metadata": {
        "id": "aXaldgRfI00H",
        "colab_type": "code",
        "colab": {
          "base_uri": "https://localhost:8080/",
          "height": 139
        },
        "outputId": "b8f6c78d-37e7-4f50-de99-6993223feef5"
      },
      "source": [
        "#Xlarge = X[:,::2] - just a reminder of the definition\n",
        "\n",
        "bestmodel.fit(Xlarge, SFHs[:,0])"
      ],
      "execution_count": 73,
      "outputs": [
        {
          "output_type": "execute_result",
          "data": {
            "text/plain": [
              "RandomForestRegressor(bootstrap=True, ccp_alpha=0.0, criterion='mse',\n",
              "                      max_depth=20, max_features='auto', max_leaf_nodes=None,\n",
              "                      max_samples=None, min_impurity_decrease=0.0,\n",
              "                      min_impurity_split=None, min_samples_leaf=1,\n",
              "                      min_samples_split=2, min_weight_fraction_leaf=0.0,\n",
              "                      n_estimators=200, n_jobs=None, oob_score=False,\n",
              "                      random_state=None, verbose=0, warm_start=False)"
            ]
          },
          "metadata": {
            "tags": []
          },
          "execution_count": 73
        }
      ]
    },
    {
      "cell_type": "code",
      "metadata": {
        "id": "WNnbagmDI04g",
        "colab_type": "code",
        "colab": {
          "base_uri": "https://localhost:8080/",
          "height": 712
        },
        "outputId": "21ac997b-8a46-4b59-862b-049d8f00e139"
      },
      "source": [
        "smapes_all_feat = []\n",
        "\n",
        "for key in spectra.keys():\n",
        "  print(key)\n",
        "  spec = spectra[key]\n",
        "  Xt = np.log10(spec[:,::2])\n",
        "#  Xt = Xt[:,indices[:50]] No feature selection\n",
        "  SFHpred = bestmodel.predict(Xt)\n",
        "  smapes_all_feat.append(smape(SFHs[:,0],SFHpred))\n",
        "  print(smape(SFHs[:,0],SFHpred))\n",
        "a_all_feat = np.array(smapes_all_feat)"
      ],
      "execution_count": 74,
      "outputs": [
        {
          "output_type": "stream",
          "text": [
            "bc03_int_spec\n",
            "0.8045717296900535\n",
            "bc03_dustA_spec\n",
            "0.4090591887688598\n",
            "bc03_dustB_spec\n",
            "0.392618338254973\n",
            "bc03_dustC_spec\n",
            "0.38071713949801345\n",
            "fsps_int_spec\n",
            "0.6007547267852509\n",
            "fsps_dustA_spec\n",
            "0.20991154273745544\n",
            "fsps_dustB_spec\n",
            "0.08056727973281995\n",
            "fsps_dustC_spec\n",
            "0.2031564914077187\n",
            "fsps_neb_int_spec\n",
            "0.6007547267852509\n",
            "fsps_neb_dustA_spec\n",
            "0.2710157641529199\n",
            "fsps_neb_dustB_spec\n",
            "0.26646189888953326\n",
            "fsps_neb_dustC_spec\n",
            "0.26562577603309484\n",
            "bpass_int_spec\n",
            "0.5103831890398628\n",
            "bpass_dustA_spec\n",
            "0.33712620823689354\n",
            "bpass_dustB_spec\n",
            "0.4045670878986096\n",
            "bpass_dustC_spec\n",
            "0.4511342950386886\n",
            "bpass_sin_int_spec\n",
            "0.38740293560105593\n",
            "bpass_sin_dustA_spec\n",
            "0.5833792576715203\n",
            "bpass_sin_dustB_spec\n",
            "0.705958723618678\n",
            "bpass_sin_dustC_spec\n",
            "0.7706048762987887\n"
          ],
          "name": "stdout"
        }
      ]
    },
    {
      "cell_type": "code",
      "metadata": {
        "id": "Rsi9teNyPfdb",
        "colab_type": "code",
        "colab": {}
      },
      "source": [
        "smapes_RF_all_feat_bin0 = dict(zip(spectra.keys(),a_all_feat))"
      ],
      "execution_count": 0,
      "outputs": []
    },
    {
      "cell_type": "code",
      "metadata": {
        "id": "scgVRJLoI03L",
        "colab_type": "code",
        "colab": {
          "base_uri": "https://localhost:8080/",
          "height": 296
        },
        "outputId": "a2f925ac-0069-47cc-d815-18f465569e0d"
      },
      "source": [
        "#We can check the SMAPEs calculated\n",
        "\n",
        "plt.scatter(a_all_feat, a)\n",
        "plt.xlabel('With all features')\n",
        "plt.ylabel('With 50 features')"
      ],
      "execution_count": 77,
      "outputs": [
        {
          "output_type": "execute_result",
          "data": {
            "text/plain": [
              "Text(0, 0.5, 'With 50 features')"
            ]
          },
          "metadata": {
            "tags": []
          },
          "execution_count": 77
        },
        {
          "output_type": "display_data",
          "data": {
            "image/png": "[encoded data removed]",
            "text/plain": [
              "<Figure size 432x288 with 1 Axes>"
            ]
          },
          "metadata": {
            "tags": [],
            "needs_background": "light"
          }
        }
      ]
    },
    {
      "cell_type": "code",
      "metadata": {
        "id": "veyTACagI0yi",
        "colab_type": "code",
        "colab": {
          "base_uri": "https://localhost:8080/",
          "height": 300
        },
        "outputId": "3c10cf87-cd54-47ad-d2ee-daa4a0f1f8bb"
      },
      "source": [
        "for key in CoDiff.keys():\n",
        "\n",
        "  plt.scatter(CoDiff[key], smapes_RF_all_feat_bin0[key])\n",
        "\n",
        "print('Linear corr', np.corrcoef([CoDiff[key] for key in CoDiff.keys()], [smapes_RF_all_feat_bin0[key] for key in CoDiff.keys()])[0,1])\n",
        "\n",
        "print('Spearman corr', spearmanr([CoDiff[key] for key in CoDiff.keys()], [smapes_RF_all_feat_bin0[key] for key in CoDiff.keys()]))"
      ],
      "execution_count": 78,
      "outputs": [
        {
          "output_type": "stream",
          "text": [
            "Linear corr 0.6404926359494141\n",
            "Spearman corr SpearmanrResult(correlation=0.6177577125658389, pvalue=0.003701885886281471)\n"
          ],
          "name": "stdout"
        },
        {
          "output_type": "display_data",
          "data": {
            "image/png": "[encoded data removed]",
            "text/plain": [
              "<Figure size 432x288 with 1 Axes>"
            ]
          },
          "metadata": {
            "tags": [],
            "needs_background": "light"
          }
        }
      ]
    },
    {
      "cell_type": "markdown",
      "metadata": {
        "id": "HLdajutBI0w_",
        "colab_type": "text"
      },
      "source": [
        "Morale: **correlations for RF smapes for bin 0 and Covariance Differences are not that good**.\n",
        "\n",
        "**Would the correlation improve if I used only the 50 features above?**"
      ]
    },
    {
      "cell_type": "code",
      "metadata": {
        "id": "6dbWOl8LYkj7",
        "colab_type": "code",
        "colab": {}
      },
      "source": [
        "#Xlarge_lim is my original data set (all examples, 50 features)"
      ],
      "execution_count": 0,
      "outputs": []
    },
    {
      "cell_type": "code",
      "metadata": {
        "id": "afv3MrhKZEt7",
        "colab_type": "code",
        "colab": {}
      },
      "source": [
        "scaler = StandardScaler()"
      ],
      "execution_count": 0,
      "outputs": []
    },
    {
      "cell_type": "code",
      "metadata": {
        "colab_type": "code",
        "id": "SX6PE13bYPgc",
        "colab": {}
      },
      "source": [
        "Xn_best = scaler.fit_transform(Xlarge_lim) #normalize new matrix"
      ],
      "execution_count": 0,
      "outputs": []
    },
    {
      "cell_type": "code",
      "metadata": {
        "colab_type": "code",
        "id": "gGPUAAWsYPgi",
        "colab": {}
      },
      "source": [
        "EC_best = empirical_covariance(Xn_best, assume_centered=True)"
      ],
      "execution_count": 0,
      "outputs": []
    },
    {
      "cell_type": "code",
      "metadata": {
        "colab_type": "code",
        "outputId": "b3cb1ebd-1f30-4c2d-8591-5175e45f75bd",
        "id": "xAMRcY1iYPgp",
        "colab": {
          "base_uri": "https://localhost:8080/",
          "height": 712
        }
      },
      "source": [
        "#Calculate covariances; using empirical covariance for now\n",
        "\n",
        "CovDiff_best = []\n",
        "\n",
        "for el in spectra.keys():\n",
        "  print(el) #same as enumerate(spectra.keys())\n",
        "  spec = spectra[el]\n",
        "  spec_best = spec[:,::2]\n",
        "  spec_best = spec_best[:,indices[:50]]\n",
        "  specn_best = scaler.fit_transform(spec_best) #normalizing using same prescription\n",
        "  ECt_best = empirical_covariance(specn_best, assume_centered=True)\n",
        "  print(np.linalg.norm(EC_best - ECt_best))\n",
        "  CovDiff_best.append(np.linalg.norm(EC_best - ECt_best))\n",
        "\n",
        "CD_best = np.array(CovDiff_best)"
      ],
      "execution_count": 83,
      "outputs": [
        {
          "output_type": "stream",
          "text": [
            "bc03_int_spec\n",
            "3.227956952185864\n",
            "bc03_dustA_spec\n",
            "1.181592491747851\n",
            "bc03_dustB_spec\n",
            "1.0661399913864893\n",
            "bc03_dustC_spec\n",
            "1.013822635427252\n",
            "fsps_int_spec\n",
            "3.6707410241209857\n",
            "fsps_dustA_spec\n",
            "1.4890621666238475\n",
            "fsps_dustB_spec\n",
            "1.2792306697203881\n",
            "fsps_dustC_spec\n",
            "1.181902354642051\n",
            "fsps_neb_int_spec\n",
            "3.6707410241209857\n",
            "fsps_neb_dustA_spec\n",
            "2.187214119508506\n",
            "fsps_neb_dustB_spec\n",
            "1.7273566013824373\n",
            "fsps_neb_dustC_spec\n",
            "1.4760099881376125\n",
            "bpass_int_spec\n",
            "2.87272410548021\n",
            "bpass_dustA_spec\n",
            "2.7706712030715517\n",
            "bpass_dustB_spec\n",
            "2.682730554526344\n",
            "bpass_dustC_spec\n",
            "2.6385421472104094\n",
            "bpass_sin_int_spec\n",
            "2.7069301099353873\n",
            "bpass_sin_dustA_spec\n",
            "2.813848810874592\n",
            "bpass_sin_dustB_spec\n",
            "2.724635156487428\n",
            "bpass_sin_dustC_spec\n",
            "2.685763036899277\n"
          ],
          "name": "stdout"
        }
      ]
    },
    {
      "cell_type": "code",
      "metadata": {
        "colab_type": "code",
        "id": "KBd6nTIPYPgx",
        "colab": {}
      },
      "source": [
        "CoDiff_best = dict(zip(spectra.keys(),CD_best))"
      ],
      "execution_count": 0,
      "outputs": []
    },
    {
      "cell_type": "code",
      "metadata": {
        "colab_type": "code",
        "outputId": "c0deff83-9be2-488f-ffce-94b1cdf4df27",
        "id": "8MSV0AqhYPg2",
        "colab": {
          "base_uri": "https://localhost:8080/",
          "height": 364
        }
      },
      "source": [
        "CoDiff_best"
      ],
      "execution_count": 85,
      "outputs": [
        {
          "output_type": "execute_result",
          "data": {
            "text/plain": [
              "{'bc03_dustA_spec': 1.181592491747851,\n",
              " 'bc03_dustB_spec': 1.0661399913864893,\n",
              " 'bc03_dustC_spec': 1.013822635427252,\n",
              " 'bc03_int_spec': 3.227956952185864,\n",
              " 'bpass_dustA_spec': 2.7706712030715517,\n",
              " 'bpass_dustB_spec': 2.682730554526344,\n",
              " 'bpass_dustC_spec': 2.6385421472104094,\n",
              " 'bpass_int_spec': 2.87272410548021,\n",
              " 'bpass_sin_dustA_spec': 2.813848810874592,\n",
              " 'bpass_sin_dustB_spec': 2.724635156487428,\n",
              " 'bpass_sin_dustC_spec': 2.685763036899277,\n",
              " 'bpass_sin_int_spec': 2.7069301099353873,\n",
              " 'fsps_dustA_spec': 1.4890621666238475,\n",
              " 'fsps_dustB_spec': 1.2792306697203881,\n",
              " 'fsps_dustC_spec': 1.181902354642051,\n",
              " 'fsps_int_spec': 3.6707410241209857,\n",
              " 'fsps_neb_dustA_spec': 2.187214119508506,\n",
              " 'fsps_neb_dustB_spec': 1.7273566013824373,\n",
              " 'fsps_neb_dustC_spec': 1.4760099881376125,\n",
              " 'fsps_neb_int_spec': 3.6707410241209857}"
            ]
          },
          "metadata": {
            "tags": []
          },
          "execution_count": 85
        }
      ]
    },
    {
      "cell_type": "code",
      "metadata": {
        "colab_type": "code",
        "outputId": "9a874c2f-ba35-4006-cc81-38b50d8ed837",
        "id": "7lrRHGMmYPg-",
        "colab": {
          "base_uri": "https://localhost:8080/",
          "height": 317
        }
      },
      "source": [
        "for key in CoDiff_best.keys():\n",
        "  plt.scatter(CoDiff_best[key], smapes_RF_bin0[key])\n",
        "\n",
        "print(np.corrcoef([CoDiff_best[key] for key in CoDiff_best.keys()], [smapes_RF_bin0[key] for key in CoDiff_best.keys()]))\n",
        "\n",
        "print(spearmanr([CoDiff_best[key] for key in CoDiff_best.keys()], [smapes_RF_bin0[key] for key in CoDiff_best.keys()]))"
      ],
      "execution_count": 86,
      "outputs": [
        {
          "output_type": "stream",
          "text": [
            "[[1.        0.6983512]\n",
            " [0.6983512 1.       ]]\n",
            "SpearmanrResult(correlation=0.656884875846501, pvalue=0.0016524623117421234)\n"
          ],
          "name": "stdout"
        },
        {
          "output_type": "display_data",
          "data": {
            "image/png": "[encoded data removed]",
            "text/plain": [
              "<Figure size 432x288 with 1 Axes>"
            ]
          },
          "metadata": {
            "tags": [],
            "needs_background": "light"
          }
        }
      ]
    },
    {
      "cell_type": "markdown",
      "metadata": {
        "id": "MRyHT7qAPw6J",
        "colab_type": "text"
      },
      "source": [
        "We only see a modest improvement. It might be worth trying with another bin."
      ]
    },
    {
      "cell_type": "code",
      "metadata": {
        "id": "LZcXpVJiPw9w",
        "colab_type": "code",
        "colab": {}
      },
      "source": [
        ""
      ],
      "execution_count": 0,
      "outputs": []
    },
    {
      "cell_type": "code",
      "metadata": {
        "id": "gx5YlQd3Z_e0",
        "colab_type": "code",
        "colab": {}
      },
      "source": [
        ""
      ],
      "execution_count": 0,
      "outputs": []
    },
    {
      "cell_type": "code",
      "metadata": {
        "id": "a5KI9ZfxZ_j8",
        "colab_type": "code",
        "colab": {}
      },
      "source": [
        ""
      ],
      "execution_count": 0,
      "outputs": []
    },
    {
      "cell_type": "markdown",
      "metadata": {
        "id": "uGbofpZRZ_nY",
        "colab_type": "text"
      },
      "source": [
        "**Older stuff below (last update April 16)**"
      ]
    },
    {
      "cell_type": "markdown",
      "metadata": {
        "id": "uBAnF-N_Liil",
        "colab_type": "text"
      },
      "source": [
        "\n",
        "We can continue by predicting the other bins, and comparing to the results from the full calculation (with 1 every 2 features) below.\n"
      ]
    },
    {
      "cell_type": "code",
      "metadata": {
        "id": "F7-RXvf0TNoI",
        "colab_type": "code",
        "outputId": "deb3a4bc-97de-4a3d-89ec-8665fb8d72ac",
        "colab": {
          "base_uri": "https://localhost:8080/",
          "height": 523
        }
      },
      "source": [
        "for i in range(1,8):\n",
        "  scores = cross_validate(model, Xnew, transf_target(SFHs[sel,i]), cv = cv, verbose = 1, scoring=smape_scorer, return_train_score = True)\n",
        "  print(scores)\n",
        "  print(scores['test_score'].mean(), scores['test_score'].std())"
      ],
      "execution_count": 0,
      "outputs": [
        {
          "output_type": "stream",
          "text": [
            "[Parallel(n_jobs=1)]: Using backend SequentialBackend with 1 concurrent workers.\n",
            "[Parallel(n_jobs=1)]: Done   4 out of   4 | elapsed:    7.8s finished\n",
            "[Parallel(n_jobs=1)]: Using backend SequentialBackend with 1 concurrent workers.\n"
          ],
          "name": "stderr"
        },
        {
          "output_type": "stream",
          "text": [
            "{'fit_time': array([1.93835664, 1.92603993, 1.88972139, 1.94275737]), 'score_time': array([0.00923896, 0.00854921, 0.00827384, 0.00815535]), 'test_score': array([-0.03529663, -0.03391354, -0.03649272, -0.03934138]), 'train_score': array([-0.01334339, -0.01313933, -0.01289258, -0.01392894])}\n",
            "-0.036261068007006916 0.0019989363722062088\n"
          ],
          "name": "stdout"
        },
        {
          "output_type": "stream",
          "text": [
            "[Parallel(n_jobs=1)]: Done   4 out of   4 | elapsed:    7.6s finished\n",
            "[Parallel(n_jobs=1)]: Using backend SequentialBackend with 1 concurrent workers.\n"
          ],
          "name": "stderr"
        },
        {
          "output_type": "stream",
          "text": [
            "{'fit_time': array([1.88396502, 1.87137604, 1.89276671, 1.86281133]), 'score_time': array([0.0082233 , 0.00829268, 0.00827098, 0.00851583]), 'test_score': array([-0.02674751, -0.03147618, -0.02958308, -0.02714191]), 'train_score': array([-0.01147822, -0.01128788, -0.01095183, -0.01097698])}\n",
            "-0.028737172293272596 0.0019184182816218795\n"
          ],
          "name": "stdout"
        },
        {
          "output_type": "stream",
          "text": [
            "[Parallel(n_jobs=1)]: Done   4 out of   4 | elapsed:    7.6s finished\n",
            "[Parallel(n_jobs=1)]: Using backend SequentialBackend with 1 concurrent workers.\n"
          ],
          "name": "stderr"
        },
        {
          "output_type": "stream",
          "text": [
            "{'fit_time': array([1.90012598, 1.86045814, 1.86323619, 1.85324502]), 'score_time': array([0.00814605, 0.0084269 , 0.00827909, 0.00839496]), 'test_score': array([-0.03389578, -0.02928534, -0.02641932, -0.02945783]), 'train_score': array([-0.01077088, -0.01080512, -0.01079749, -0.0103822 ])}\n",
            "-0.029764568434397287 0.0026730743473871205\n"
          ],
          "name": "stdout"
        },
        {
          "output_type": "stream",
          "text": [
            "[Parallel(n_jobs=1)]: Done   4 out of   4 | elapsed:    7.8s finished\n",
            "[Parallel(n_jobs=1)]: Using backend SequentialBackend with 1 concurrent workers.\n"
          ],
          "name": "stderr"
        },
        {
          "output_type": "stream",
          "text": [
            "{'fit_time': array([1.92806244, 1.90996647, 1.93305922, 1.92130113]), 'score_time': array([0.00839663, 0.00817728, 0.0081625 , 0.00822949]), 'test_score': array([-0.03871803, -0.03193566, -0.03599367, -0.03959401]), 'train_score': array([-0.01312837, -0.01392584, -0.01354527, -0.01284596])}\n",
            "-0.03656034240877655 0.002981928023019271\n"
          ],
          "name": "stdout"
        },
        {
          "output_type": "stream",
          "text": [
            "[Parallel(n_jobs=1)]: Done   4 out of   4 | elapsed:    8.1s finished\n",
            "[Parallel(n_jobs=1)]: Using backend SequentialBackend with 1 concurrent workers.\n"
          ],
          "name": "stderr"
        },
        {
          "output_type": "stream",
          "text": [
            "{'fit_time': array([2.0401938 , 1.98407197, 2.01211309, 1.99896145]), 'score_time': array([0.00841022, 0.00818419, 0.00824523, 0.0089345 ]), 'test_score': array([-0.04512847, -0.04026926, -0.04177732, -0.04180064]), 'train_score': array([-0.01536342, -0.01525373, -0.01483649, -0.01526969])}\n",
            "-0.04224392221769683 0.0017772277270027537\n"
          ],
          "name": "stdout"
        },
        {
          "output_type": "stream",
          "text": [
            "[Parallel(n_jobs=1)]: Done   4 out of   4 | elapsed:    8.7s finished\n",
            "[Parallel(n_jobs=1)]: Using backend SequentialBackend with 1 concurrent workers.\n"
          ],
          "name": "stderr"
        },
        {
          "output_type": "stream",
          "text": [
            "{'fit_time': array([2.1534481 , 2.11944151, 2.17510629, 2.1307745 ]), 'score_time': array([0.00829911, 0.0085597 , 0.00831842, 0.0083189 ]), 'test_score': array([-0.04591018, -0.04372264, -0.05003194, -0.04948544]), 'train_score': array([-0.01812926, -0.01820821, -0.01690747, -0.01795913])}\n",
            "-0.04728755150975508 0.002596541802312426\n",
            "{'fit_time': array([1.91237068, 1.93005466, 1.88873124, 1.88215041]), 'score_time': array([0.00830555, 0.0085516 , 0.00832367, 0.00819564]), 'test_score': array([-0.02889461, -0.03041601, -0.02799732, -0.02865169]), 'train_score': array([-0.01065063, -0.0101602 , -0.01080493, -0.01042334])}\n",
            "-0.028989908418066562 0.000886352376277999\n"
          ],
          "name": "stdout"
        },
        {
          "output_type": "stream",
          "text": [
            "[Parallel(n_jobs=1)]: Done   4 out of   4 | elapsed:    7.7s finished\n"
          ],
          "name": "stderr"
        }
      ]
    },
    {
      "cell_type": "markdown",
      "metadata": {
        "id": "h5V7ke5cTNrX",
        "colab_type": "text"
      },
      "source": [
        "Test scores are very similar to what we obtained using all features."
      ]
    },
    {
      "cell_type": "code",
      "metadata": {
        "id": "fFYM1O4eagho",
        "colab_type": "code",
        "colab": {}
      },
      "source": [
        ""
      ],
      "execution_count": 0,
      "outputs": []
    },
    {
      "cell_type": "markdown",
      "metadata": {
        "id": "madjwFP6TsBC",
        "colab_type": "text"
      },
      "source": [
        "Ok, now onto SMAPE calculation for other simulated data sets."
      ]
    },
    {
      "cell_type": "code",
      "metadata": {
        "id": "_PrNTM5ETsGZ",
        "colab_type": "code",
        "colab": {}
      },
      "source": [
        "bestmodel = RandomForestRegressor() #no parameter optimization because was found to be quite useless"
      ],
      "execution_count": 0,
      "outputs": []
    },
    {
      "cell_type": "code",
      "metadata": {
        "colab_type": "code",
        "outputId": "1562fa58-51ea-4c4e-9fb1-8a7db4c31699",
        "id": "MTYdYsKPUeYh",
        "colab": {
          "base_uri": "https://localhost:8080/",
          "height": 139
        }
      },
      "source": [
        "bestmodel.fit(X[:,indices[:100]], transf_target(SFHs[:,0]))"
      ],
      "execution_count": 0,
      "outputs": [
        {
          "output_type": "execute_result",
          "data": {
            "text/plain": [
              "RandomForestRegressor(bootstrap=True, ccp_alpha=0.0, criterion='mse',\n",
              "                      max_depth=None, max_features='auto', max_leaf_nodes=None,\n",
              "                      max_samples=None, min_impurity_decrease=0.0,\n",
              "                      min_impurity_split=None, min_samples_leaf=1,\n",
              "                      min_samples_split=2, min_weight_fraction_leaf=0.0,\n",
              "                      n_estimators=100, n_jobs=None, oob_score=False,\n",
              "                      random_state=None, verbose=0, warm_start=False)"
            ]
          },
          "metadata": {
            "tags": []
          },
          "execution_count": 77
        }
      ]
    },
    {
      "cell_type": "code",
      "metadata": {
        "colab_type": "code",
        "id": "NCwOw2OtUeY5",
        "outputId": "7c7cc83f-91d1-4ded-b1bc-1576d0e81298",
        "colab": {
          "base_uri": "https://localhost:8080/",
          "height": 1000
        }
      },
      "source": [
        "smapes = []\n",
        "smapes_transf = []\n",
        "\n",
        "for key in spectra.keys():\n",
        "  print(key)\n",
        "  spec = spectra[key]\n",
        "  Xt = np.log10(spec[:,indices[:100]])\n",
        "  SFHpred = bestmodel.predict(Xt)\n",
        "  smapes.append(smape(SFHs[:,0],inv_transf_target(SFHpred)))\n",
        "  smapes_transf.append(smape(transf_target(SFHs[:,0]),SFHpred))\n",
        "  print(smape(transf_target(SFHs[:,0]),SFHpred))\n",
        "  print(smape(SFHs[:,0],inv_transf_target(SFHpred)))\n",
        "a = np.array(smapes)\n",
        "a_transf = np.array(smapes_transf)"
      ],
      "execution_count": 0,
      "outputs": [
        {
          "output_type": "stream",
          "text": [
            "bc03_int_spec\n",
            "0.142933989485378\n",
            "0.7356913450981823\n",
            "bc03_dustA_spec\n",
            "0.06149836755072349\n",
            "0.3453668826104374\n",
            "bc03_dustB_spec\n",
            "0.05820368080531717\n",
            "0.32858211931516373\n",
            "bc03_dustC_spec\n",
            "0.05595158483180672\n",
            "0.3172878448492339\n",
            "fsps_int_spec\n",
            "0.09497520850597337\n",
            "0.539512083241499\n",
            "fsps_dustA_spec\n",
            "0.031989679720251046\n",
            "0.20881628494342033\n",
            "fsps_dustB_spec\n",
            "0.012402464829416605\n",
            "0.0823932714587918\n",
            "fsps_dustC_spec\n",
            "0.030885923987542568\n",
            "0.2048241573666147\n",
            "fsps_neb_int_spec\n",
            "0.09497520850597337\n",
            "0.539512083241499\n",
            "fsps_neb_dustA_spec\n",
            "0.05122634213107202\n",
            "0.3692573964802727\n",
            "fsps_neb_dustB_spec\n",
            "0.0486822535488881\n",
            "0.3526035423689554\n",
            "fsps_neb_dustC_spec\n",
            "0.0459330547954303\n",
            "0.3326179686718879\n",
            "bpass_int_spec\n",
            "0.08824046946059078\n",
            "0.5221512722024999\n",
            "bpass_dustA_spec\n",
            "0.04531630620627585\n",
            "0.3094204853252237\n",
            "bpass_dustB_spec\n",
            "0.05116526366099316\n",
            "0.35755400514892116\n",
            "bpass_dustC_spec\n",
            "0.05553670995913445\n",
            "0.39227227188900016\n",
            "bpass_sin_int_spec\n",
            "0.06688031276896704\n",
            "0.4223178847498894\n",
            "bpass_sin_dustA_spec\n",
            "0.07286643301881698\n",
            "0.5354945907141253\n",
            "bpass_sin_dustB_spec\n",
            "0.0855372198591191\n",
            "0.6449288548519783\n",
            "bpass_sin_dustC_spec\n",
            "0.09214108311680079\n",
            "0.7004771233104355\n"
          ],
          "name": "stdout"
        }
      ]
    },
    {
      "cell_type": "code",
      "metadata": {
        "colab_type": "code",
        "id": "Cprbswn5UeZD",
        "colab": {}
      },
      "source": [
        "smapes = dict(zip(spectra.keys(),a))\n",
        "smapes_transf = dict(zip(spectra.keys(),a_transf))"
      ],
      "execution_count": 0,
      "outputs": []
    },
    {
      "cell_type": "code",
      "metadata": {
        "colab_type": "code",
        "outputId": "fb959b34-16be-4e46-8e78-11cca7c315a9",
        "id": "GwYWPMthUeZL",
        "colab": {
          "base_uri": "https://localhost:8080/",
          "height": 282
        }
      },
      "source": [
        "plt.scatter(smapes.values(), smapes_transf.values())"
      ],
      "execution_count": 0,
      "outputs": [
        {
          "output_type": "execute_result",
          "data": {
            "text/plain": [
              "<matplotlib.collections.PathCollection at 0x7fc775d7df60>"
            ]
          },
          "metadata": {
            "tags": []
          },
          "execution_count": 85
        },
        {
          "output_type": "display_data",
          "data": {
            "image/png": "[encoded data removed]",
            "text/plain": [
              "<Figure size 432x288 with 1 Axes>"
            ]
          },
          "metadata": {
            "tags": []
          }
        }
      ]
    },
    {
      "cell_type": "code",
      "metadata": {
        "id": "UACx0gh8kSNB",
        "colab_type": "code",
        "colab": {}
      },
      "source": [
        "#Let's try to fit/predict using all features"
      ],
      "execution_count": 0,
      "outputs": []
    },
    {
      "cell_type": "code",
      "metadata": {
        "id": "FqlGDahKkSSX",
        "colab_type": "code",
        "outputId": "c4f28f3d-6981-4c2b-ccbe-c2dba4ded7cb",
        "colab": {
          "base_uri": "https://localhost:8080/",
          "height": 139
        }
      },
      "source": [
        "bestmodel.fit(X, transf_target(SFHs[:,0]))"
      ],
      "execution_count": 0,
      "outputs": [
        {
          "output_type": "execute_result",
          "data": {
            "text/plain": [
              "RandomForestRegressor(bootstrap=True, ccp_alpha=0.0, criterion='mse',\n",
              "                      max_depth=None, max_features='auto', max_leaf_nodes=None,\n",
              "                      max_samples=None, min_impurity_decrease=0.0,\n",
              "                      min_impurity_split=None, min_samples_leaf=1,\n",
              "                      min_samples_split=2, min_weight_fraction_leaf=0.0,\n",
              "                      n_estimators=100, n_jobs=None, oob_score=False,\n",
              "                      random_state=None, verbose=0, warm_start=False)"
            ]
          },
          "metadata": {
            "tags": []
          },
          "execution_count": 145
        }
      ]
    },
    {
      "cell_type": "code",
      "metadata": {
        "id": "6OkBHcSekSWH",
        "colab_type": "code",
        "outputId": "42a9d8e8-bbb8-48a7-bd5e-af18a26985d9",
        "colab": {
          "base_uri": "https://localhost:8080/",
          "height": 1000
        }
      },
      "source": [
        "smapes_all = []\n",
        "smapes_all_transf = []\n",
        "\n",
        "for key in spectra.keys():\n",
        "  print(key)\n",
        "  spec = spectra[key]\n",
        "  Xt = np.log10(spec)\n",
        "  SFHpred = bestmodel.predict(Xt)\n",
        "  smapes_all.append(smape(SFHs[:,0],inv_transf_target(SFHpred)))\n",
        "  smapes_all_transf.append(smape(transf_target(SFHs[:,0]),SFHpred))\n",
        "  print(smape(transf_target(SFHs[:,0]),SFHpred))\n",
        "  print(smape(SFHs[:,0],inv_transf_target(SFHpred)))\n",
        "a_all = np.array(smapes_all)\n",
        "a_all_transf = np.array(smapes_all_transf)"
      ],
      "execution_count": 0,
      "outputs": [
        {
          "output_type": "stream",
          "text": [
            "bc03_int_spec\n",
            "0.1422186485898108\n",
            "0.7368122693758115\n",
            "bc03_dustA_spec\n",
            "0.06213332538627149\n",
            "0.35054647157739643\n",
            "bc03_dustB_spec\n",
            "0.05952727302294283\n",
            "0.3359530945620964\n",
            "bc03_dustC_spec\n",
            "0.057793104584701986\n",
            "0.327097905167263\n",
            "fsps_int_spec\n",
            "0.09462335541652699\n",
            "0.541979005920028\n",
            "fsps_dustA_spec\n",
            "0.03206127898008184\n",
            "0.20949083533105753\n",
            "fsps_dustB_spec\n",
            "0.012255241620160045\n",
            "0.08159050340247266\n",
            "fsps_dustC_spec\n",
            "0.031087398043601527\n",
            "0.2070953357475391\n",
            "fsps_neb_int_spec\n",
            "0.09462335541652699\n",
            "0.541979005920028\n",
            "fsps_neb_dustA_spec\n",
            "0.04052880554250112\n",
            "0.2791982584628996\n",
            "fsps_neb_dustB_spec\n",
            "0.04055974122187549\n",
            "0.28175796638402034\n",
            "fsps_neb_dustC_spec\n",
            "0.04013172016408283\n",
            "0.2791846912799451\n",
            "bpass_int_spec\n",
            "0.08783594031975336\n",
            "0.5296376744986314\n",
            "bpass_dustA_spec\n",
            "0.043992981298176664\n",
            "0.30311703657206013\n",
            "bpass_dustB_spec\n",
            "0.05049828037010698\n",
            "0.35615844639992983\n",
            "bpass_dustC_spec\n",
            "0.054896061477611086\n",
            "0.39050311366476614\n",
            "bpass_sin_int_spec\n",
            "0.07023661170161179\n",
            "0.44537203786354\n",
            "bpass_sin_dustA_spec\n",
            "0.06957992849325595\n",
            "0.5098401624262013\n",
            "bpass_sin_dustB_spec\n",
            "0.08246414760153636\n",
            "0.6187062117954609\n",
            "bpass_sin_dustC_spec\n",
            "0.08929235895535499\n",
            "0.6763685564978175\n"
          ],
          "name": "stdout"
        }
      ]
    },
    {
      "cell_type": "code",
      "metadata": {
        "id": "rXljxawEkSQf",
        "colab_type": "code",
        "colab": {}
      },
      "source": [
        "smapes_all = dict(zip(spectra.keys(),a_all))\n",
        "smapes_all_transf = dict(zip(spectra.keys(),a_all_transf))"
      ],
      "execution_count": 0,
      "outputs": []
    },
    {
      "cell_type": "code",
      "metadata": {
        "id": "1X69md7Dk37u",
        "colab_type": "code",
        "outputId": "5808bfd8-8cfb-437a-9a2d-51f91fc93f16",
        "colab": {
          "base_uri": "https://localhost:8080/",
          "height": 282
        }
      },
      "source": [
        "plt.scatter(smapes_all.values(), smapes_all_transf.values())"
      ],
      "execution_count": 0,
      "outputs": [
        {
          "output_type": "execute_result",
          "data": {
            "text/plain": [
              "<matplotlib.collections.PathCollection at 0x7fc77567d080>"
            ]
          },
          "metadata": {
            "tags": []
          },
          "execution_count": 151
        },
        {
          "output_type": "display_data",
          "data": {
            "image/png": "[encoded data removed]",
            "text/plain": [
              "<Figure size 432x288 with 1 Axes>"
            ]
          },
          "metadata": {
            "tags": []
          }
        }
      ]
    },
    {
      "cell_type": "markdown",
      "metadata": {
        "id": "-ApnfyHiZ26K",
        "colab_type": "text"
      },
      "source": [
        "These are the covariances with all features"
      ]
    },
    {
      "cell_type": "code",
      "metadata": {
        "id": "kmu1NY8cTsJe",
        "colab_type": "code",
        "colab": {}
      },
      "source": [
        "CoDiff = {'bc03_dustA_spec': 52.45952374852797,\n",
        " 'bc03_dustB_spec': 59.47597890293729,\n",
        " 'bc03_dustC_spec': 64.38199873143584,\n",
        " 'bc03_int_spec': 211.80544648670522,\n",
        " 'bpass_dustA_spec': 117.71157949665115,\n",
        " 'bpass_dustB_spec': 113.07108853844643,\n",
        " 'bpass_dustC_spec': 111.75957460428283,\n",
        " 'bpass_int_spec': 192.2554817213096,\n",
        " 'bpass_sin_dustA_spec': 118.74859273691484,\n",
        " 'bpass_sin_dustB_spec': 115.45420489401205,\n",
        " 'bpass_sin_dustC_spec': 114.77238582362264,\n",
        " 'bpass_sin_int_spec': 172.80291177022934,\n",
        " 'fsps_dustA_spec': 18.272998734688784,\n",
        " 'fsps_dustB_spec': 0.0,\n",
        " 'fsps_dustC_spec': 9.778511759224779,\n",
        " 'fsps_int_spec': 242.48143483607842,\n",
        " 'fsps_neb_dustA_spec': 158.68876953829346,\n",
        " 'fsps_neb_dustB_spec': 117.35929923432032,\n",
        " 'fsps_neb_dustC_spec': 94.77672170376769,\n",
        " 'fsps_neb_int_spec': 242.48143483607842}"
      ],
      "execution_count": 0,
      "outputs": []
    },
    {
      "cell_type": "markdown",
      "metadata": {
        "id": "Cpl7yZjeaQoh",
        "colab_type": "text"
      },
      "source": [
        "SMAPE correlation for this bin is actually worse when all features are used in computing the distance"
      ]
    },
    {
      "cell_type": "code",
      "metadata": {
        "id": "jaPLuuDbTsER",
        "colab_type": "code",
        "outputId": "8d71df68-0944-470c-8ef5-421692bae654",
        "colab": {
          "base_uri": "https://localhost:8080/",
          "height": 334
        }
      },
      "source": [
        "#scatter with SMAPES calculated on 100 features model\n",
        "\n",
        "for key in CoDiff.keys():\n",
        "  plt.scatter(CoDiff[key], smapes_transf[key])\n",
        "\n",
        "print(np.corrcoef([CoDiff[key] for key in CoDiff.keys()], [smapes_transf[key] for key in CoDiff.keys()]))\n",
        "\n",
        "#for key in CoDiff.keys():\n",
        "#  plt.scatter(CoDiff[key], smapes[key])\n",
        "\n",
        "print(np.corrcoef([CoDiff[key] for key in CoDiff.keys()], [smapes[key] for key in CoDiff.keys()]))"
      ],
      "execution_count": 0,
      "outputs": [
        {
          "output_type": "stream",
          "text": [
            "[[1.        0.7757561]\n",
            " [0.7757561 1.       ]]\n",
            "[[1.         0.72524903]\n",
            " [0.72524903 1.        ]]\n"
          ],
          "name": "stdout"
        },
        {
          "output_type": "display_data",
          "data": {
            "image/png": "[encoded data removed]",
            "text/plain": [
              "<Figure size 432x288 with 1 Axes>"
            ]
          },
          "metadata": {
            "tags": []
          }
        }
      ]
    },
    {
      "cell_type": "code",
      "metadata": {
        "id": "rPd5KfldZYJx",
        "colab_type": "code",
        "outputId": "f31f8762-bcd5-4e26-f447-f8a6211016b4",
        "colab": {
          "base_uri": "https://localhost:8080/",
          "height": 582
        }
      },
      "source": [
        "#scatter with SMAPES calculated on all features model\n",
        "\n",
        "for key in CoDiff.keys():\n",
        "  plt.scatter(CoDiff[key], smapes_all_transf[key])\n",
        "\n",
        "print(np.corrcoef([CoDiff[key] for key in CoDiff.keys()], [smapes_all_transf[key] for key in CoDiff.keys()]))\n",
        "\n",
        "plt.figure()\n",
        "\n",
        "for key in CoDiff.keys():\n",
        "  plt.scatter(CoDiff[key], smapes[key])\n",
        "\n",
        "print(np.corrcoef([CoDiff[key] for key in CoDiff.keys()], [smapes_all[key] for key in CoDiff.keys()]))"
      ],
      "execution_count": 0,
      "outputs": [
        {
          "output_type": "stream",
          "text": [
            "[[1.         0.75066867]\n",
            " [0.75066867 1.        ]]\n",
            "[[1.         0.71227975]\n",
            " [0.71227975 1.        ]]\n"
          ],
          "name": "stdout"
        },
        {
          "output_type": "display_data",
          "data": {
            "image/png": "[encoded data removed]",
            "text/plain": [
              "<Figure size 432x288 with 1 Axes>"
            ]
          },
          "metadata": {
            "tags": []
          }
        },
        {
          "output_type": "display_data",
          "data": {
            "image/png": "[encoded data removed]",
            "text/plain": [
              "<Figure size 432x288 with 1 Axes>"
            ]
          },
          "metadata": {
            "tags": []
          }
        }
      ]
    },
    {
      "cell_type": "code",
      "metadata": {
        "id": "LOlv4_f-ZgV1",
        "colab_type": "code",
        "outputId": "9b7cc1a3-9130-4a84-f17e-1222cd8e6609",
        "colab": {
          "base_uri": "https://localhost:8080/",
          "height": 265
        }
      },
      "source": [
        "#comparison of SMAPES calculated on 100 features model vs all, same color code as above\n",
        "for key in CoDiff.keys():\n",
        "  plt.scatter(smapes[key],smapes_all[key])"
      ],
      "execution_count": 0,
      "outputs": [
        {
          "output_type": "display_data",
          "data": {
            "image/png": "[encoded data removed]",
            "text/plain": [
              "<Figure size 432x288 with 1 Axes>"
            ]
          },
          "metadata": {
            "tags": []
          }
        }
      ]
    },
    {
      "cell_type": "markdown",
      "metadata": {
        "id": "jw1OLI4QausP",
        "colab_type": "text"
      },
      "source": [
        "Let's compute covariance or norm on 100 features only"
      ]
    },
    {
      "cell_type": "code",
      "metadata": {
        "id": "sVL0EimqhbMw",
        "colab_type": "code",
        "outputId": "a7cfdf5c-b6d7-4840-b52f-14cdfcd088b3",
        "colab": {
          "base_uri": "https://localhost:8080/",
          "height": 191
        }
      },
      "source": [
        "indices[:100]"
      ],
      "execution_count": 0,
      "outputs": [
        {
          "output_type": "execute_result",
          "data": {
            "text/plain": [
              "array([ 538,  537,  539,  535,  536,  540,  541,  534, 4442,  533, 4556,\n",
              "        532,  543,  542, 4545,  530,   80,  531,  586,  431,  383,  397,\n",
              "        547, 4037,  268,  553,  448,   15,  237,  421, 2092,  576,  395,\n",
              "        452,  587,  769,  322,  127,  447,  298,  566,  578,  919,  747,\n",
              "        375,  734,  250, 1041, 4585, 2245, 4150,  731,  216,  385, 4574,\n",
              "        254,  827,  260,  570,  417,  550,   41,  363,  557,  888, 1033,\n",
              "        429,  301,  927,  427, 4453,  876,  384,  433,  432, 4566,  251,\n",
              "       4504,  456, 1266,  864,  729,  588, 4457,   22,  688,  317,   77,\n",
              "        502,  434,   94, 4236,  529, 1087, 3380,  339,  549,  212,  253,\n",
              "         21])"
            ]
          },
          "metadata": {
            "tags": []
          },
          "execution_count": 114
        }
      ]
    },
    {
      "cell_type": "markdown",
      "metadata": {
        "id": "XQN39YDohgZe",
        "colab_type": "text"
      },
      "source": [
        "These are from SelectKBest, just for reference\n",
        "\n",
        "array([ 74, 284, 285, 366, 367, 368, 369, 370, 373, 374, 375, 376, 377,\n",
        "       378, 379, 380, 381, 382, 383, 384, 385, 386, 387, 388, 389, 392,\n",
        "       393, 402, 403, 404, 405, 417, 418, 419, 420, 424, 425, 426, 427,\n",
        "       428, 429, 430, 431, 432, 433, 434, 435, 440, 441, 442, 443, 444,\n",
        "       445, 446, 447, 448, 449, 450, 451, 452, 458, 459, 460, 519, 520,\n",
        "       521, 522, 527, 528, 529, 530, 531, 532, 533, 534, 535, 536, 537,\n",
        "       538, 539, 540, 541, 542, 543, 544, 545, 546, 547, 548, 549, 550,\n",
        "       551, 552, 553, 583, 584, 585, 586, 587, 588])"
      ]
    },
    {
      "cell_type": "code",
      "metadata": {
        "id": "2UiG460Kd8i3",
        "colab_type": "code",
        "colab": {}
      },
      "source": [
        "from sklearn import feature_selection"
      ],
      "execution_count": 0,
      "outputs": []
    },
    {
      "cell_type": "code",
      "metadata": {
        "id": "kOEB-UJNjIbF",
        "colab_type": "code",
        "colab": {}
      },
      "source": [
        "filt1 = feature_selection.SelectKBest(feature_selection.f_regression, k=100)"
      ],
      "execution_count": 0,
      "outputs": []
    },
    {
      "cell_type": "code",
      "metadata": {
        "id": "oo1PqZEPacmz",
        "colab_type": "code",
        "colab": {}
      },
      "source": [
        "ref_spec = spectra['fsps_dustB_spec']"
      ],
      "execution_count": 0,
      "outputs": []
    },
    {
      "cell_type": "code",
      "metadata": {
        "id": "KuCZooZFeRHs",
        "colab_type": "code",
        "outputId": "8dfebe7d-9391-45c2-8813-121cf6d5ca46",
        "colab": {
          "base_uri": "https://localhost:8080/",
          "height": 34
        }
      },
      "source": [
        "filt1.fit(ref_spec, SFHs[:,0])"
      ],
      "execution_count": 0,
      "outputs": [
        {
          "output_type": "execute_result",
          "data": {
            "text/plain": [
              "SelectKBest(k=100, score_func=<function f_regression at 0x7fc775ffcbf8>)"
            ]
          },
          "metadata": {
            "tags": []
          },
          "execution_count": 181
        }
      ]
    },
    {
      "cell_type": "code",
      "metadata": {
        "id": "XlOdv3eFeShm",
        "colab_type": "code",
        "outputId": "ee9d5f0e-99f2-42ed-eccb-c70499c76320",
        "colab": {
          "base_uri": "https://localhost:8080/",
          "height": 156
        }
      },
      "source": [
        "filt1.get_support(indices = True)"
      ],
      "execution_count": 0,
      "outputs": [
        {
          "output_type": "execute_result",
          "data": {
            "text/plain": [
              "array([ 74, 284, 285, 366, 367, 368, 369, 370, 373, 374, 375, 376, 377,\n",
              "       378, 379, 380, 381, 382, 383, 384, 385, 386, 387, 388, 389, 392,\n",
              "       393, 402, 403, 404, 405, 417, 418, 419, 420, 424, 425, 426, 427,\n",
              "       428, 429, 430, 431, 432, 433, 434, 435, 440, 441, 442, 443, 444,\n",
              "       445, 446, 447, 448, 449, 450, 451, 452, 458, 459, 460, 519, 520,\n",
              "       521, 522, 527, 528, 529, 530, 531, 532, 533, 534, 535, 536, 537,\n",
              "       538, 539, 540, 541, 542, 543, 544, 545, 546, 547, 548, 549, 550,\n",
              "       551, 552, 553, 583, 584, 585, 586, 587, 588])"
            ]
          },
          "metadata": {
            "tags": []
          },
          "execution_count": 179
        }
      ]
    },
    {
      "cell_type": "code",
      "metadata": {
        "id": "EGrR1TAdeExv",
        "colab_type": "code",
        "colab": {}
      },
      "source": [
        "ref_best = ref_spec[:,filt1.get_support(indices = True)]\n"
      ],
      "execution_count": 0,
      "outputs": []
    },
    {
      "cell_type": "code",
      "metadata": {
        "id": "YYTDlSxReJi7",
        "colab_type": "code",
        "colab": {}
      },
      "source": [
        "Xn_best = scaler.fit_transform(ref_best) #normalize new matrix"
      ],
      "execution_count": 0,
      "outputs": []
    },
    {
      "cell_type": "code",
      "metadata": {
        "id": "d3ZAx82AeJng",
        "colab_type": "code",
        "colab": {}
      },
      "source": [
        "EC_best = empirical_covariance(Xn_best, assume_centered=True)"
      ],
      "execution_count": 0,
      "outputs": []
    },
    {
      "cell_type": "code",
      "metadata": {
        "id": "WzlXBg86eJsP",
        "colab_type": "code",
        "outputId": "8909125c-9dd6-4deb-af05-7e316d2c560b",
        "colab": {
          "base_uri": "https://localhost:8080/",
          "height": 712
        }
      },
      "source": [
        "#Calculate covariances; using empirical covariance for now\n",
        "\n",
        "CovDiff_best = []\n",
        "\n",
        "for el in spectra.keys():\n",
        "  print(el) #same as enumerate(spectra.keys())\n",
        "  spec = spectra[el]\n",
        "  spec_best = spec[:,filt1.get_support(indices = True)]\n",
        "  specn_best = scaler.transform(spec_best) #normalizing using same prescription\n",
        "  ECt_best = empirical_covariance(specn_best, assume_centered=True)\n",
        "  print(np.linalg.norm(EC_best - ECt_best))\n",
        "  CovDiff_best.append(np.linalg.norm(EC_best - ECt_best))\n",
        "\n",
        "CD_best = np.array(CovDiff_best)"
      ],
      "execution_count": 0,
      "outputs": [
        {
          "output_type": "stream",
          "text": [
            "bc03_int_spec\n",
            "462.19665009056956\n",
            "bc03_dustA_spec\n",
            "39.97605493430665\n",
            "bc03_dustB_spec\n",
            "33.92255371438859\n",
            "bc03_dustC_spec\n",
            "30.661535626268368\n",
            "fsps_int_spec\n",
            "353.6634919582977\n",
            "fsps_dustA_spec\n",
            "5.422719765783308\n",
            "fsps_dustB_spec\n",
            "0.0\n",
            "fsps_dustC_spec\n",
            "2.9813805514861937\n",
            "fsps_neb_int_spec\n",
            "353.6634919582977\n",
            "fsps_neb_dustA_spec\n",
            "31.437561359068162\n",
            "fsps_neb_dustB_spec\n",
            "18.453377670270783\n",
            "fsps_neb_dustC_spec\n",
            "12.393229019711\n",
            "bpass_int_spec\n",
            "597.3875270508765\n",
            "bpass_dustA_spec\n",
            "52.96713648274871\n",
            "bpass_dustB_spec\n",
            "44.71470001329763\n",
            "bpass_dustC_spec\n",
            "40.38523457230478\n",
            "bpass_sin_int_spec\n",
            "536.122915653703\n",
            "bpass_sin_dustA_spec\n",
            "45.410314874264735\n",
            "bpass_sin_dustB_spec\n",
            "38.70799647805462\n",
            "bpass_sin_dustC_spec\n",
            "35.347884078164036\n"
          ],
          "name": "stdout"
        }
      ]
    },
    {
      "cell_type": "code",
      "metadata": {
        "id": "UeHbjTysacwV",
        "colab_type": "code",
        "colab": {}
      },
      "source": [
        "CoDiff_best = dict(zip(spectra.keys(),CD_best))"
      ],
      "execution_count": 0,
      "outputs": []
    },
    {
      "cell_type": "code",
      "metadata": {
        "id": "NSXzV2LRiYhP",
        "colab_type": "code",
        "outputId": "972a94da-96b1-444e-8ac4-53db9916dd5f",
        "colab": {
          "base_uri": "https://localhost:8080/",
          "height": 364
        }
      },
      "source": [
        "CoDiff_best"
      ],
      "execution_count": 0,
      "outputs": [
        {
          "output_type": "execute_result",
          "data": {
            "text/plain": [
              "{'bc03_dustA_spec': 39.97605493430665,\n",
              " 'bc03_dustB_spec': 33.92255371438859,\n",
              " 'bc03_dustC_spec': 30.661535626268368,\n",
              " 'bc03_int_spec': 462.19665009056956,\n",
              " 'bpass_dustA_spec': 52.96713648274871,\n",
              " 'bpass_dustB_spec': 44.71470001329763,\n",
              " 'bpass_dustC_spec': 40.38523457230478,\n",
              " 'bpass_int_spec': 597.3875270508765,\n",
              " 'bpass_sin_dustA_spec': 45.410314874264735,\n",
              " 'bpass_sin_dustB_spec': 38.70799647805462,\n",
              " 'bpass_sin_dustC_spec': 35.347884078164036,\n",
              " 'bpass_sin_int_spec': 536.122915653703,\n",
              " 'fsps_dustA_spec': 5.422719765783308,\n",
              " 'fsps_dustB_spec': 0.0,\n",
              " 'fsps_dustC_spec': 2.9813805514861937,\n",
              " 'fsps_int_spec': 353.6634919582977,\n",
              " 'fsps_neb_dustA_spec': 31.437561359068162,\n",
              " 'fsps_neb_dustB_spec': 18.453377670270783,\n",
              " 'fsps_neb_dustC_spec': 12.393229019711,\n",
              " 'fsps_neb_int_spec': 353.6634919582977}"
            ]
          },
          "metadata": {
            "tags": []
          },
          "execution_count": 191
        }
      ]
    },
    {
      "cell_type": "code",
      "metadata": {
        "id": "KIvE3myracqe",
        "colab_type": "code",
        "outputId": "c7cbc2e9-c3ea-448f-8123-93217770ce0c",
        "colab": {
          "base_uri": "https://localhost:8080/",
          "height": 582
        }
      },
      "source": [
        "for key in CoDiff_best.keys():\n",
        "  plt.scatter(CoDiff_best[key], smapes_all_transf[key])\n",
        "\n",
        "print(np.corrcoef([CoDiff_best[key] for key in CoDiff_best.keys()], [smapes_all_transf[key] for key in CoDiff_best.keys()]))\n",
        "\n",
        "plt.figure()\n",
        "for key in CoDiff.keys():\n",
        "  plt.scatter(CoDiff[key], smapes[key])\n",
        "\n",
        "print(np.corrcoef([CoDiff_best[key] for key in CoDiff_best.keys()], [smapes_all[key] for key in CoDiff_best.keys()]))"
      ],
      "execution_count": 0,
      "outputs": [
        {
          "output_type": "stream",
          "text": [
            "[[1.         0.68043229]\n",
            " [0.68043229 1.        ]]\n",
            "[[1.         0.55689788]\n",
            " [0.55689788 1.        ]]\n"
          ],
          "name": "stdout"
        },
        {
          "output_type": "display_data",
          "data": {
            "image/png": "[encoded data removed]",
            "text/plain": [
              "<Figure size 432x288 with 1 Axes>"
            ]
          },
          "metadata": {
            "tags": []
          }
        },
        {
          "output_type": "display_data",
          "data": {
            "image/png": "[encoded data removed]",
            "text/plain": [
              "<Figure size 432x288 with 1 Axes>"
            ]
          },
          "metadata": {
            "tags": []
          }
        }
      ]
    },
    {
      "cell_type": "markdown",
      "metadata": {
        "id": "BSX1TWG5bc8A",
        "colab_type": "text"
      },
      "source": [
        "Problem: is it possible that this is happening because the model has high variance and it acts up when generalized?"
      ]
    },
    {
      "cell_type": "code",
      "metadata": {
        "id": "DJS4-DB_bc_4",
        "colab_type": "code",
        "outputId": "f46ef2f2-95ba-4f1f-d218-3ac22a0b5eee",
        "colab": {
          "base_uri": "https://localhost:8080/",
          "height": 263
        }
      },
      "source": [
        "#Every 2 features\n",
        "\n",
        "n_scores = cross_validate(model, Xnew, transf_target(target0), cv = cv, verbose = 2, scoring=smape_scorer, return_train_score = True)\n",
        "\n",
        "print(n_scores)\n",
        " \n",
        "print(n_scores['test_score'].mean(),n_scores['test_score'].std())"
      ],
      "execution_count": 0,
      "outputs": [
        {
          "output_type": "stream",
          "text": [
            "[Parallel(n_jobs=1)]: Using backend SequentialBackend with 1 concurrent workers.\n"
          ],
          "name": "stderr"
        },
        {
          "output_type": "stream",
          "text": [
            "[CV]  ................................................................\n",
            "[CV] ................................................. , total=   2.0s\n",
            "[CV]  ................................................................\n"
          ],
          "name": "stdout"
        },
        {
          "output_type": "stream",
          "text": [
            "[Parallel(n_jobs=1)]: Done   1 out of   1 | elapsed:    2.1s remaining:    0.0s\n"
          ],
          "name": "stderr"
        },
        {
          "output_type": "stream",
          "text": [
            "[CV] ................................................. , total=   2.0s\n",
            "[CV]  ................................................................\n",
            "[CV] ................................................. , total=   2.0s\n",
            "[CV]  ................................................................\n",
            "[CV] ................................................. , total=   2.0s\n",
            "{'fit_time': array([2.02752399, 1.95790362, 1.94582629, 1.95855904]), 'score_time': array([0.01002383, 0.00925756, 0.00842476, 0.00848913]), 'test_score': array([-0.04383986, -0.03186326, -0.04119095, -0.04307815]), 'train_score': array([-0.01456711, -0.01567081, -0.01491609, -0.01448049])}\n",
            "-0.039993058689454714 0.004791770937120777\n"
          ],
          "name": "stdout"
        },
        {
          "output_type": "stream",
          "text": [
            "[Parallel(n_jobs=1)]: Done   4 out of   4 | elapsed:    8.0s finished\n"
          ],
          "name": "stderr"
        }
      ]
    },
    {
      "cell_type": "code",
      "metadata": {
        "id": "h7zcncntbc5R",
        "colab_type": "code",
        "outputId": "ce564bc6-23e2-4a40-cd37-97231344a5cd",
        "colab": {
          "base_uri": "https://localhost:8080/",
          "height": 104
        }
      },
      "source": [
        "parameters = {'max_depth':[5,10,20], \\\n",
        "              'max_features': [0.5,1.0], 'n_estimators':[100,200]}\n",
        "nmodels = np.product([len(el) for el in parameters.values()])\n",
        "\n",
        "model = GridSearchCV(RandomForestRegressor(), parameters, cv = cv, \\\n",
        "                     scoring = smape_scorer, return_train_score = True, \\\n",
        "    verbose = 3, n_jobs = 4)\n",
        "model.fit(Xnew, transf_target(target0))\n",
        "print('Best params, best score:', \"{:.4f}\".format(model.best_score_), model.best_params_)"
      ],
      "execution_count": 0,
      "outputs": [
        {
          "output_type": "stream",
          "text": [
            "Fitting 4 folds for each of 12 candidates, totalling 48 fits\n"
          ],
          "name": "stdout"
        },
        {
          "output_type": "stream",
          "text": [
            "[Parallel(n_jobs=4)]: Using backend LokyBackend with 4 concurrent workers.\n",
            "[Parallel(n_jobs=4)]: Done  24 tasks      | elapsed:   28.2s\n",
            "[Parallel(n_jobs=4)]: Done  48 out of  48 | elapsed:  1.2min finished\n"
          ],
          "name": "stderr"
        },
        {
          "output_type": "stream",
          "text": [
            "Best params, best score: -0.0383 {'max_depth': 20, 'max_features': 1.0, 'n_estimators': 200}\n"
          ],
          "name": "stdout"
        }
      ]
    },
    {
      "cell_type": "code",
      "metadata": {
        "id": "o_YchZE9g1bB",
        "colab_type": "code",
        "outputId": "63414cb2-4882-4455-d312-07e1b9cc9f54",
        "colab": {
          "base_uri": "https://localhost:8080/",
          "height": 426
        }
      },
      "source": [
        "res = pd.DataFrame(model.cv_results_)\n",
        "res[['mean_train_score','mean_test_score','std_test_score','params','mean_fit_time']].sort_values('mean_test_score', ascending = False)#, sortedby = 'mean_test_score')"
      ],
      "execution_count": 0,
      "outputs": [
        {
          "output_type": "execute_result",
          "data": {
            "text/html": [
              "<div>\n",
              "<style scoped>\n",
              "    .dataframe tbody tr th:only-of-type {\n",
              "        vertical-align: middle;\n",
              "    }\n",
              "\n",
              "    .dataframe tbody tr th {\n",
              "        vertical-align: top;\n",
              "    }\n",
              "\n",
              "    .dataframe thead th {\n",
              "        text-align: right;\n",
              "    }\n",
              "</style>\n",
              "<table border=\"1\" class=\"dataframe\">\n",
              "  <thead>\n",
              "    <tr style=\"text-align: right;\">\n",
              "      <th></th>\n",
              "      <th>mean_train_score</th>\n",
              "      <th>mean_test_score</th>\n",
              "      <th>std_test_score</th>\n",
              "      <th>params</th>\n",
              "      <th>mean_fit_time</th>\n",
              "    </tr>\n",
              "  </thead>\n",
              "  <tbody>\n",
              "    <tr>\n",
              "      <th>11</th>\n",
              "      <td>-0.014885</td>\n",
              "      <td>-0.038315</td>\n",
              "      <td>0.002790</td>\n",
              "      <td>{'max_depth': 20, 'max_features': 1.0, 'n_estimators': 200}</td>\n",
              "      <td>12.046361</td>\n",
              "    </tr>\n",
              "    <tr>\n",
              "      <th>8</th>\n",
              "      <td>-0.014933</td>\n",
              "      <td>-0.038417</td>\n",
              "      <td>0.002458</td>\n",
              "      <td>{'max_depth': 20, 'max_features': 0.5, 'n_estimators': 100}</td>\n",
              "      <td>3.390673</td>\n",
              "    </tr>\n",
              "    <tr>\n",
              "      <th>10</th>\n",
              "      <td>-0.015057</td>\n",
              "      <td>-0.038827</td>\n",
              "      <td>0.002913</td>\n",
              "      <td>{'max_depth': 20, 'max_features': 1.0, 'n_estimators': 100}</td>\n",
              "      <td>6.200388</td>\n",
              "    </tr>\n",
              "    <tr>\n",
              "      <th>9</th>\n",
              "      <td>-0.014831</td>\n",
              "      <td>-0.038848</td>\n",
              "      <td>0.002860</td>\n",
              "      <td>{'max_depth': 20, 'max_features': 0.5, 'n_estimators': 200}</td>\n",
              "      <td>6.847061</td>\n",
              "    </tr>\n",
              "    <tr>\n",
              "      <th>5</th>\n",
              "      <td>-0.016691</td>\n",
              "      <td>-0.038921</td>\n",
              "      <td>0.002795</td>\n",
              "      <td>{'max_depth': 10, 'max_features': 0.5, 'n_estimators': 200}</td>\n",
              "      <td>6.303844</td>\n",
              "    </tr>\n",
              "    <tr>\n",
              "      <th>6</th>\n",
              "      <td>-0.016583</td>\n",
              "      <td>-0.039002</td>\n",
              "      <td>0.003002</td>\n",
              "      <td>{'max_depth': 10, 'max_features': 1.0, 'n_estimators': 100}</td>\n",
              "      <td>5.809772</td>\n",
              "    </tr>\n",
              "    <tr>\n",
              "      <th>7</th>\n",
              "      <td>-0.016588</td>\n",
              "      <td>-0.039077</td>\n",
              "      <td>0.002573</td>\n",
              "      <td>{'max_depth': 10, 'max_features': 1.0, 'n_estimators': 200}</td>\n",
              "      <td>11.557096</td>\n",
              "    </tr>\n",
              "    <tr>\n",
              "      <th>4</th>\n",
              "      <td>-0.016761</td>\n",
              "      <td>-0.039105</td>\n",
              "      <td>0.002155</td>\n",
              "      <td>{'max_depth': 10, 'max_features': 0.5, 'n_estimators': 100}</td>\n",
              "      <td>3.185681</td>\n",
              "    </tr>\n",
              "    <tr>\n",
              "      <th>0</th>\n",
              "      <td>-0.035878</td>\n",
              "      <td>-0.045132</td>\n",
              "      <td>0.001895</td>\n",
              "      <td>{'max_depth': 5, 'max_features': 0.5, 'n_estimators': 100}</td>\n",
              "      <td>2.149162</td>\n",
              "    </tr>\n",
              "    <tr>\n",
              "      <th>3</th>\n",
              "      <td>-0.035398</td>\n",
              "      <td>-0.045240</td>\n",
              "      <td>0.002242</td>\n",
              "      <td>{'max_depth': 5, 'max_features': 1.0, 'n_estimators': 200}</td>\n",
              "      <td>7.507545</td>\n",
              "    </tr>\n",
              "    <tr>\n",
              "      <th>1</th>\n",
              "      <td>-0.035702</td>\n",
              "      <td>-0.045243</td>\n",
              "      <td>0.002604</td>\n",
              "      <td>{'max_depth': 5, 'max_features': 0.5, 'n_estimators': 200}</td>\n",
              "      <td>4.223542</td>\n",
              "    </tr>\n",
              "    <tr>\n",
              "      <th>2</th>\n",
              "      <td>-0.035258</td>\n",
              "      <td>-0.045261</td>\n",
              "      <td>0.002412</td>\n",
              "      <td>{'max_depth': 5, 'max_features': 1.0, 'n_estimators': 100}</td>\n",
              "      <td>3.764585</td>\n",
              "    </tr>\n",
              "  </tbody>\n",
              "</table>\n",
              "</div>"
            ],
            "text/plain": [
              "    mean_train_score  mean_test_score  std_test_score  \\\n",
              "11         -0.014885        -0.038315        0.002790   \n",
              "8          -0.014933        -0.038417        0.002458   \n",
              "10         -0.015057        -0.038827        0.002913   \n",
              "9          -0.014831        -0.038848        0.002860   \n",
              "5          -0.016691        -0.038921        0.002795   \n",
              "6          -0.016583        -0.039002        0.003002   \n",
              "7          -0.016588        -0.039077        0.002573   \n",
              "4          -0.016761        -0.039105        0.002155   \n",
              "0          -0.035878        -0.045132        0.001895   \n",
              "3          -0.035398        -0.045240        0.002242   \n",
              "1          -0.035702        -0.045243        0.002604   \n",
              "2          -0.035258        -0.045261        0.002412   \n",
              "\n",
              "                                                         params  mean_fit_time  \n",
              "11  {'max_depth': 20, 'max_features': 1.0, 'n_estimators': 200}      12.046361  \n",
              "8   {'max_depth': 20, 'max_features': 0.5, 'n_estimators': 100}       3.390673  \n",
              "10  {'max_depth': 20, 'max_features': 1.0, 'n_estimators': 100}       6.200388  \n",
              "9   {'max_depth': 20, 'max_features': 0.5, 'n_estimators': 200}       6.847061  \n",
              "5   {'max_depth': 10, 'max_features': 0.5, 'n_estimators': 200}       6.303844  \n",
              "6   {'max_depth': 10, 'max_features': 1.0, 'n_estimators': 100}       5.809772  \n",
              "7   {'max_depth': 10, 'max_features': 1.0, 'n_estimators': 200}      11.557096  \n",
              "4   {'max_depth': 10, 'max_features': 0.5, 'n_estimators': 100}       3.185681  \n",
              "0    {'max_depth': 5, 'max_features': 0.5, 'n_estimators': 100}       2.149162  \n",
              "3    {'max_depth': 5, 'max_features': 1.0, 'n_estimators': 200}       7.507545  \n",
              "1    {'max_depth': 5, 'max_features': 0.5, 'n_estimators': 200}       4.223542  \n",
              "2    {'max_depth': 5, 'max_features': 1.0, 'n_estimators': 100}       3.764585  "
            ]
          },
          "metadata": {
            "tags": []
          },
          "execution_count": 199
        }
      ]
    },
    {
      "cell_type": "code",
      "metadata": {
        "id": "IdhsPpPeg1fe",
        "colab_type": "code",
        "colab": {}
      },
      "source": [
        "bestmodel_lim = RandomForestRegressor(max_depth = 20, n_estimators = 200)"
      ],
      "execution_count": 0,
      "outputs": []
    },
    {
      "cell_type": "code",
      "metadata": {
        "id": "EcHyTIyDg1ps",
        "colab_type": "code",
        "outputId": "82ca09d2-1ebc-4672-8435-1d9810586141",
        "colab": {
          "base_uri": "https://localhost:8080/",
          "height": 139
        }
      },
      "source": [
        "bestmodel_lim.fit(X[:,indices[:100]], transf_target(SFHs[:,0]))"
      ],
      "execution_count": 0,
      "outputs": [
        {
          "output_type": "execute_result",
          "data": {
            "text/plain": [
              "RandomForestRegressor(bootstrap=True, ccp_alpha=0.0, criterion='mse',\n",
              "                      max_depth=20, max_features='auto', max_leaf_nodes=None,\n",
              "                      max_samples=None, min_impurity_decrease=0.0,\n",
              "                      min_impurity_split=None, min_samples_leaf=1,\n",
              "                      min_samples_split=2, min_weight_fraction_leaf=0.0,\n",
              "                      n_estimators=200, n_jobs=None, oob_score=False,\n",
              "                      random_state=None, verbose=0, warm_start=False)"
            ]
          },
          "metadata": {
            "tags": []
          },
          "execution_count": 208
        }
      ]
    },
    {
      "cell_type": "code",
      "metadata": {
        "id": "5b0SmAHhg1oL",
        "colab_type": "code",
        "outputId": "e5105d46-471a-416f-b000-22c104de2cda",
        "colab": {
          "base_uri": "https://localhost:8080/",
          "height": 1000
        }
      },
      "source": [
        "smapes_lim = []\n",
        "smapes_lim_transf = []\n",
        "\n",
        "for key in spectra.keys():\n",
        "  print(key)\n",
        "  spec = spectra[key]\n",
        "  Xt = np.log10(spec[:,indices[:100]])\n",
        "  SFHpred = bestmodel_lim.predict(Xt)\n",
        "  smapes_lim.append(smape(SFHs[:,0],inv_transf_target(SFHpred)))\n",
        "  smapes_lim_transf.append(smape(transf_target(SFHs[:,0]),SFHpred))\n",
        "  print(smape(transf_target(SFHs[:,0]),SFHpred))\n",
        "  print(smape(SFHs[:,0],inv_transf_target(SFHpred)))\n",
        "a_lim = np.array(smapes_lim)\n",
        "a_lim_transf = np.array(smapes_lim_transf)"
      ],
      "execution_count": 0,
      "outputs": [
        {
          "output_type": "stream",
          "text": [
            "bc03_int_spec\n",
            "0.14321754807869636\n",
            "0.7363558720409292\n",
            "bc03_dustA_spec\n",
            "0.06164427854021408\n",
            "0.34561857554608755\n",
            "bc03_dustB_spec\n",
            "0.05864002767540529\n",
            "0.33031505341161344\n",
            "bc03_dustC_spec\n",
            "0.056505162911128476\n",
            "0.31982549814941147\n",
            "fsps_int_spec\n",
            "0.09381962647173733\n",
            "0.5343169863827004\n",
            "fsps_dustA_spec\n",
            "0.03189093122693998\n",
            "0.20813851188264543\n",
            "fsps_dustB_spec\n",
            "0.012274760987276418\n",
            "0.08147898807864248\n",
            "fsps_dustC_spec\n",
            "0.030814358978814356\n",
            "0.20479505753260643\n",
            "fsps_neb_int_spec\n",
            "0.09381962647173733\n",
            "0.5343169863827004\n",
            "fsps_neb_dustA_spec\n",
            "0.04956848220724377\n",
            "0.35779510791568675\n",
            "fsps_neb_dustB_spec\n",
            "0.047151134620103494\n",
            "0.34185551267201997\n",
            "fsps_neb_dustC_spec\n",
            "0.04462121036830523\n",
            "0.323087990703199\n",
            "bpass_int_spec\n",
            "0.08794779446421981\n",
            "0.5199461801840388\n",
            "bpass_dustA_spec\n",
            "0.044087447464880226\n",
            "0.3018703316816014\n",
            "bpass_dustB_spec\n",
            "0.05029984393690792\n",
            "0.35247762782848846\n",
            "bpass_dustC_spec\n",
            "0.05498071372227683\n",
            "0.3889839742141452\n",
            "bpass_sin_int_spec\n",
            "0.06584372224323404\n",
            "0.41604973099803927\n",
            "bpass_sin_dustA_spec\n",
            "0.07128485715532577\n",
            "0.5234106281747896\n",
            "bpass_sin_dustB_spec\n",
            "0.08398239486329247\n",
            "0.631640685169314\n",
            "bpass_sin_dustC_spec\n",
            "0.09063844351674791\n",
            "0.6873063059121861\n"
          ],
          "name": "stdout"
        }
      ]
    },
    {
      "cell_type": "code",
      "metadata": {
        "id": "jW32PFTJjXuM",
        "colab_type": "code",
        "colab": {}
      },
      "source": [
        "smapes_lim = dict(zip(spectra.keys(),a_lim))\n",
        "smapes_lim_transf = dict(zip(spectra.keys(),a_lim_transf))"
      ],
      "execution_count": 0,
      "outputs": []
    },
    {
      "cell_type": "code",
      "metadata": {
        "id": "AIwZUTTjg1mF",
        "colab_type": "code",
        "outputId": "83aff201-9165-42b4-c07d-95bdec8c73a2",
        "colab": {
          "base_uri": "https://localhost:8080/",
          "height": 265
        }
      },
      "source": [
        "#comparison of SMAPES calculated on 100 features model and default params vs best 100 features model, \n",
        "for key in CoDiff.keys():\n",
        "  plt.scatter(smapes[key],smapes_lim[key])"
      ],
      "execution_count": 0,
      "outputs": [
        {
          "output_type": "display_data",
          "data": {
            "image/png": "[encoded data removed]",
            "text/plain": [
              "<Figure size 432x288 with 1 Axes>"
            ]
          },
          "metadata": {
            "tags": []
          }
        }
      ]
    },
    {
      "cell_type": "code",
      "metadata": {
        "id": "VYR15_SIg1j-",
        "colab_type": "code",
        "outputId": "12d5dae7-7431-4e45-8643-9f5507e06df8",
        "colab": {
          "base_uri": "https://localhost:8080/",
          "height": 582
        }
      },
      "source": [
        "for key in CoDiff_best.keys():\n",
        "  plt.scatter(CoDiff_best[key], smapes_lim_transf[key])\n",
        "\n",
        "print(np.corrcoef([CoDiff_best[key] for key in CoDiff_best.keys()], [smapes_lim_transf[key] for key in CoDiff_best.keys()]))\n",
        "\n",
        "plt.figure()\n",
        "for key in CoDiff.keys():\n",
        "  plt.scatter(CoDiff[key], smapes_lim[key])\n",
        "\n",
        "print(np.corrcoef([CoDiff_best[key] for key in CoDiff_best.keys()], [smapes_lim[key] for key in CoDiff_best.keys()]))"
      ],
      "execution_count": 0,
      "outputs": [
        {
          "output_type": "stream",
          "text": [
            "[[1.         0.65430191]\n",
            " [0.65430191 1.        ]]\n",
            "[[1.         0.50303262]\n",
            " [0.50303262 1.        ]]\n"
          ],
          "name": "stdout"
        },
        {
          "output_type": "display_data",
          "data": {
            "image/png": "[encoded data removed]",
            "text/plain": [
              "<Figure size 432x288 with 1 Axes>"
            ]
          },
          "metadata": {
            "tags": []
          }
        },
        {
          "output_type": "display_data",
          "data": {
            "image/png": "[encoded data removed]",
            "text/plain": [
              "<Figure size 432x288 with 1 Axes>"
            ]
          },
          "metadata": {
            "tags": []
          }
        }
      ]
    },
    {
      "cell_type": "code",
      "metadata": {
        "id": "9Xig5q1Njvll",
        "colab_type": "code",
        "outputId": "fd603a0d-7dfb-4acb-91f6-9161d9fcb559",
        "colab": {
          "base_uri": "https://localhost:8080/",
          "height": 317
        }
      },
      "source": [
        "#Just checking in case I'm crazy\n",
        "\n",
        "smapes_RF = {'bc03_dustA_spec': 0.24937033395796013,\n",
        " 'bc03_dustB_spec': 0.23528570291639841,\n",
        " 'bc03_dustC_spec': 0.22698198107701598,\n",
        " 'bc03_int_spec': 0.6768479949305265,\n",
        " 'bpass_dustA_spec': 0.23445830566093995,\n",
        " 'bpass_dustB_spec': 0.22758600270595597,\n",
        " 'bpass_dustC_spec': 0.22464032718642457,\n",
        " 'bpass_int_spec': 0.6810513675788217,\n",
        " 'bpass_sin_dustA_spec': 0.3236004371633811,\n",
        " 'bpass_sin_dustB_spec': 0.3455423590850195,\n",
        " 'bpass_sin_dustC_spec': 0.3614452757986425,\n",
        " 'bpass_sin_int_spec': 0.6668520016397389,\n",
        " 'fsps_dustA_spec': 0.15017376192736284,\n",
        " 'fsps_dustB_spec': 0.05683577876967202,\n",
        " 'fsps_dustC_spec': 0.14365922869303083,\n",
        " 'fsps_int_spec': 0.5393774237322849,\n",
        " 'fsps_neb_dustA_spec': 0.20594551912167294,\n",
        " 'fsps_neb_dustB_spec': 0.20121278929696634,\n",
        " 'fsps_neb_dustC_spec': 0.19966068074803198,\n",
        " 'fsps_neb_int_spec': 0.5393774237322849}\n",
        "\n",
        "for key in CoDiff_best.keys():\n",
        "  plt.scatter(CoDiff_best[key], smapes_RF[key])\n",
        "\n",
        "print(np.corrcoef([CoDiff_best[key] for key in CoDiff_best.keys()], [smapes_RF[key] for key in CoDiff_best.keys()]))\n",
        "\n",
        "print(metrics.r2_score([CoDiff_best[key] for key in CoDiff_best.keys()], [smapes_RF[key] for key in CoDiff_best.keys()]))"
      ],
      "execution_count": 0,
      "outputs": [
        {
          "output_type": "stream",
          "text": [
            "[[1.         0.94633827]\n",
            " [0.94633827 1.        ]]\n",
            "-0.49459685470239223\n"
          ],
          "name": "stdout"
        },
        {
          "output_type": "display_data",
          "data": {
            "image/png": "[encoded data removed]",
            "text/plain": [
              "<Figure size 432x288 with 1 Axes>"
            ]
          },
          "metadata": {
            "tags": []
          }
        }
      ]
    },
    {
      "cell_type": "code",
      "metadata": {
        "id": "ajgEFn61lyVm",
        "colab_type": "code",
        "colab": {}
      },
      "source": [
        "codiff = np.array([CoDiff_best[key] for key in CoDiff_best.keys()])\n",
        "s = np.array([smapes_RF[key] for key in CoDiff_best.keys()])"
      ],
      "execution_count": 0,
      "outputs": []
    },
    {
      "cell_type": "code",
      "metadata": {
        "id": "RCRRhPeJjv-q",
        "colab_type": "code",
        "outputId": "5bf174eb-9762-4cdf-e41c-79b28435e17a",
        "colab": {
          "base_uri": "https://localhost:8080/",
          "height": 52
        }
      },
      "source": [
        "np.corrcoef(codiff, s)"
      ],
      "execution_count": 0,
      "outputs": [
        {
          "output_type": "execute_result",
          "data": {
            "text/plain": [
              "array([[1.        , 0.94633827],\n",
              "       [0.94633827, 1.        ]])"
            ]
          },
          "metadata": {
            "tags": []
          },
          "execution_count": 220
        }
      ]
    },
    {
      "cell_type": "code",
      "metadata": {
        "id": "3LVB9pIAnASn",
        "colab_type": "code",
        "outputId": "ecd43aef-265a-483b-8e09-6e958ec2bb44",
        "colab": {
          "base_uri": "https://localhost:8080/",
          "height": 104
        }
      },
      "source": [
        "codiff"
      ],
      "execution_count": 0,
      "outputs": [
        {
          "output_type": "execute_result",
          "data": {
            "text/plain": [
              "array([462.19665009,  39.97605493,  33.92255371,  30.66153563,\n",
              "       353.66349196,   5.42271977,   0.        ,   2.98138055,\n",
              "       353.66349196,  31.43756136,  18.45337767,  12.39322902,\n",
              "       597.38752705,  52.96713648,  44.71470001,  40.38523457,\n",
              "       536.12291565,  45.41031487,  38.70799648,  35.34788408])"
            ]
          },
          "metadata": {
            "tags": []
          },
          "execution_count": 221
        }
      ]
    },
    {
      "cell_type": "markdown",
      "metadata": {
        "id": "dgxPwTi3nAWc",
        "colab_type": "text"
      },
      "source": [
        "Conclusion: go back to previous mess (in covariance notebook). Understand why after feature selection all the correlation goes to the faraway examples. Must be bad! Look into whether feature selection makes sense at all."
      ]
    },
    {
      "cell_type": "code",
      "metadata": {
        "id": "D4BY_1NfnAP2",
        "colab_type": "code",
        "colab": {}
      },
      "source": [
        ""
      ],
      "execution_count": 0,
      "outputs": []
    },
    {
      "cell_type": "code",
      "metadata": {
        "id": "h0XFzJWcCW21",
        "colab_type": "code",
        "outputId": "88078d7c-dec9-4ba7-e931-dc61eb611717",
        "colab": {
          "base_uri": "https://localhost:8080/",
          "height": 208
        }
      },
      "source": [
        "target1 = SFHs[sel,1]\n",
        "scores1 = cross_validate(model, X[sel,::2], transf_target(SFHs[sel,1]), cv = cv, verbose = 2, scoring=smape_scorer, return_train_score = True)"
      ],
      "execution_count": 0,
      "outputs": [
        {
          "output_type": "stream",
          "text": [
            "[Parallel(n_jobs=1)]: Using backend SequentialBackend with 1 concurrent workers.\n"
          ],
          "name": "stderr"
        },
        {
          "output_type": "stream",
          "text": [
            "[CV]  ................................................................\n",
            "[CV] ................................................. , total=  36.5s\n",
            "[CV]  ................................................................\n"
          ],
          "name": "stdout"
        },
        {
          "output_type": "stream",
          "text": [
            "[Parallel(n_jobs=1)]: Done   1 out of   1 | elapsed:   36.5s remaining:    0.0s\n"
          ],
          "name": "stderr"
        },
        {
          "output_type": "stream",
          "text": [
            "[CV] ................................................. , total=  37.8s\n",
            "[CV]  ................................................................\n",
            "[CV] ................................................. , total=  39.2s\n",
            "[CV]  ................................................................\n",
            "[CV] ................................................. , total=  38.2s\n"
          ],
          "name": "stdout"
        },
        {
          "output_type": "stream",
          "text": [
            "[Parallel(n_jobs=1)]: Done   4 out of   4 | elapsed:  2.5min finished\n"
          ],
          "name": "stderr"
        }
      ]
    },
    {
      "cell_type": "code",
      "metadata": {
        "id": "ZRK9GibJCWw2",
        "colab_type": "code",
        "outputId": "1ecc6007-58cf-4210-caa7-a30d8c0d5cbd",
        "colab": {
          "base_uri": "https://localhost:8080/",
          "height": 34
        }
      },
      "source": [
        "scores1['test_score'].mean(), scores1['test_score'].std()"
      ],
      "execution_count": 0,
      "outputs": [
        {
          "output_type": "execute_result",
          "data": {
            "text/plain": [
              "(-0.036716041831141764, 0.0018169854623511505)"
            ]
          },
          "metadata": {
            "tags": []
          },
          "execution_count": 72
        }
      ]
    },
    {
      "cell_type": "markdown",
      "metadata": {
        "id": "5fNQNqbvJigx",
        "colab_type": "text"
      },
      "source": [
        "What if I add the prediction from bin 0?"
      ]
    },
    {
      "cell_type": "code",
      "metadata": {
        "id": "riMBnv449YNh",
        "colab_type": "code",
        "outputId": "4661829b-b2f8-47f4-ec26-3c4a175261d3",
        "colab": {
          "base_uri": "https://localhost:8080/",
          "height": 208
        }
      },
      "source": [
        "target1 = SFHs[sel,1]\n",
        "scores1 = cross_validate(model, np.hstack((X[sel,::2], ypred0[:,None])), transf_target(SFHs[sel,1]), cv = cv, verbose = 2, scoring=smape_scorer, return_train_score = True)"
      ],
      "execution_count": 0,
      "outputs": [
        {
          "output_type": "stream",
          "text": [
            "[Parallel(n_jobs=1)]: Using backend SequentialBackend with 1 concurrent workers.\n"
          ],
          "name": "stderr"
        },
        {
          "output_type": "stream",
          "text": [
            "[CV]  ................................................................\n",
            "[CV] ................................................. , total=  35.1s\n",
            "[CV]  ................................................................\n"
          ],
          "name": "stdout"
        },
        {
          "output_type": "stream",
          "text": [
            "[Parallel(n_jobs=1)]: Done   1 out of   1 | elapsed:   35.1s remaining:    0.0s\n"
          ],
          "name": "stderr"
        },
        {
          "output_type": "stream",
          "text": [
            "[CV] ................................................. , total=  34.4s\n",
            "[CV]  ................................................................\n",
            "[CV] ................................................. , total=  34.7s\n",
            "[CV]  ................................................................\n",
            "[CV] ................................................. , total=  34.9s\n"
          ],
          "name": "stdout"
        },
        {
          "output_type": "stream",
          "text": [
            "[Parallel(n_jobs=1)]: Done   4 out of   4 | elapsed:  2.3min finished\n"
          ],
          "name": "stderr"
        }
      ]
    },
    {
      "cell_type": "code",
      "metadata": {
        "id": "z3kPjsrd9YLp",
        "colab_type": "code",
        "outputId": "ac17fd03-a59e-4a46-bfa8-461ae1fbcaf3",
        "colab": {
          "base_uri": "https://localhost:8080/",
          "height": 34
        }
      },
      "source": [
        "scores1['test_score'].mean(), scores1['test_score'].std()"
      ],
      "execution_count": 0,
      "outputs": [
        {
          "output_type": "execute_result",
          "data": {
            "text/plain": [
              "(-0.03735966807667751, 0.002474878496618499)"
            ]
          },
          "metadata": {
            "tags": []
          },
          "execution_count": 85
        }
      ]
    },
    {
      "cell_type": "markdown",
      "metadata": {
        "id": "G-L9WgVFLm8p",
        "colab_type": "text"
      },
      "source": [
        "Meh."
      ]
    },
    {
      "cell_type": "code",
      "metadata": {
        "id": "luTE89BbLJjA",
        "colab_type": "code",
        "outputId": "af83b26b-01a8-46f7-c06e-18391d880e4b",
        "colab": {
          "base_uri": "https://localhost:8080/",
          "height": 69
        }
      },
      "source": [
        "ypred1 = cross_val_predict(model, np.hstack((X[sel,::2], ypred0[:,None])), transf_target(SFHs[sel,1]), cv = cv, verbose = 2)"
      ],
      "execution_count": 0,
      "outputs": [
        {
          "output_type": "stream",
          "text": [
            "[Parallel(n_jobs=1)]: Using backend SequentialBackend with 1 concurrent workers.\n",
            "[Parallel(n_jobs=1)]: Done   1 out of   1 | elapsed:   34.9s remaining:    0.0s\n",
            "[Parallel(n_jobs=1)]: Done   4 out of   4 | elapsed:  2.3min finished\n"
          ],
          "name": "stderr"
        }
      ]
    },
    {
      "cell_type": "code",
      "metadata": {
        "id": "L0MKMk12Lpjz",
        "colab_type": "code",
        "outputId": "f85a912a-48e3-46de-ea7d-a61e2ced2c74",
        "colab": {
          "base_uri": "https://localhost:8080/",
          "height": 34
        }
      },
      "source": [
        "#Calculate smape on ypred1 with this technique\n",
        "\n",
        "print(smape(target1,np.exp(ypred1)-5))"
      ],
      "execution_count": 0,
      "outputs": [
        {
          "output_type": "stream",
          "text": [
            "0.26260221247934934\n"
          ],
          "name": "stdout"
        }
      ]
    },
    {
      "cell_type": "markdown",
      "metadata": {
        "id": "q5d0A5qcLcyx",
        "colab_type": "text"
      },
      "source": [
        "Now predicting bin 2\n",
        "\n"
      ]
    },
    {
      "cell_type": "code",
      "metadata": {
        "id": "CHAETft3LTuL",
        "colab_type": "code",
        "outputId": "42e964f1-5a89-4376-c6cb-c65cf1235f15",
        "colab": {
          "base_uri": "https://localhost:8080/",
          "height": 208
        }
      },
      "source": [
        "scores2 = cross_validate(model, X[sel,::2], transf_target(SFHs[sel,2]), cv = cv, verbose = 2, scoring=smape_scorer, return_train_score = True)"
      ],
      "execution_count": 0,
      "outputs": [
        {
          "output_type": "stream",
          "text": [
            "[Parallel(n_jobs=1)]: Using backend SequentialBackend with 1 concurrent workers.\n"
          ],
          "name": "stderr"
        },
        {
          "output_type": "stream",
          "text": [
            "[CV]  ................................................................\n",
            "[CV] ................................................. , total=  36.5s\n",
            "[CV]  ................................................................\n"
          ],
          "name": "stdout"
        },
        {
          "output_type": "stream",
          "text": [
            "[Parallel(n_jobs=1)]: Done   1 out of   1 | elapsed:   36.5s remaining:    0.0s\n"
          ],
          "name": "stderr"
        },
        {
          "output_type": "stream",
          "text": [
            "[CV] ................................................. , total=  36.5s\n",
            "[CV]  ................................................................\n",
            "[CV] ................................................. , total=  36.8s\n",
            "[CV]  ................................................................\n",
            "[CV] ................................................. , total=  36.2s\n"
          ],
          "name": "stdout"
        },
        {
          "output_type": "stream",
          "text": [
            "[Parallel(n_jobs=1)]: Done   4 out of   4 | elapsed:  2.4min finished\n"
          ],
          "name": "stderr"
        }
      ]
    },
    {
      "cell_type": "code",
      "metadata": {
        "id": "VqqmKpg3MDQ8",
        "colab_type": "code",
        "outputId": "e0a1ea79-3f89-4fc9-e29d-b8820c44b6e2",
        "colab": {
          "base_uri": "https://localhost:8080/",
          "height": 34
        }
      },
      "source": [
        "scores2['test_score'].mean(), scores2['test_score'].std()"
      ],
      "execution_count": 0,
      "outputs": [
        {
          "output_type": "execute_result",
          "data": {
            "text/plain": [
              "(-0.032134351489936624, 0.0021773890069272683)"
            ]
          },
          "metadata": {
            "tags": []
          },
          "execution_count": 91
        }
      ]
    },
    {
      "cell_type": "code",
      "metadata": {
        "id": "AsA1Hy8hPCnA",
        "colab_type": "code",
        "outputId": "f0dbaa8b-9b44-4f65-d84f-652c464d9792",
        "colab": {
          "base_uri": "https://localhost:8080/",
          "height": 69
        }
      },
      "source": [
        "ypred2_nh = cross_val_predict(model, X[sel,::2], transf_target(SFHs[sel,2]), cv = cv, verbose = 2)"
      ],
      "execution_count": 0,
      "outputs": [
        {
          "output_type": "stream",
          "text": [
            "[Parallel(n_jobs=1)]: Using backend SequentialBackend with 1 concurrent workers.\n",
            "[Parallel(n_jobs=1)]: Done   1 out of   1 | elapsed:   36.2s remaining:    0.0s\n",
            "[Parallel(n_jobs=1)]: Done   4 out of   4 | elapsed:  2.4min finished\n"
          ],
          "name": "stderr"
        }
      ]
    },
    {
      "cell_type": "code",
      "metadata": {
        "id": "89a8eHGbPJEs",
        "colab_type": "code",
        "outputId": "6f71c8c0-c34e-466a-9762-a25672a3eab7",
        "colab": {
          "base_uri": "https://localhost:8080/",
          "height": 34
        }
      },
      "source": [
        "#Calculate smape on ypred2 with this technique\n",
        "\n",
        "print(smape(SFHs[sel,2],np.exp(ypred2_nh)-5))"
      ],
      "execution_count": 0,
      "outputs": [
        {
          "output_type": "stream",
          "text": [
            "0.2269148867351992\n"
          ],
          "name": "stdout"
        }
      ]
    },
    {
      "cell_type": "code",
      "metadata": {
        "id": "r9aCib9mMDUY",
        "colab_type": "code",
        "outputId": "2a6e3d4e-b371-4685-be4a-ff082de2a8b2",
        "colab": {
          "base_uri": "https://localhost:8080/",
          "height": 69
        }
      },
      "source": [
        "ypred2 = cross_val_predict(model, np.hstack((X[sel,::2], ypred0[:,None], ypred1[:,None])), transf_target(SFHs[sel,2]), cv = cv, verbose = 2)"
      ],
      "execution_count": 0,
      "outputs": [
        {
          "output_type": "stream",
          "text": [
            "[Parallel(n_jobs=1)]: Using backend SequentialBackend with 1 concurrent workers.\n",
            "[Parallel(n_jobs=1)]: Done   1 out of   1 | elapsed:   35.2s remaining:    0.0s\n",
            "[Parallel(n_jobs=1)]: Done   4 out of   4 | elapsed:  2.3min finished\n"
          ],
          "name": "stderr"
        }
      ]
    },
    {
      "cell_type": "code",
      "metadata": {
        "id": "20kRMbOTH9jU",
        "colab_type": "code",
        "outputId": "4e4cf8fd-bc37-493f-8a4d-19c129ce3cee",
        "colab": {
          "base_uri": "https://localhost:8080/",
          "height": 34
        }
      },
      "source": [
        "#Calculate smape on ypred2 with this technique\n",
        "\n",
        "print(smape(SFHs[sel,2],np.exp(ypred2)-5))"
      ],
      "execution_count": 0,
      "outputs": [
        {
          "output_type": "stream",
          "text": [
            "0.23563332357675215\n"
          ],
          "name": "stdout"
        }
      ]
    },
    {
      "cell_type": "markdown",
      "metadata": {
        "id": "voRVGwyzN76w",
        "colab_type": "text"
      },
      "source": [
        "Let's continue with other bins"
      ]
    },
    {
      "cell_type": "code",
      "metadata": {
        "id": "0OB_gzIMRz5q",
        "colab_type": "code",
        "outputId": "94ee65e5-77c8-4428-e5a0-8c5c39ac81dc",
        "colab": {
          "base_uri": "https://localhost:8080/",
          "height": 384
        }
      },
      "source": [
        "for i in range(3,8):\n",
        "  scores = cross_validate(model, X[sel,::2], transf_target(SFHs[sel,i]), cv = cv, verbose = 1, scoring=smape_scorer, return_train_score = True)\n",
        "  print(scores)\n",
        "  print(scores['test_score'].mean(), scores['test_score'].std())"
      ],
      "execution_count": 0,
      "outputs": [
        {
          "output_type": "stream",
          "text": [
            "[Parallel(n_jobs=1)]: Using backend SequentialBackend with 1 concurrent workers.\n",
            "[Parallel(n_jobs=1)]: Done   4 out of   4 | elapsed:  2.4min finished\n",
            "[Parallel(n_jobs=1)]: Using backend SequentialBackend with 1 concurrent workers.\n"
          ],
          "name": "stderr"
        },
        {
          "output_type": "stream",
          "text": [
            "{'fit_time': array([36.37846231, 36.55095267, 35.77699971, 36.21781731]), 'score_time': array([0.01305437, 0.0132401 , 0.01449227, 0.01327801]), 'test_score': array([-0.02825244, -0.03306814, -0.02692273, -0.02958474]), 'train_score': array([-0.01123362, -0.01115896, -0.01147261, -0.01108831])}\n",
            "-0.02945701124019562 0.002287474276731809\n"
          ],
          "name": "stdout"
        },
        {
          "output_type": "stream",
          "text": [
            "[Parallel(n_jobs=1)]: Done   4 out of   4 | elapsed:  2.5min finished\n",
            "[Parallel(n_jobs=1)]: Using backend SequentialBackend with 1 concurrent workers.\n"
          ],
          "name": "stderr"
        },
        {
          "output_type": "stream",
          "text": [
            "{'fit_time': array([37.53452229, 36.84534121, 37.64260459, 37.39108276]), 'score_time': array([0.01329255, 0.01389337, 0.013798  , 0.01315284]), 'test_score': array([-0.03602284, -0.03767614, -0.03130848, -0.04082055]), 'train_score': array([-0.01353108, -0.01374217, -0.01383522, -0.01285157])}\n",
            "-0.03645700238544886 0.003435935526370351\n"
          ],
          "name": "stdout"
        },
        {
          "output_type": "stream",
          "text": [
            "[Parallel(n_jobs=1)]: Done   4 out of   4 | elapsed:  2.6min finished\n",
            "[Parallel(n_jobs=1)]: Using backend SequentialBackend with 1 concurrent workers.\n"
          ],
          "name": "stderr"
        },
        {
          "output_type": "stream",
          "text": [
            "{'fit_time': array([39.55055547, 38.84752226, 38.48174906, 39.12675428]), 'score_time': array([0.01324081, 0.01425529, 0.01290631, 0.0137248 ]), 'test_score': array([-0.04659718, -0.04205893, -0.03948688, -0.03853919]), 'train_score': array([-0.01447874, -0.01542675, -0.01542087, -0.01648759])}\n",
            "-0.041670545286615096 0.0031223522595166184\n"
          ],
          "name": "stdout"
        },
        {
          "output_type": "stream",
          "text": [
            "[Parallel(n_jobs=1)]: Done   4 out of   4 | elapsed:  2.8min finished\n",
            "[Parallel(n_jobs=1)]: Using backend SequentialBackend with 1 concurrent workers.\n"
          ],
          "name": "stderr"
        },
        {
          "output_type": "stream",
          "text": [
            "{'fit_time': array([41.2729013 , 40.51789427, 42.06482434, 41.63677454]), 'score_time': array([0.0134933 , 0.01272178, 0.01389217, 0.01371002]), 'test_score': array([-0.05195256, -0.0488747 , -0.04475944, -0.05128239]), 'train_score': array([-0.01780224, -0.01771334, -0.01779342, -0.0172846 ])}\n",
            "-0.049217274897815515 0.0028167403424060287\n",
            "{'fit_time': array([37.86356378, 37.88724041, 38.0424614 , 37.98738217]), 'score_time': array([0.01402879, 0.01404166, 0.01299977, 0.01490116]), 'test_score': array([-0.03040106, -0.02819282, -0.02615629, -0.03071152]), 'train_score': array([-0.01109295, -0.01104813, -0.01071081, -0.01143651])}\n",
            "-0.028865419907335575 0.0018410635278483204\n"
          ],
          "name": "stdout"
        },
        {
          "output_type": "stream",
          "text": [
            "[Parallel(n_jobs=1)]: Done   4 out of   4 | elapsed:  2.5min finished\n"
          ],
          "name": "stderr"
        }
      ]
    },
    {
      "cell_type": "code",
      "metadata": {
        "id": "Li2VLwotRz9Y",
        "colab_type": "code",
        "colab": {}
      },
      "source": [
        "Notes: look at true vs ypred0 to judge predictions\n",
        "\n",
        "Settle on percent error?\n",
        "\n",
        "Choose two bins, derive errors\n",
        "\n"
      ],
      "execution_count": 0,
      "outputs": []
    },
    {
      "cell_type": "markdown",
      "metadata": {
        "id": "86ZviY-gvC5p",
        "colab_type": "text"
      },
      "source": [
        "Unsupervised feature selection (one every two)"
      ]
    },
    {
      "cell_type": "markdown",
      "metadata": {
        "id": "wsPfcXdgq0ZS",
        "colab_type": "text"
      },
      "source": [
        ""
      ]
    },
    {
      "cell_type": "code",
      "metadata": {
        "id": "wADV4C8b7fTS",
        "colab_type": "code",
        "outputId": "7c555950-9079-465d-93a7-f73e1d200d8a",
        "colab": {
          "base_uri": "https://localhost:8080/",
          "height": 69
        }
      },
      "source": [
        "#Don't run\n",
        "\n",
        "ypred = cross_val_predict(model, X[sel,::2], SFHs[sel,:], cv = cv, verbose = 2)"
      ],
      "execution_count": 0,
      "outputs": [
        {
          "output_type": "stream",
          "text": [
            "[Parallel(n_jobs=1)]: Using backend SequentialBackend with 1 concurrent workers.\n",
            "[Parallel(n_jobs=1)]: Done   1 out of   1 | elapsed:   47.2s remaining:    0.0s\n",
            "[Parallel(n_jobs=1)]: Done   3 out of   3 | elapsed:  2.3min finished\n"
          ],
          "name": "stderr"
        }
      ]
    },
    {
      "cell_type": "code",
      "metadata": {
        "id": "grxAIQd72EPP",
        "colab_type": "code",
        "outputId": "a936d81f-ca12-4ef2-eebf-30681eb4468a",
        "colab": {
          "base_uri": "https://localhost:8080/",
          "height": 282
        }
      },
      "source": [
        "#Don't run\n",
        "\n",
        "#distribution of residuals\n",
        "\n",
        "for i in range(SFHs.shape[1]):\n",
        "#  plt.figure()\n",
        "  plt.hist((SFHs[sel,i] - ypred[:,i])/(SFHs[sel,i]+0.01), bins = 30, alpha = 0.3, range = [-2,2], label = 'Bin'+str(i))\n",
        "plt.legend()"
      ],
      "execution_count": 0,
      "outputs": [
        {
          "output_type": "execute_result",
          "data": {
            "text/plain": [
              "<matplotlib.legend.Legend at 0x7f1b2cde6908>"
            ]
          },
          "metadata": {
            "tags": []
          },
          "execution_count": 36
        },
        {
          "output_type": "display_data",
          "data": {
            "image/png": "[encoded data removed]",
            "text/plain": [
              "<Figure size 432x288 with 1 Axes>"
            ]
          },
          "metadata": {
            "tags": []
          }
        }
      ]
    },
    {
      "cell_type": "code",
      "metadata": {
        "id": "Jw2ADA-y2LWf",
        "colab_type": "code",
        "colab": {}
      },
      "source": [
        "def smape(true,pred):\n",
        "  return np.sum(np.abs(true-pred))/np.sum(true+pred)"
      ],
      "execution_count": 0,
      "outputs": []
    },
    {
      "cell_type": "markdown",
      "metadata": {
        "id": "4d1j-kDKq3dm",
        "colab_type": "text"
      },
      "source": [
        ""
      ]
    },
    {
      "cell_type": "code",
      "metadata": {
        "id": "HOmKV-_NiiT5",
        "colab_type": "code",
        "colab": {}
      },
      "source": [
        "def multioutputsmape(targets, pred):\n",
        "  return np.mean(np.array([2 * smape(targets[i,:],pred[i,:]) for i in range(targets.shape[0])]))"
      ],
      "execution_count": 0,
      "outputs": []
    },
    {
      "cell_type": "code",
      "metadata": {
        "id": "b7SUwXJAiQrG",
        "colab_type": "code",
        "colab": {}
      },
      "source": [
        "smape_scorer = make_scorer(multioutputsmape, greater_is_better = False)"
      ],
      "execution_count": 0,
      "outputs": []
    },
    {
      "cell_type": "code",
      "metadata": {
        "id": "T96QgrlP9GmL",
        "colab_type": "code",
        "colab": {}
      },
      "source": [
        "targets = SFHs[sel,:]"
      ],
      "execution_count": 0,
      "outputs": []
    },
    {
      "cell_type": "code",
      "metadata": {
        "id": "Q989bcrPivUL",
        "colab_type": "code",
        "colab": {}
      },
      "source": [
        "#Do not run; simple CV with every other feature and smape scorer below\n",
        "\n",
        "#{'fit_time': array([41.71309137, 42.79233432, 41.62490797]),\n",
        "# 'score_time': array([0.01293659, 0.01351094, 0.01302695]),\n",
        "# 'test_score': array([-0.22774546, -0.23144261, -0.2346226 ]),\n",
        "# 'train_score': array([-0.08610893, -0.08807034, -0.08678541])}\n",
        "\n",
        "cv_results = cross_validate(model, X[sel,::2], targets,  cv = cv, scoring = smape_scorer, return_train_score=True);"
      ],
      "execution_count": 0,
      "outputs": []
    },
    {
      "cell_type": "code",
      "metadata": {
        "id": "C3nMixaLkRMM",
        "colab_type": "code",
        "outputId": "7a13abe3-42d9-4fa4-ef31-40b4d3e7e935",
        "colab": {
          "base_uri": "https://localhost:8080/",
          "height": 86
        }
      },
      "source": [
        "cv_results"
      ],
      "execution_count": 0,
      "outputs": [
        {
          "output_type": "execute_result",
          "data": {
            "text/plain": [
              "{'fit_time': array([41.71309137, 42.79233432, 41.62490797]),\n",
              " 'score_time': array([0.01293659, 0.01351094, 0.01302695]),\n",
              " 'test_score': array([-0.22774546, -0.23144261, -0.2346226 ]),\n",
              " 'train_score': array([-0.08610893, -0.08807034, -0.08678541])}"
            ]
          },
          "metadata": {
            "tags": []
          },
          "execution_count": 28
        }
      ]
    },
    {
      "cell_type": "markdown",
      "metadata": {
        "id": "lbOWKWkFQcpk",
        "colab_type": "text"
      },
      "source": [
        "Optimization, based on previous runs with other scorers. Problem is high variance\n",
        "\n",
        "---\n",
        "\n",
        "N_est = 200, tried sqrt features which wasn't good, can try with some fractions"
      ]
    },
    {
      "cell_type": "code",
      "metadata": {
        "id": "3X8tyTlcQcvd",
        "colab_type": "code",
        "outputId": "03187ae8-6664-4a6d-db34-1f124575214a",
        "colab": {
          "base_uri": "https://localhost:8080/",
          "height": 104
        }
      },
      "source": [
        "parameters = {'max_depth':[20,40], \\\n",
        "              'max_features': [0.25,0.5,1.0], 'n_estimators':[100,200]}\n",
        "nmodels = np.product([len(el) for el in parameters.values()])\n",
        "\n",
        "model = GridSearchCV(RandomForestRegressor(), parameters, cv = cv, \\\n",
        "                     scoring = smape_scorer, return_train_score = True, \\\n",
        "    verbose = 3, n_jobs = 4)\n",
        "model.fit(X[sel,::2], targets)\n",
        "print('Best params, best score:', \"{:.4f}\".format(model.best_score_), model.best_params_)"
      ],
      "execution_count": 0,
      "outputs": [
        {
          "output_type": "stream",
          "text": [
            "Fitting 3 folds for each of 12 candidates, totalling 36 fits\n"
          ],
          "name": "stdout"
        },
        {
          "output_type": "stream",
          "text": [
            "[Parallel(n_jobs=4)]: Using backend LokyBackend with 4 concurrent workers.\n",
            "[Parallel(n_jobs=4)]: Done  24 tasks      | elapsed: 11.9min\n",
            "[Parallel(n_jobs=4)]: Done  36 out of  36 | elapsed: 19.7min finished\n"
          ],
          "name": "stderr"
        },
        {
          "output_type": "stream",
          "text": [
            "Best params, best score: -0.2226 {'max_depth': 40, 'max_features': 0.5, 'n_estimators': 100}\n"
          ],
          "name": "stdout"
        }
      ]
    },
    {
      "cell_type": "code",
      "metadata": {
        "id": "0seG5rdYe5aS",
        "colab_type": "code",
        "colab": {}
      },
      "source": [
        ""
      ],
      "execution_count": 0,
      "outputs": []
    },
    {
      "cell_type": "code",
      "metadata": {
        "id": "ooGe-N1_QctR",
        "colab_type": "code",
        "outputId": "b61cb615-8570-44f6-d7eb-cba0a588abaf",
        "colab": {
          "base_uri": "https://localhost:8080/",
          "height": 426
        }
      },
      "source": [
        "res = pd.DataFrame(model.cv_results_)\n",
        "res[['mean_train_score','mean_test_score','std_test_score','params','mean_fit_time']].sort_values('mean_test_score', ascending = False)#, sortedby = 'mean_test_score')"
      ],
      "execution_count": 0,
      "outputs": [
        {
          "output_type": "execute_result",
          "data": {
            "text/html": [
              "<div>\n",
              "<style scoped>\n",
              "    .dataframe tbody tr th:only-of-type {\n",
              "        vertical-align: middle;\n",
              "    }\n",
              "\n",
              "    .dataframe tbody tr th {\n",
              "        vertical-align: top;\n",
              "    }\n",
              "\n",
              "    .dataframe thead th {\n",
              "        text-align: right;\n",
              "    }\n",
              "</style>\n",
              "<table border=\"1\" class=\"dataframe\">\n",
              "  <thead>\n",
              "    <tr style=\"text-align: right;\">\n",
              "      <th></th>\n",
              "      <th>mean_train_score</th>\n",
              "      <th>mean_test_score</th>\n",
              "      <th>std_test_score</th>\n",
              "      <th>params</th>\n",
              "      <th>mean_fit_time</th>\n",
              "    </tr>\n",
              "  </thead>\n",
              "  <tbody>\n",
              "    <tr>\n",
              "      <th>8</th>\n",
              "      <td>-0.084193</td>\n",
              "      <td>-0.222640</td>\n",
              "      <td>0.005105</td>\n",
              "      <td>{'max_depth': 40, 'max_features': 0.5, 'n_estimators': 100}</td>\n",
              "      <td>73.701877</td>\n",
              "    </tr>\n",
              "    <tr>\n",
              "      <th>9</th>\n",
              "      <td>-0.083530</td>\n",
              "      <td>-0.222999</td>\n",
              "      <td>0.004353</td>\n",
              "      <td>{'max_depth': 40, 'max_features': 0.5, 'n_estimators': 200}</td>\n",
              "      <td>147.693908</td>\n",
              "    </tr>\n",
              "    <tr>\n",
              "      <th>1</th>\n",
              "      <td>-0.083451</td>\n",
              "      <td>-0.223163</td>\n",
              "      <td>0.005397</td>\n",
              "      <td>{'max_depth': 20, 'max_features': 0.25, 'n_estimators': 200}</td>\n",
              "      <td>75.390342</td>\n",
              "    </tr>\n",
              "    <tr>\n",
              "      <th>3</th>\n",
              "      <td>-0.083550</td>\n",
              "      <td>-0.223483</td>\n",
              "      <td>0.003220</td>\n",
              "      <td>{'max_depth': 20, 'max_features': 0.5, 'n_estimators': 200}</td>\n",
              "      <td>156.666015</td>\n",
              "    </tr>\n",
              "    <tr>\n",
              "      <th>7</th>\n",
              "      <td>-0.083772</td>\n",
              "      <td>-0.223762</td>\n",
              "      <td>0.003972</td>\n",
              "      <td>{'max_depth': 40, 'max_features': 0.25, 'n_estimators': 200}</td>\n",
              "      <td>74.566892</td>\n",
              "    </tr>\n",
              "    <tr>\n",
              "      <th>6</th>\n",
              "      <td>-0.084240</td>\n",
              "      <td>-0.223974</td>\n",
              "      <td>0.004448</td>\n",
              "      <td>{'max_depth': 40, 'max_features': 0.25, 'n_estimators': 100}</td>\n",
              "      <td>37.815597</td>\n",
              "    </tr>\n",
              "    <tr>\n",
              "      <th>5</th>\n",
              "      <td>-0.083248</td>\n",
              "      <td>-0.224185</td>\n",
              "      <td>0.004105</td>\n",
              "      <td>{'max_depth': 20, 'max_features': 1.0, 'n_estimators': 200}</td>\n",
              "      <td>294.384429</td>\n",
              "    </tr>\n",
              "    <tr>\n",
              "      <th>11</th>\n",
              "      <td>-0.083739</td>\n",
              "      <td>-0.224732</td>\n",
              "      <td>0.004749</td>\n",
              "      <td>{'max_depth': 40, 'max_features': 1.0, 'n_estimators': 200}</td>\n",
              "      <td>225.702444</td>\n",
              "    </tr>\n",
              "    <tr>\n",
              "      <th>2</th>\n",
              "      <td>-0.084624</td>\n",
              "      <td>-0.224987</td>\n",
              "      <td>0.002861</td>\n",
              "      <td>{'max_depth': 20, 'max_features': 0.5, 'n_estimators': 100}</td>\n",
              "      <td>76.434437</td>\n",
              "    </tr>\n",
              "    <tr>\n",
              "      <th>4</th>\n",
              "      <td>-0.084077</td>\n",
              "      <td>-0.225113</td>\n",
              "      <td>0.005023</td>\n",
              "      <td>{'max_depth': 20, 'max_features': 1.0, 'n_estimators': 100}</td>\n",
              "      <td>151.228841</td>\n",
              "    </tr>\n",
              "    <tr>\n",
              "      <th>0</th>\n",
              "      <td>-0.084297</td>\n",
              "      <td>-0.226080</td>\n",
              "      <td>0.004147</td>\n",
              "      <td>{'max_depth': 20, 'max_features': 0.25, 'n_estimators': 100}</td>\n",
              "      <td>37.961910</td>\n",
              "    </tr>\n",
              "    <tr>\n",
              "      <th>10</th>\n",
              "      <td>-0.084587</td>\n",
              "      <td>-0.226554</td>\n",
              "      <td>0.006568</td>\n",
              "      <td>{'max_depth': 40, 'max_features': 1.0, 'n_estimators': 100}</td>\n",
              "      <td>147.537170</td>\n",
              "    </tr>\n",
              "  </tbody>\n",
              "</table>\n",
              "</div>"
            ],
            "text/plain": [
              "    mean_train_score  mean_test_score  std_test_score  \\\n",
              "8          -0.084193        -0.222640        0.005105   \n",
              "9          -0.083530        -0.222999        0.004353   \n",
              "1          -0.083451        -0.223163        0.005397   \n",
              "3          -0.083550        -0.223483        0.003220   \n",
              "7          -0.083772        -0.223762        0.003972   \n",
              "6          -0.084240        -0.223974        0.004448   \n",
              "5          -0.083248        -0.224185        0.004105   \n",
              "11         -0.083739        -0.224732        0.004749   \n",
              "2          -0.084624        -0.224987        0.002861   \n",
              "4          -0.084077        -0.225113        0.005023   \n",
              "0          -0.084297        -0.226080        0.004147   \n",
              "10         -0.084587        -0.226554        0.006568   \n",
              "\n",
              "                                                          params  \\\n",
              "8    {'max_depth': 40, 'max_features': 0.5, 'n_estimators': 100}   \n",
              "9    {'max_depth': 40, 'max_features': 0.5, 'n_estimators': 200}   \n",
              "1   {'max_depth': 20, 'max_features': 0.25, 'n_estimators': 200}   \n",
              "3    {'max_depth': 20, 'max_features': 0.5, 'n_estimators': 200}   \n",
              "7   {'max_depth': 40, 'max_features': 0.25, 'n_estimators': 200}   \n",
              "6   {'max_depth': 40, 'max_features': 0.25, 'n_estimators': 100}   \n",
              "5    {'max_depth': 20, 'max_features': 1.0, 'n_estimators': 200}   \n",
              "11   {'max_depth': 40, 'max_features': 1.0, 'n_estimators': 200}   \n",
              "2    {'max_depth': 20, 'max_features': 0.5, 'n_estimators': 100}   \n",
              "4    {'max_depth': 20, 'max_features': 1.0, 'n_estimators': 100}   \n",
              "0   {'max_depth': 20, 'max_features': 0.25, 'n_estimators': 100}   \n",
              "10   {'max_depth': 40, 'max_features': 1.0, 'n_estimators': 100}   \n",
              "\n",
              "    mean_fit_time  \n",
              "8       73.701877  \n",
              "9      147.693908  \n",
              "1       75.390342  \n",
              "3      156.666015  \n",
              "7       74.566892  \n",
              "6       37.815597  \n",
              "5      294.384429  \n",
              "11     225.702444  \n",
              "2       76.434437  \n",
              "4      151.228841  \n",
              "0       37.961910  \n",
              "10     147.537170  "
            ]
          },
          "metadata": {
            "tags": []
          },
          "execution_count": 20
        }
      ]
    },
    {
      "cell_type": "markdown",
      "metadata": {
        "id": "JbvTIxWYfSw7",
        "colab_type": "text"
      },
      "source": [
        "Results show that improvement is minimal, barely significant. We can use n_features = 0.5 and n_est = 100 to be on the safe side (should confirm through nested CV)"
      ]
    },
    {
      "cell_type": "markdown",
      "metadata": {
        "id": "w5eB-4oIzDMz",
        "colab_type": "text"
      },
      "source": [
        "## Cross validated feature selection ##"
      ]
    },
    {
      "cell_type": "code",
      "metadata": {
        "id": "GES2N-pbzCYx",
        "colab_type": "code",
        "colab": {}
      },
      "source": [
        "ntrials=5\n",
        "\n",
        "glob_imp = np.zeros(sc_features.shape[1])\n",
        "\n",
        "for i in range(ntrials):\n",
        "        X_train, X_test, y_train, y_test = \\\n",
        "        train_test_split(sc_features, target, test_size=0.2, random_state=i) \n",
        "        model.fit(sc_features, target)\n",
        "        importances = model.feature_importances_\n",
        "        glob_imp+=importances\n",
        "        \n",
        "indices = np.argsort(glob_imp)[::-1]\n",
        "\n",
        "        # Print the feature ranking\n",
        "print(\"Feature ranking:\")\n",
        "\n",
        "for f in range(20):\n",
        "    print(\"%d. feature: %s, %d (%f)\" % (f + 1, features.columns[indices[f]], indices[f], glob_imp[indices[f]]))\n",
        "\n",
        "       "
      ],
      "execution_count": 0,
      "outputs": []
    },
    {
      "cell_type": "markdown",
      "metadata": {
        "id": "2_mZxO1sQcmf",
        "colab_type": "text"
      },
      "source": [
        "Shall we try GBMs and see if we can work on bias?"
      ]
    },
    {
      "cell_type": "code",
      "metadata": {
        "id": "i-OC4ZI2gbRU",
        "colab_type": "code",
        "colab": {}
      },
      "source": [
        "from sklearn.experimental import enable_hist_gradient_boosting  # noqa\n",
        "# now you can import normally from ensemble\n",
        "from sklearn.ensemble import GradientBoostingRegressor, HistGradientBoostingRegressor\n",
        "from sklearn.multioutput import MultiOutputRegressor\n"
      ],
      "execution_count": 0,
      "outputs": []
    },
    {
      "cell_type": "code",
      "metadata": {
        "id": "Yz6xRoJsgldx",
        "colab_type": "code",
        "colab": {}
      },
      "source": [
        "model_B = MultiOutputRegressor(GradientBoostingRegressor()) #Did not work, too much RAM\n",
        "#model_B = GradientBoostingRegressor()\n",
        "cv_results = cross_validate(model_B, X[sel,::2], targets,  cv = cv, scoring = smape_scorer, return_train_score=True);"
      ],
      "execution_count": 0,
      "outputs": []
    },
    {
      "cell_type": "code",
      "metadata": {
        "id": "UrHs64yQglno",
        "colab_type": "code",
        "outputId": "92240854-c11d-4666-fd14-bbc074dd3126",
        "colab": {
          "base_uri": "https://localhost:8080/",
          "height": 86
        }
      },
      "source": [
        "cv_results"
      ],
      "execution_count": 0,
      "outputs": [
        {
          "output_type": "execute_result",
          "data": {
            "text/plain": [
              "{'fit_time': array([171.49835491, 177.16797352, 175.59178376]),\n",
              " 'score_time': array([0.01924682, 0.02004647, 0.02006698]),\n",
              " 'test_score': array([-0.23018453, -0.22122639, -0.2529532 ]),\n",
              " 'train_score': array([-0.11661452, -0.11385335, -0.11041621])}"
            ]
          },
          "metadata": {
            "tags": []
          },
          "execution_count": 22
        }
      ]
    },
    {
      "cell_type": "markdown",
      "metadata": {
        "id": "SjZAtkNTQIr2",
        "colab_type": "text"
      },
      "source": [
        "I would say no so won't pursue it further for now."
      ]
    },
    {
      "cell_type": "markdown",
      "metadata": {
        "id": "t4HMlcKWrL1P",
        "colab_type": "text"
      },
      "source": [
        "Let's look at performance on whole (rest of) data set using params n_split = 40, n_est = 100, max_features = 0.5\n",
        "\n"
      ]
    },
    {
      "cell_type": "code",
      "metadata": {
        "id": "_Bi4Whk2rhh8",
        "colab_type": "code",
        "colab": {}
      },
      "source": [
        "allindexes = np.arange(X.shape[0])\n",
        "\n",
        "ind = allindexes[~np.isin(allindexes,sel)]\n",
        "\n",
        "feat = X[ind,::2]\n",
        "\n",
        "targ = SFHs[ind]"
      ],
      "execution_count": 0,
      "outputs": []
    },
    {
      "cell_type": "code",
      "metadata": {
        "id": "ausD5OdgEvBF",
        "colab_type": "code",
        "colab": {}
      },
      "source": [
        "bestmodel = RandomForestRegressor(max_depth = 40, max_features = 0.5)"
      ],
      "execution_count": 0,
      "outputs": []
    },
    {
      "cell_type": "code",
      "metadata": {
        "id": "GFJBdC5UrLx7",
        "colab_type": "code",
        "colab": {}
      },
      "source": [
        "cv_results = cross_validate(bestmodel, feat, targ,  cv = cv, scoring = smape_scorer, return_train_score=True);\n"
      ],
      "execution_count": 0,
      "outputs": []
    },
    {
      "cell_type": "markdown",
      "metadata": {
        "id": "iKijnRGLJ0H9",
        "colab_type": "text"
      },
      "source": [
        ""
      ]
    },
    {
      "cell_type": "code",
      "metadata": {
        "id": "Gy7zsP4534rP",
        "colab_type": "code",
        "outputId": "f491f89a-65de-4866-ee6f-4188774acfd5",
        "colab": {
          "base_uri": "https://localhost:8080/",
          "height": 86
        }
      },
      "source": [
        "cv_results\n",
        "\n",
        "#{'fit_time': array([324.81443143, 322.7449398 , 325.2868309 ]),\n",
        "#'score_time': array([0.09922242, 0.10137129, 0.09655595]),\n",
        "#'test_score': array([-0.17859983, -0.17917983, -0.17860528]),\n",
        "#'train_score': array([-0.06672741, -0.06671317, -0.06716147])}"
      ],
      "execution_count": 0,
      "outputs": [
        {
          "output_type": "execute_result",
          "data": {
            "text/plain": [
              "{'fit_time': array([324.81443143, 322.7449398 , 325.2868309 ]),\n",
              " 'score_time': array([0.09922242, 0.10137129, 0.09655595]),\n",
              " 'test_score': array([-0.17859983, -0.17917983, -0.17860528]),\n",
              " 'train_score': array([-0.06672741, -0.06671317, -0.06716147])}"
            ]
          },
          "metadata": {
            "tags": []
          },
          "execution_count": 66
        }
      ]
    },
    {
      "cell_type": "markdown",
      "metadata": {
        "id": "uxXGqNCX5z2i",
        "colab_type": "text"
      },
      "source": [
        "Not bad at all! SMAPE = 0.18 but let's remember to add noise."
      ]
    },
    {
      "cell_type": "code",
      "metadata": {
        "id": "9YPILzMp5zDk",
        "colab_type": "code",
        "outputId": "600bad41-dfb1-4457-a0c7-ee1f0cf40a92",
        "colab": {
          "base_uri": "https://localhost:8080/",
          "height": 69
        }
      },
      "source": [
        "#Will take some time (around 16 mins according to cross_validate) but good to take a look at SMAPEs\n",
        "\n",
        "ypred = cross_val_predict(bestmodel, feat, targ, cv = cv, verbose = 2)"
      ],
      "execution_count": 0,
      "outputs": [
        {
          "output_type": "stream",
          "text": [
            "[Parallel(n_jobs=1)]: Using backend SequentialBackend with 1 concurrent workers.\n",
            "[Parallel(n_jobs=1)]: Done   1 out of   1 | elapsed:  5.6min remaining:    0.0s\n",
            "[Parallel(n_jobs=1)]: Done   3 out of   3 | elapsed: 16.8min finished\n"
          ],
          "name": "stderr"
        }
      ]
    },
    {
      "cell_type": "code",
      "metadata": {
        "id": "nKMHaLNjCr9r",
        "colab_type": "code",
        "outputId": "3c88c0bd-264d-4e20-b176-e1985c7e10f1",
        "colab": {
          "base_uri": "https://localhost:8080/",
          "height": 282
        }
      },
      "source": [
        "#distribution of residuals\n",
        "\n",
        "for i in range(targ.shape[1]):\n",
        "#  plt.figure()\n",
        "  plt.hist((targ[:,i] - ypred[:,i])/(targ[:,i]+0.01), bins = 30, alpha = 0.3, range = [-2,2], label = 'Bin'+str(i))\n",
        "plt.legend()"
      ],
      "execution_count": 0,
      "outputs": [
        {
          "output_type": "execute_result",
          "data": {
            "text/plain": [
              "<matplotlib.legend.Legend at 0x7ffa56b7d898>"
            ]
          },
          "metadata": {
            "tags": []
          },
          "execution_count": 69
        },
        {
          "output_type": "display_data",
          "data": {
            "image/png": "[encoded data removed]",
            "text/plain": [
              "<Figure size 432x288 with 1 Axes>"
            ]
          },
          "metadata": {
            "tags": []
          }
        }
      ]
    },
    {
      "cell_type": "code",
      "metadata": {
        "id": "TYCEVXna8T6q",
        "colab_type": "code",
        "colab": {}
      },
      "source": [
        "#\n",
        "\n",
        "smapes = np.array([2 * smape(targ[i,:],ypred[i,:]) for i in range(targ.shape[0])])"
      ],
      "execution_count": 0,
      "outputs": []
    },
    {
      "cell_type": "code",
      "metadata": {
        "id": "1Zn_O_Ut9coL",
        "colab_type": "code",
        "outputId": "a0c4cf8a-f504-43f5-83be-2b1bb4d9aa60",
        "colab": {
          "base_uri": "https://localhost:8080/",
          "height": 265
        }
      },
      "source": [
        "plt.hist(smapes, bins = 50);"
      ],
      "execution_count": 0,
      "outputs": [
        {
          "output_type": "display_data",
          "data": {
            "image/png": "[encoded data removed]",
            "text/plain": [
              "<Figure size 432x288 with 1 Axes>"
            ]
          },
          "metadata": {
            "tags": []
          }
        }
      ]
    },
    {
      "cell_type": "code",
      "metadata": {
        "id": "M7Y9DWPd9ihD",
        "colab_type": "code",
        "colab": {}
      },
      "source": [
        "from scipy import stats"
      ],
      "execution_count": 0,
      "outputs": []
    },
    {
      "cell_type": "code",
      "metadata": {
        "id": "NZzFh3yv90tv",
        "colab_type": "code",
        "outputId": "e5e10d2e-f93f-465b-8c0e-b111d3810223",
        "colab": {
          "base_uri": "https://localhost:8080/",
          "height": 54
        }
      },
      "source": [
        "stats.describe(smapes)"
      ],
      "execution_count": 0,
      "outputs": [
        {
          "output_type": "execute_result",
          "data": {
            "text/plain": [
              "DescribeResult(nobs=5851, minmax=(0.021497441137042533, 0.8465597479796513), mean=0.17867202868650603, variance=0.008090173095306819, skewness=1.5633976670425058, kurtosis=4.20434101985343)"
            ]
          },
          "metadata": {
            "tags": []
          },
          "execution_count": 73
        }
      ]
    },
    {
      "cell_type": "code",
      "metadata": {
        "id": "XHiZL-DJ92zM",
        "colab_type": "code",
        "outputId": "8d50e9d6-2b5d-4e4a-8830-401d3db0c648",
        "colab": {
          "base_uri": "https://localhost:8080/",
          "height": 34
        }
      },
      "source": [
        "np.median(smapes)"
      ],
      "execution_count": 0,
      "outputs": [
        {
          "output_type": "execute_result",
          "data": {
            "text/plain": [
              "0.16012715050675985"
            ]
          },
          "metadata": {
            "tags": []
          },
          "execution_count": 72
        }
      ]
    },
    {
      "cell_type": "markdown",
      "metadata": {
        "id": "b_1P4MZiEkc4",
        "colab_type": "text"
      },
      "source": [
        "**Next step: train model on all data. Apply to other sims. Compare with EMDs and SOM-based distances. Exciting!**"
      ]
    },
    {
      "cell_type": "code",
      "metadata": {
        "id": "LQ9y_RjHFLST",
        "colab_type": "code",
        "outputId": "80c15948-6100-4c65-bbfe-1f57ab292db3",
        "colab": {
          "base_uri": "https://localhost:8080/",
          "height": 139
        }
      },
      "source": [
        "bestmodel.fit(X[:,::2], SFHs)"
      ],
      "execution_count": 0,
      "outputs": [
        {
          "output_type": "execute_result",
          "data": {
            "text/plain": [
              "RandomForestRegressor(bootstrap=True, ccp_alpha=0.0, criterion='mse',\n",
              "                      max_depth=40, max_features=0.5, max_leaf_nodes=None,\n",
              "                      max_samples=None, min_impurity_decrease=0.0,\n",
              "                      min_impurity_split=None, min_samples_leaf=1,\n",
              "                      min_samples_split=2, min_weight_fraction_leaf=0.0,\n",
              "                      n_estimators=100, n_jobs=None, oob_score=False,\n",
              "                      random_state=None, verbose=0, warm_start=False)"
            ]
          },
          "metadata": {
            "tags": []
          },
          "execution_count": 74
        }
      ]
    },
    {
      "cell_type": "code",
      "metadata": {
        "id": "6R6QKCFJROQx",
        "colab_type": "code",
        "colab": {}
      },
      "source": [
        "mediansmapes = []\n",
        "\n",
        "for spec in spectra.values():\n",
        "  Xt = np.log10(spec[:,::2])\n",
        "  SFHpred = bestmodel.predict(Xt)\n",
        "  smapes = np.array([2 * smape(SFHs[i,:],SFHpred[i,:]) for i in range(SFHs.shape[0])])\n",
        "  mediansmapes.append(np.median(smapes))\n",
        "\n",
        "a = np.array(mediansmapes)"
      ],
      "execution_count": 0,
      "outputs": []
    },
    {
      "cell_type": "code",
      "metadata": {
        "id": "PnjN6ILxWqDA",
        "colab_type": "code",
        "colab": {}
      },
      "source": [
        "smapes = dict(zip(spectra.keys(),a))"
      ],
      "execution_count": 0,
      "outputs": []
    },
    {
      "cell_type": "code",
      "metadata": {
        "id": "XTuzEM-yROUu",
        "colab_type": "code",
        "outputId": "a92d4179-8a89-4543-cbda-ecb0c8a230f3",
        "colab": {
          "base_uri": "https://localhost:8080/",
          "height": 364
        }
      },
      "source": [
        "smapes"
      ],
      "execution_count": 0,
      "outputs": [
        {
          "output_type": "execute_result",
          "data": {
            "text/plain": [
              "{'bc03_dustA_spec': 0.24937033395796013,\n",
              " 'bc03_dustB_spec': 0.23528570291639841,\n",
              " 'bc03_dustC_spec': 0.22698198107701598,\n",
              " 'bc03_int_spec': 0.6768479949305265,\n",
              " 'bpass_dustA_spec': 0.23445830566093995,\n",
              " 'bpass_dustB_spec': 0.22758600270595597,\n",
              " 'bpass_dustC_spec': 0.22464032718642457,\n",
              " 'bpass_int_spec': 0.6810513675788217,\n",
              " 'bpass_sin_dustA_spec': 0.3236004371633811,\n",
              " 'bpass_sin_dustB_spec': 0.3455423590850195,\n",
              " 'bpass_sin_dustC_spec': 0.3614452757986425,\n",
              " 'bpass_sin_int_spec': 0.6668520016397389,\n",
              " 'fsps_dustA_spec': 0.15017376192736284,\n",
              " 'fsps_dustB_spec': 0.05683577876967202,\n",
              " 'fsps_dustC_spec': 0.14365922869303083,\n",
              " 'fsps_int_spec': 0.5393774237322849,\n",
              " 'fsps_neb_dustA_spec': 0.20594551912167294,\n",
              " 'fsps_neb_dustB_spec': 0.20121278929696634,\n",
              " 'fsps_neb_dustC_spec': 0.19966068074803198,\n",
              " 'fsps_neb_int_spec': 0.5393774237322849}"
            ]
          },
          "metadata": {
            "tags": []
          },
          "execution_count": 83
        }
      ]
    },
    {
      "cell_type": "code",
      "metadata": {
        "id": "wfSneBsMRONg",
        "colab_type": "code",
        "outputId": "5b597f9d-97d7-47ec-eb89-62c48088b165",
        "colab": {
          "base_uri": "https://localhost:8080/",
          "height": 130
        }
      },
      "source": [
        "filename = 'ref_fsps_dustB_spec_EMD.txt'\n",
        "with filename open as f:\n",
        "  d = f.readlines()\n",
        "#dist = np.genfromtxt('My Drive/'+filename)"
      ],
      "execution_count": 0,
      "outputs": [
        {
          "output_type": "error",
          "ename": "SyntaxError",
          "evalue": "ignored",
          "traceback": [
            "\u001b[0;36m  File \u001b[0;32m\"<ipython-input-87-3a43412ff0ad>\"\u001b[0;36m, line \u001b[0;32m2\u001b[0m\n\u001b[0;31m    with filename open as f:\u001b[0m\n\u001b[0m                     ^\u001b[0m\n\u001b[0;31mSyntaxError\u001b[0m\u001b[0;31m:\u001b[0m invalid syntax\n"
          ]
        }
      ]
    },
    {
      "cell_type": "markdown",
      "metadata": {
        "id": "glyGCK4XDTCH",
        "colab_type": "text"
      },
      "source": [
        "Previous optimization runs below"
      ]
    },
    {
      "cell_type": "code",
      "metadata": {
        "id": "lCoAf_rZA3Yz",
        "colab_type": "code",
        "outputId": "97060537-5f44-4a30-daf3-c3f6e7913251",
        "colab": {
          "base_uri": "https://localhost:8080/",
          "height": 315
        }
      },
      "source": [
        "#Do not run: cv with r2 score\n",
        "\n",
        "#Results\n",
        "\n",
        "#{'fit_time': array([53.27171755, 52.12764168, 53.28606129, 53.26166272]),\n",
        "# 'score_time': array([0.01601958, 0.0146246 , 0.01494336, 0.01519322]),\n",
        "# 'test_score': array([0.81165198, 0.87030236, 0.86739246, 0.88866265]),\n",
        "# 'train_score': array([0.98043601, 0.97968621, 0.98108432, 0.97960353])}\n",
        "\n",
        "cv = KFold(shuffle = True, n_splits=4)\n",
        "\n",
        "cv_results = cross_validate(model, X[sel,::2], targets,  cv = cv, return_train_score=True);"
      ],
      "execution_count": 0,
      "outputs": [
        {
          "output_type": "stream",
          "text": [
            "/usr/local/lib/python3.6/dist-packages/sklearn/base.py:434: FutureWarning: The default value of multioutput (not exposed in score method) will change from 'variance_weighted' to 'uniform_average' in 0.23 to keep consistent with 'metrics.r2_score'. To specify the default value manually and avoid the warning, please either call 'metrics.r2_score' directly or make a custom scorer with 'metrics.make_scorer' (the built-in scorer 'r2' uses multioutput='uniform_average').\n",
            "  \"multioutput='uniform_average').\", FutureWarning)\n",
            "/usr/local/lib/python3.6/dist-packages/sklearn/base.py:434: FutureWarning: The default value of multioutput (not exposed in score method) will change from 'variance_weighted' to 'uniform_average' in 0.23 to keep consistent with 'metrics.r2_score'. To specify the default value manually and avoid the warning, please either call 'metrics.r2_score' directly or make a custom scorer with 'metrics.make_scorer' (the built-in scorer 'r2' uses multioutput='uniform_average').\n",
            "  \"multioutput='uniform_average').\", FutureWarning)\n",
            "/usr/local/lib/python3.6/dist-packages/sklearn/base.py:434: FutureWarning: The default value of multioutput (not exposed in score method) will change from 'variance_weighted' to 'uniform_average' in 0.23 to keep consistent with 'metrics.r2_score'. To specify the default value manually and avoid the warning, please either call 'metrics.r2_score' directly or make a custom scorer with 'metrics.make_scorer' (the built-in scorer 'r2' uses multioutput='uniform_average').\n",
            "  \"multioutput='uniform_average').\", FutureWarning)\n",
            "/usr/local/lib/python3.6/dist-packages/sklearn/base.py:434: FutureWarning: The default value of multioutput (not exposed in score method) will change from 'variance_weighted' to 'uniform_average' in 0.23 to keep consistent with 'metrics.r2_score'. To specify the default value manually and avoid the warning, please either call 'metrics.r2_score' directly or make a custom scorer with 'metrics.make_scorer' (the built-in scorer 'r2' uses multioutput='uniform_average').\n",
            "  \"multioutput='uniform_average').\", FutureWarning)\n",
            "/usr/local/lib/python3.6/dist-packages/sklearn/base.py:434: FutureWarning: The default value of multioutput (not exposed in score method) will change from 'variance_weighted' to 'uniform_average' in 0.23 to keep consistent with 'metrics.r2_score'. To specify the default value manually and avoid the warning, please either call 'metrics.r2_score' directly or make a custom scorer with 'metrics.make_scorer' (the built-in scorer 'r2' uses multioutput='uniform_average').\n",
            "  \"multioutput='uniform_average').\", FutureWarning)\n",
            "/usr/local/lib/python3.6/dist-packages/sklearn/base.py:434: FutureWarning: The default value of multioutput (not exposed in score method) will change from 'variance_weighted' to 'uniform_average' in 0.23 to keep consistent with 'metrics.r2_score'. To specify the default value manually and avoid the warning, please either call 'metrics.r2_score' directly or make a custom scorer with 'metrics.make_scorer' (the built-in scorer 'r2' uses multioutput='uniform_average').\n",
            "  \"multioutput='uniform_average').\", FutureWarning)\n",
            "/usr/local/lib/python3.6/dist-packages/sklearn/base.py:434: FutureWarning: The default value of multioutput (not exposed in score method) will change from 'variance_weighted' to 'uniform_average' in 0.23 to keep consistent with 'metrics.r2_score'. To specify the default value manually and avoid the warning, please either call 'metrics.r2_score' directly or make a custom scorer with 'metrics.make_scorer' (the built-in scorer 'r2' uses multioutput='uniform_average').\n",
            "  \"multioutput='uniform_average').\", FutureWarning)\n",
            "/usr/local/lib/python3.6/dist-packages/sklearn/base.py:434: FutureWarning: The default value of multioutput (not exposed in score method) will change from 'variance_weighted' to 'uniform_average' in 0.23 to keep consistent with 'metrics.r2_score'. To specify the default value manually and avoid the warning, please either call 'metrics.r2_score' directly or make a custom scorer with 'metrics.make_scorer' (the built-in scorer 'r2' uses multioutput='uniform_average').\n",
            "  \"multioutput='uniform_average').\", FutureWarning)\n"
          ],
          "name": "stderr"
        }
      ]
    },
    {
      "cell_type": "code",
      "metadata": {
        "id": "fH6A0URkBNae",
        "colab_type": "code",
        "outputId": "85dbad87-6e80-4ad9-e171-90d27c705430",
        "colab": {
          "base_uri": "https://localhost:8080/",
          "height": 86
        }
      },
      "source": [
        "cv_results"
      ],
      "execution_count": 0,
      "outputs": [
        {
          "output_type": "execute_result",
          "data": {
            "text/plain": [
              "{'fit_time': array([53.27171755, 52.12764168, 53.28606129, 53.26166272]),\n",
              " 'score_time': array([0.01601958, 0.0146246 , 0.01494336, 0.01519322]),\n",
              " 'test_score': array([0.81165198, 0.87030236, 0.86739246, 0.88866265]),\n",
              " 'train_score': array([0.98043601, 0.97968621, 0.98108432, 0.97960353])}"
            ]
          },
          "metadata": {
            "tags": []
          },
          "execution_count": 68
        }
      ]
    },
    {
      "cell_type": "code",
      "metadata": {
        "id": "4wCHM5ANEWo6",
        "colab_type": "code",
        "colab": {}
      },
      "source": [
        "#Do not run, CV with neg med abs err\n",
        "\n",
        "#{'fit_time': array([54.1445663 , 52.86333227, 53.88323212, 54.79486084]),\n",
        "# 'score_time': array([0.01488876, 0.01699281, 0.01373649, 0.01461649]),\n",
        "# 'test_score': array([-0.40613118, -0.46373731, -0.40043115, -0.37756717]),\n",
        "# 'train_score': array([-0.14555735, -0.14599829, -0.15410287, -0.1604189 ])}\n",
        "\n",
        "cv_results = cross_validate(model, X[sel,::2], targets,  cv = cv, scoring = 'neg_median_absolute_error', return_train_score=True);"
      ],
      "execution_count": 0,
      "outputs": []
    },
    {
      "cell_type": "code",
      "metadata": {
        "id": "fRZohbREGP3C",
        "colab_type": "code",
        "outputId": "3cb10bc4-4253-4b29-c59f-ed417685a178",
        "colab": {
          "base_uri": "https://localhost:8080/",
          "height": 86
        }
      },
      "source": [
        "cv_results"
      ],
      "execution_count": 0,
      "outputs": [
        {
          "output_type": "execute_result",
          "data": {
            "text/plain": [
              "{'fit_time': array([54.1445663 , 52.86333227, 53.88323212, 54.79486084]),\n",
              " 'score_time': array([0.01488876, 0.01699281, 0.01373649, 0.01461649]),\n",
              " 'test_score': array([-0.40613118, -0.46373731, -0.40043115, -0.37756717]),\n",
              " 'train_score': array([-0.14555735, -0.14599829, -0.15410287, -0.1604189 ])}"
            ]
          },
          "metadata": {
            "tags": []
          },
          "execution_count": 70
        }
      ]
    },
    {
      "cell_type": "code",
      "metadata": {
        "id": "Z2OeDfEKiXFL",
        "colab_type": "code",
        "colab": {}
      },
      "source": [
        ""
      ],
      "execution_count": 0,
      "outputs": []
    },
    {
      "cell_type": "code",
      "metadata": {
        "id": "aMI5F0b8i0D5",
        "colab_type": "code",
        "outputId": "3b4ea814-c3e6-4979-e54f-e6380bf101bf",
        "colab": {
          "base_uri": "https://localhost:8080/",
          "height": 52
        }
      },
      "source": [
        "parameters = {'max_depth':[20,40], \\\n",
        "              'max_features': [0.25,0.5,1.0], 'n_estimators':[100,200]}\n",
        "nmodels = np.product([len(el) for el in parameters.values()])\n",
        "\n",
        "model = GridSearchCV(RandomForestRegressor(), parameters, cv = cv, \\\n",
        "                     scoring = smape_scorer, return_train_score = True, \\\n",
        "    verbose = 2, n_jobs = 4)\n",
        "model.fit(X[sel,::2], targets)\n",
        "print('Best params, best score:', \"{:.4f}\".format(model.best_score_), model.best_params_),\n",
        "#print('Time per model (s):', \"{:.4f}\".format((stop-start)/float(nmodels*4)))"
      ],
      "execution_count": 0,
      "outputs": [
        {
          "output_type": "stream",
          "text": [
            "Fitting 3 folds for each of 12 candidates, totalling 36 fits\n"
          ],
          "name": "stdout"
        },
        {
          "output_type": "stream",
          "text": [
            "[Parallel(n_jobs=4)]: Using backend LokyBackend with 4 concurrent workers.\n"
          ],
          "name": "stderr"
        }
      ]
    },
    {
      "cell_type": "code",
      "metadata": {
        "id": "hN4h8hLUHJhQ",
        "colab_type": "code",
        "outputId": "5711e81a-14fa-42f5-c006-b8410e526548",
        "colab": {
          "base_uri": "https://localhost:8080/",
          "height": 121
        }
      },
      "source": [
        "parameters = {'max_depth':[8,12,20], \\\n",
        "              'max_features': ['auto','sqrt'], 'n_estimators':[100,200]}\n",
        "nmodels = np.product([len(el) for el in parameters.values()])\n",
        "\n",
        "model = GridSearchCV(RandomForestRegressor(), parameters, cv = cv, \\\n",
        "                     scoring = 'neg_median_absolute_error', return_train_score = True, \\\n",
        "    verbose = 2, n_jobs = 4)\n",
        "start = time.time()\n",
        "model.fit(X[sel,::2], targets)\n",
        "stop = time.time()\n",
        "print('Best params, best score:', \"{:.4f}\".format(model.best_score_), model.best_params_),\n",
        "print('Time per model (s):', \"{:.4f}\".format((stop-start)/float(nmodels*4)))"
      ],
      "execution_count": 0,
      "outputs": [
        {
          "output_type": "stream",
          "text": [
            "Fitting 4 folds for each of 12 candidates, totalling 48 fits\n"
          ],
          "name": "stdout"
        },
        {
          "output_type": "stream",
          "text": [
            "[Parallel(n_jobs=4)]: Using backend LokyBackend with 4 concurrent workers.\n",
            "[Parallel(n_jobs=4)]: Done  33 tasks      | elapsed: 19.4min\n",
            "[Parallel(n_jobs=4)]: Done  48 out of  48 | elapsed: 25.9min finished\n"
          ],
          "name": "stderr"
        },
        {
          "output_type": "stream",
          "text": [
            "Best params, best score: -0.3992 {'max_depth': 20, 'max_features': 'auto', 'n_estimators': 200}\n",
            "Time per model (s): 35.4968\n"
          ],
          "name": "stdout"
        }
      ]
    },
    {
      "cell_type": "code",
      "metadata": {
        "id": "kS3FPRfYLkw2",
        "colab_type": "code",
        "outputId": "e69ab77c-e5cf-4737-e190-ead3203eced1",
        "colab": {
          "base_uri": "https://localhost:8080/",
          "height": 1000
        }
      },
      "source": [
        "model.cv_results_"
      ],
      "execution_count": 0,
      "outputs": [
        {
          "output_type": "execute_result",
          "data": {
            "text/plain": [
              "{'mean_fit_time': array([142.08366597, 281.02833021,   3.62773597,   7.20128304,\n",
              "        175.92155129, 354.93943012,   4.40083194,   8.71038419,\n",
              "        185.85670829, 371.20518613,   4.79526126,   8.64055562]),\n",
              " 'mean_score_time': array([0.03765577, 0.06617844, 0.04712707, 0.07398534, 0.0460602 ,\n",
              "        0.08255142, 0.04830873, 0.08664465, 0.04365295, 0.09512132,\n",
              "        0.05063039, 0.0543642 ]),\n",
              " 'mean_test_score': array([-0.44103841, -0.44494769, -0.48930196, -0.48785785, -0.40170052,\n",
              "        -0.40611576, -0.44119677, -0.44180372, -0.4014455 , -0.39918231,\n",
              "        -0.44515741, -0.43259462]),\n",
              " 'mean_train_score': array([-0.31310871, -0.31072779, -0.35199807, -0.35286472, -0.17899306,\n",
              "        -0.18147997, -0.20830142, -0.20607399, -0.14763381, -0.14861138,\n",
              "        -0.16305295, -0.1631004 ]),\n",
              " 'param_max_depth': masked_array(data=[8, 8, 8, 8, 12, 12, 12, 12, 20, 20, 20, 20],\n",
              "              mask=[False, False, False, False, False, False, False, False,\n",
              "                    False, False, False, False],\n",
              "        fill_value='?',\n",
              "             dtype=object),\n",
              " 'param_max_features': masked_array(data=['auto', 'auto', 'sqrt', 'sqrt', 'auto', 'auto', 'sqrt',\n",
              "                    'sqrt', 'auto', 'auto', 'sqrt', 'sqrt'],\n",
              "              mask=[False, False, False, False, False, False, False, False,\n",
              "                    False, False, False, False],\n",
              "        fill_value='?',\n",
              "             dtype=object),\n",
              " 'param_n_estimators': masked_array(data=[100, 200, 100, 200, 100, 200, 100, 200, 100, 200, 100,\n",
              "                    200],\n",
              "              mask=[False, False, False, False, False, False, False, False,\n",
              "                    False, False, False, False],\n",
              "        fill_value='?',\n",
              "             dtype=object),\n",
              " 'params': [{'max_depth': 8, 'max_features': 'auto', 'n_estimators': 100},\n",
              "  {'max_depth': 8, 'max_features': 'auto', 'n_estimators': 200},\n",
              "  {'max_depth': 8, 'max_features': 'sqrt', 'n_estimators': 100},\n",
              "  {'max_depth': 8, 'max_features': 'sqrt', 'n_estimators': 200},\n",
              "  {'max_depth': 12, 'max_features': 'auto', 'n_estimators': 100},\n",
              "  {'max_depth': 12, 'max_features': 'auto', 'n_estimators': 200},\n",
              "  {'max_depth': 12, 'max_features': 'sqrt', 'n_estimators': 100},\n",
              "  {'max_depth': 12, 'max_features': 'sqrt', 'n_estimators': 200},\n",
              "  {'max_depth': 20, 'max_features': 'auto', 'n_estimators': 100},\n",
              "  {'max_depth': 20, 'max_features': 'auto', 'n_estimators': 200},\n",
              "  {'max_depth': 20, 'max_features': 'sqrt', 'n_estimators': 100},\n",
              "  {'max_depth': 20, 'max_features': 'sqrt', 'n_estimators': 200}],\n",
              " 'rank_test_score': array([ 6,  9, 12, 11,  3,  4,  7,  8,  2,  1, 10,  5], dtype=int32),\n",
              " 'split0_test_score': array([-0.46484647, -0.46342732, -0.49423409, -0.48989482, -0.41018492,\n",
              "        -0.41869222, -0.4345635 , -0.44368189, -0.40677706, -0.4193301 ,\n",
              "        -0.44197802, -0.44807825]),\n",
              " 'split0_train_score': array([-0.31801827, -0.31626469, -0.35988298, -0.35760819, -0.17923291,\n",
              "        -0.18691787, -0.20667382, -0.20850515, -0.14874094, -0.14872055,\n",
              "        -0.16564796, -0.16867828]),\n",
              " 'split1_test_score': array([-0.44659227, -0.4518033 , -0.49208841, -0.49309406, -0.40590785,\n",
              "        -0.40883807, -0.43857738, -0.44002382, -0.41599823, -0.40464731,\n",
              "        -0.45249404, -0.42718316]),\n",
              " 'split1_train_score': array([-0.3224736 , -0.31481954, -0.34609587, -0.35160753, -0.17359326,\n",
              "        -0.17500334, -0.20467345, -0.20253119, -0.14132296, -0.14119352,\n",
              "        -0.15492636, -0.15405285]),\n",
              " 'split2_test_score': array([-0.4152813 , -0.41899176, -0.46238702, -0.45892138, -0.37415871,\n",
              "        -0.38399877, -0.42785546, -0.420185  , -0.37262068, -0.36865325,\n",
              "        -0.41057892, -0.40827576]),\n",
              " 'split2_train_score': array([-0.31369618, -0.30805092, -0.350285  , -0.34698542, -0.18306254,\n",
              "        -0.18501861, -0.21193496, -0.21334033, -0.14757193, -0.1523111 ,\n",
              "        -0.16519707, -0.1619983 ]),\n",
              " 'split3_test_score': array([-0.43743359, -0.44556837, -0.50849834, -0.50952112, -0.4165506 ,\n",
              "        -0.412934  , -0.46379072, -0.46332415, -0.41038603, -0.40409859,\n",
              "        -0.47557864, -0.44684129]),\n",
              " 'split3_train_score': array([-0.29824681, -0.30377601, -0.35172842, -0.35525776, -0.18008352,\n",
              "        -0.17898007, -0.20992345, -0.19991929, -0.15289942, -0.15222033,\n",
              "        -0.16644039, -0.16767217]),\n",
              " 'std_fit_time': array([1.31756693, 1.38642349, 0.06242421, 0.03624091, 2.22297587,\n",
              "        3.76957833, 0.09774357, 0.07674878, 3.34668166, 5.94581039,\n",
              "        0.07925401, 0.85842579]),\n",
              " 'std_score_time': array([0.00418158, 0.01570641, 0.00472206, 0.01830005, 0.00493501,\n",
              "        0.00765757, 0.00578032, 0.00124683, 0.00516337, 0.00721223,\n",
              "        0.00368432, 0.03084517]),\n",
              " 'std_test_score': array([0.01784722, 0.01629871, 0.01677055, 0.01829059, 0.01634597,\n",
              "        0.01324035, 0.01359539, 0.01530681, 0.01696327, 0.01865471,\n",
              "        0.0233723 , 0.01630492]),\n",
              " 'std_train_score': array([0.0091245 , 0.0050718 , 0.00500037, 0.00401166, 0.00342656,\n",
              "        0.00475103, 0.00281269, 0.00522355, 0.00414678, 0.00452076,\n",
              "        0.00471295, 0.00581134])}"
            ]
          },
          "metadata": {
            "tags": []
          },
          "execution_count": 98
        }
      ]
    },
    {
      "cell_type": "code",
      "metadata": {
        "id": "hDLf_xEuo7mR",
        "colab_type": "code",
        "colab": {}
      },
      "source": [
        ""
      ],
      "execution_count": 0,
      "outputs": []
    },
    {
      "cell_type": "code",
      "metadata": {
        "id": "AevLQurhRhvq",
        "colab_type": "code",
        "outputId": "e890c7a0-100e-40be-960e-9bf12013c3e2",
        "colab": {
          "base_uri": "https://localhost:8080/",
          "height": 185
        }
      },
      "source": [
        "a = pd.DataFrame(model.cv_results_)\n",
        "a[['mean_train_score','mean_test_score','params',mean_fit_time]].sort_values('mean_test_score', ascending = False)#, sortedby = 'mean_test_score')"
      ],
      "execution_count": 0,
      "outputs": [
        {
          "output_type": "error",
          "ename": "NameError",
          "evalue": "ignored",
          "traceback": [
            "\u001b[0;31m---------------------------------------------------------------------------\u001b[0m",
            "\u001b[0;31mNameError\u001b[0m                                 Traceback (most recent call last)",
            "\u001b[0;32m<ipython-input-115-161332396b17>\u001b[0m in \u001b[0;36m<module>\u001b[0;34m()\u001b[0m\n\u001b[0;32m----> 1\u001b[0;31m \u001b[0ma\u001b[0m\u001b[0;34m[\u001b[0m\u001b[0;34m[\u001b[0m\u001b[0;34m'mean_train_score'\u001b[0m\u001b[0;34m,\u001b[0m\u001b[0;34m'mean_test_score'\u001b[0m\u001b[0;34m,\u001b[0m\u001b[0;34m'params'\u001b[0m\u001b[0;34m,\u001b[0m\u001b[0mmean_fit_time\u001b[0m\u001b[0;34m]\u001b[0m\u001b[0;34m]\u001b[0m\u001b[0;34m.\u001b[0m\u001b[0msort_values\u001b[0m\u001b[0;34m(\u001b[0m\u001b[0;34m'mean_test_score'\u001b[0m\u001b[0;34m,\u001b[0m \u001b[0mascending\u001b[0m \u001b[0;34m=\u001b[0m \u001b[0;32mFalse\u001b[0m\u001b[0;34m)\u001b[0m\u001b[0;31m#, sortedby = 'mean_test_score')\u001b[0m\u001b[0;34m\u001b[0m\u001b[0;34m\u001b[0m\u001b[0m\n\u001b[0m",
            "\u001b[0;31mNameError\u001b[0m: name 'mean_fit_time' is not defined"
          ]
        }
      ]
    },
    {
      "cell_type": "code",
      "metadata": {
        "id": "vqvdRvaUMsBw",
        "colab_type": "code",
        "outputId": "9797f145-dc2d-4e07-fef2-7c8d11bb4e0b",
        "colab": {
          "base_uri": "https://localhost:8080/",
          "height": 104
        }
      },
      "source": [
        "parameters2 = {'max_depth':[20,30,40], \\\n",
        "              'max_features': ['auto'], 'n_estimators':[200,500]}\n",
        "\n",
        "nmodels2 = np.product([len(el) for el in parameters2.values()])\n",
        "\n",
        "model2 = GridSearchCV(RandomForestRegressor(), parameters2, cv = cv, \\\n",
        "                     scoring = 'neg_median_absolute_error', return_train_score = True, \\\n",
        "    verbose = 2, n_jobs = 4)\n",
        "start = time.time()\n",
        "model2.fit(X[sel,::2], targets)\n",
        "stop = time.time()\n",
        "print('Best params, best score:', \"{:.4f}\".format(model2.best_score_), model2.best_params_),\n",
        "print('Time per model (s):', \"{:.4f}\".format((stop-start)/float(nmodels2*4)))\n"
      ],
      "execution_count": 0,
      "outputs": [
        {
          "output_type": "stream",
          "text": [
            "Fitting 4 folds for each of 6 candidates, totalling 24 fits\n"
          ],
          "name": "stdout"
        },
        {
          "output_type": "stream",
          "text": [
            "[Parallel(n_jobs=4)]: Using backend LokyBackend with 4 concurrent workers.\n",
            "[Parallel(n_jobs=4)]: Done  24 out of  24 | elapsed: 64.9min finished\n"
          ],
          "name": "stderr"
        },
        {
          "output_type": "stream",
          "text": [
            "Best params, best score: -0.3959 {'max_depth': 30, 'max_features': 'auto', 'n_estimators': 200}\n",
            "Time per model (s): 168.6162\n"
          ],
          "name": "stdout"
        }
      ]
    },
    {
      "cell_type": "code",
      "metadata": {
        "id": "icnydBa1tBuB",
        "colab_type": "code",
        "colab": {}
      },
      "source": [
        ""
      ],
      "execution_count": 0,
      "outputs": []
    },
    {
      "cell_type": "code",
      "metadata": {
        "id": "I9nQYQWY7TAX",
        "colab_type": "code",
        "outputId": "e29ba67a-4690-40f9-be30-4587d6e676f1",
        "colab": {
          "base_uri": "https://localhost:8080/",
          "height": 237
        }
      },
      "source": [
        "b = pd.DataFrame(model2.cv_results_)\n",
        "b[['mean_train_score','mean_test_score','params','mean_fit_time']].sort_values('mean_test_score', ascending = False)#, sortedby = 'mean_test_score')"
      ],
      "execution_count": 0,
      "outputs": [
        {
          "output_type": "execute_result",
          "data": {
            "text/html": [
              "<div>\n",
              "<style scoped>\n",
              "    .dataframe tbody tr th:only-of-type {\n",
              "        vertical-align: middle;\n",
              "    }\n",
              "\n",
              "    .dataframe tbody tr th {\n",
              "        vertical-align: top;\n",
              "    }\n",
              "\n",
              "    .dataframe thead th {\n",
              "        text-align: right;\n",
              "    }\n",
              "</style>\n",
              "<table border=\"1\" class=\"dataframe\">\n",
              "  <thead>\n",
              "    <tr style=\"text-align: right;\">\n",
              "      <th></th>\n",
              "      <th>mean_train_score</th>\n",
              "      <th>mean_test_score</th>\n",
              "      <th>params</th>\n",
              "      <th>mean_fit_time</th>\n",
              "    </tr>\n",
              "  </thead>\n",
              "  <tbody>\n",
              "    <tr>\n",
              "      <th>2</th>\n",
              "      <td>-0.146802</td>\n",
              "      <td>-0.395946</td>\n",
              "      <td>{'max_depth': 30, 'max_features': 'auto', 'n_estimators': 200}</td>\n",
              "      <td>369.994167</td>\n",
              "    </tr>\n",
              "    <tr>\n",
              "      <th>4</th>\n",
              "      <td>-0.146782</td>\n",
              "      <td>-0.400436</td>\n",
              "      <td>{'max_depth': 40, 'max_features': 'auto', 'n_estimators': 200}</td>\n",
              "      <td>372.839408</td>\n",
              "    </tr>\n",
              "    <tr>\n",
              "      <th>3</th>\n",
              "      <td>-0.146567</td>\n",
              "      <td>-0.400541</td>\n",
              "      <td>{'max_depth': 30, 'max_features': 'auto', 'n_estimators': 500}</td>\n",
              "      <td>926.055208</td>\n",
              "    </tr>\n",
              "    <tr>\n",
              "      <th>1</th>\n",
              "      <td>-0.147896</td>\n",
              "      <td>-0.401356</td>\n",
              "      <td>{'max_depth': 20, 'max_features': 'auto', 'n_estimators': 500}</td>\n",
              "      <td>923.513032</td>\n",
              "    </tr>\n",
              "    <tr>\n",
              "      <th>0</th>\n",
              "      <td>-0.148202</td>\n",
              "      <td>-0.401552</td>\n",
              "      <td>{'max_depth': 20, 'max_features': 'auto', 'n_estimators': 200}</td>\n",
              "      <td>371.707079</td>\n",
              "    </tr>\n",
              "    <tr>\n",
              "      <th>5</th>\n",
              "      <td>-0.147294</td>\n",
              "      <td>-0.402877</td>\n",
              "      <td>{'max_depth': 40, 'max_features': 'auto', 'n_estimators': 500}</td>\n",
              "      <td>919.583136</td>\n",
              "    </tr>\n",
              "  </tbody>\n",
              "</table>\n",
              "</div>"
            ],
            "text/plain": [
              "   mean_train_score  mean_test_score  \\\n",
              "2         -0.146802        -0.395946   \n",
              "4         -0.146782        -0.400436   \n",
              "3         -0.146567        -0.400541   \n",
              "1         -0.147896        -0.401356   \n",
              "0         -0.148202        -0.401552   \n",
              "5         -0.147294        -0.402877   \n",
              "\n",
              "                                                           params  \\\n",
              "2  {'max_depth': 30, 'max_features': 'auto', 'n_estimators': 200}   \n",
              "4  {'max_depth': 40, 'max_features': 'auto', 'n_estimators': 200}   \n",
              "3  {'max_depth': 30, 'max_features': 'auto', 'n_estimators': 500}   \n",
              "1  {'max_depth': 20, 'max_features': 'auto', 'n_estimators': 500}   \n",
              "0  {'max_depth': 20, 'max_features': 'auto', 'n_estimators': 200}   \n",
              "5  {'max_depth': 40, 'max_features': 'auto', 'n_estimators': 500}   \n",
              "\n",
              "   mean_fit_time  \n",
              "2     369.994167  \n",
              "4     372.839408  \n",
              "3     926.055208  \n",
              "1     923.513032  \n",
              "0     371.707079  \n",
              "5     919.583136  "
            ]
          },
          "metadata": {
            "tags": []
          },
          "execution_count": 116
        }
      ]
    },
    {
      "cell_type": "code",
      "metadata": {
        "id": "TAMn-AtiNyoZ",
        "colab_type": "code",
        "outputId": "f7a93b49-d8d9-4483-fbe8-6ab4acef8a44",
        "colab": {
          "base_uri": "https://localhost:8080/",
          "height": 165
        }
      },
      "source": [
        "smape_scorer = make_scorer(multioutputsmape, greater_is_better = False)"
      ],
      "execution_count": 0,
      "outputs": [
        {
          "output_type": "error",
          "ename": "NameError",
          "evalue": "ignored",
          "traceback": [
            "\u001b[0;31m---------------------------------------------------------------------------\u001b[0m",
            "\u001b[0;31mNameError\u001b[0m                                 Traceback (most recent call last)",
            "\u001b[0;32m<ipython-input-1-92cf83895e8f>\u001b[0m in \u001b[0;36m<module>\u001b[0;34m()\u001b[0m\n\u001b[0;32m----> 1\u001b[0;31m \u001b[0msmape_scorer\u001b[0m \u001b[0;34m=\u001b[0m \u001b[0mmake_scorer\u001b[0m\u001b[0;34m(\u001b[0m\u001b[0mmultioutputsmape\u001b[0m\u001b[0;34m,\u001b[0m \u001b[0mgreater_is_better\u001b[0m \u001b[0;34m=\u001b[0m \u001b[0;32mFalse\u001b[0m\u001b[0;34m)\u001b[0m\u001b[0;34m\u001b[0m\u001b[0;34m\u001b[0m\u001b[0m\n\u001b[0m",
            "\u001b[0;31mNameError\u001b[0m: name 'make_scorer' is not defined"
          ]
        }
      ]
    },
    {
      "cell_type": "code",
      "metadata": {
        "id": "zhZ_x4NsBSoE",
        "colab_type": "code",
        "colab": {}
      },
      "source": [
        "from sklearn.model_selection import learning_curve\n",
        "from sklearn.model_selection import ShuffleSplit"
      ],
      "execution_count": 0,
      "outputs": []
    },
    {
      "cell_type": "code",
      "metadata": {
        "id": "iDnqBw9HAm1A",
        "colab_type": "code",
        "colab": {}
      },
      "source": [
        "#This helps visualize the training vs the test. Will help us visualize and see what would happen if we use more data or if \n",
        "#the data has plateaued. \n",
        "\n",
        "from sklearn.model_selection import learning_curve\n",
        "from sklearn.model_selection import ShuffleSplit\n",
        "\n",
        "\n",
        "def plot_learning_curve(estimator, title, X, y, ylim=None, cv=5,\n",
        "                        n_jobs=-1, train_sizes=np.linspace(.1, 1.0, 5), scoring = 'accuracy'):\n",
        "    \"\"\"\n",
        "    Generate a simple plot of the test and training learning curve.\n",
        "\n",
        "    Parameters\n",
        "    ----------\n",
        "    estimator : object type that implements the \"fit\" and \"predict\" methods\n",
        "        An object of that type which is cloned for each validation.\n",
        "\n",
        "    title : string\n",
        "        Title for the chart.\n",
        "\n",
        "    X : array-like, shape (n_samples, n_features)\n",
        "        Training vector, where n_samples is the number of samples and\n",
        "        n_features is the number of features.\n",
        "\n",
        "    y : array-like, shape (n_samples) or (n_samples, n_features), optional\n",
        "        Target relative to X for classification or regression;\n",
        "        None for unsupervised learning.\n",
        "\n",
        "    ylim : tuple, shape (ymin, ymax), optional\n",
        "        Defines minimum and maximum yvalues plotted.\n",
        "\n",
        "    cv : int, cross-validation generator or an iterable, optional\n",
        "        Determines the cross-validation splitting strategy.\n",
        "        Possible inputs for cv are:\n",
        "          - None, to use the default 3-fold cross-validation,\n",
        "          - integer, to specify the number of folds.\n",
        "          - :term:`CV splitter`,\n",
        "          - An iterable yielding (train, test) splits as arrays of indices.\n",
        "\n",
        "        For integer/None inputs, if ``y`` is binary or multiclass,\n",
        "        :class:`StratifiedKFold` used. If the estimator is not a classifier\n",
        "        or if ``y`` is neither binary nor multiclass, :class:`KFold` is used.\n",
        "\n",
        "        Refer :ref:`User Guide <cross_validation>` for the various\n",
        "        cross-validators that can be used here.\n",
        "\n",
        "    n_jobs : int or None, optional (default=None)\n",
        "        Number of jobs to run in parallel.\n",
        "        ``None`` means 1 unless in a :obj:`joblib.parallel_backend` context.\n",
        "        ``-1`` means using all processors. See :term:`Glossary <n_jobs>`\n",
        "        for more details.\n",
        "\n",
        "    train_sizes : array-like, shape (n_ticks,), dtype float or int\n",
        "        Relative or absolute numbers of training examples that will be used to\n",
        "        generate the learning curve. If the dtype is float, it is regarded as a\n",
        "        fraction of the maximum size of the training set (that is determined\n",
        "        by the selected validation method), i.e. it has to be within (0, 1].\n",
        "        Otherwise it is interpreted as absolute sizes of the training sets.\n",
        "        Note that for classification the number of samples usually have to\n",
        "        be big enough to contain at least one sample from each class.\n",
        "        (default: np.linspace(0.1, 1.0, 5))\n",
        "    \"\"\"\n",
        "    plt.figure(figsize=(10,6))\n",
        "    plt.title(title)\n",
        "    if ylim is not None:\n",
        "        plt.ylim(*ylim)\n",
        "    plt.xlabel(\"Training examples\")\n",
        "    plt.ylabel(\"Score\")\n",
        "    \n",
        "    train_sizes, train_scores, test_scores = learning_curve(\n",
        "        estimator, X, y, cv=cv, n_jobs=n_jobs, train_sizes=train_sizes, scoring = scoring, verbose = 2)\n",
        "    train_scores_mean = np.mean(train_scores, axis=1)\n",
        "    train_scores_std = np.std(train_scores, axis=1)\n",
        "    test_scores_mean = np.mean(test_scores, axis=1)\n",
        "    test_scores_std = np.std(test_scores, axis=1)\n",
        "    plt.grid()\n",
        "\n",
        "    plt.fill_between(train_sizes, train_scores_mean - train_scores_std,\n",
        "                     train_scores_mean + train_scores_std, alpha=0.1,\n",
        "                     color=\"r\")\n",
        "    plt.fill_between(train_sizes, test_scores_mean - test_scores_std,\n",
        "                     test_scores_mean + test_scores_std, alpha=0.1, color=\"g\")\n",
        "    plt.plot(train_sizes, train_scores_mean, 'o-', color=\"r\",\n",
        "             label=\"Training score\")\n",
        "    plt.plot(train_sizes, test_scores_mean, 'o-', color=\"g\",\n",
        "             label=\"Test score from cross-validation\")\n",
        "\n",
        "    plt.legend(loc=\"best\")\n",
        "    return plt"
      ],
      "execution_count": 0,
      "outputs": []
    },
    {
      "cell_type": "code",
      "metadata": {
        "id": "Ryc6gD1rN3Bf",
        "colab_type": "code",
        "colab": {}
      },
      "source": [
        "a.tr"
      ],
      "execution_count": 0,
      "outputs": []
    }
  ]
}